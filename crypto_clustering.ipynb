{
 "cells": [
  {
   "cell_type": "markdown",
   "metadata": {},
   "source": [
    "# Clustering Crypto"
   ]
  },
  {
   "cell_type": "code",
   "execution_count": 237,
   "metadata": {},
   "outputs": [],
   "source": [
    "# Initial imports\n",
    "import pandas as pd\n",
    "import hvplot.pandas\n",
    "from path import Path\n",
    "import plotly.express as px\n",
    "from sklearn.preprocessing import StandardScaler, MinMaxScaler\n",
    "from sklearn.decomposition import PCA\n",
    "from sklearn.cluster import KMeans\n"
   ]
  },
  {
   "cell_type": "markdown",
   "metadata": {},
   "source": [
    "### Deliverable 1: Preprocessing the Data for PCA"
   ]
  },
  {
   "cell_type": "code",
   "execution_count": 238,
   "metadata": {},
   "outputs": [
    {
     "data": {
      "text/html": [
       "<div>\n",
       "<style scoped>\n",
       "    .dataframe tbody tr th:only-of-type {\n",
       "        vertical-align: middle;\n",
       "    }\n",
       "\n",
       "    .dataframe tbody tr th {\n",
       "        vertical-align: top;\n",
       "    }\n",
       "\n",
       "    .dataframe thead th {\n",
       "        text-align: right;\n",
       "    }\n",
       "</style>\n",
       "<table border=\"1\" class=\"dataframe\">\n",
       "  <thead>\n",
       "    <tr style=\"text-align: right;\">\n",
       "      <th></th>\n",
       "      <th>CoinName</th>\n",
       "      <th>Algorithm</th>\n",
       "      <th>IsTrading</th>\n",
       "      <th>ProofType</th>\n",
       "      <th>TotalCoinsMined</th>\n",
       "      <th>TotalCoinSupply</th>\n",
       "    </tr>\n",
       "  </thead>\n",
       "  <tbody>\n",
       "    <tr>\n",
       "      <th>42</th>\n",
       "      <td>42 Coin</td>\n",
       "      <td>Scrypt</td>\n",
       "      <td>True</td>\n",
       "      <td>PoW/PoS</td>\n",
       "      <td>4.199995e+01</td>\n",
       "      <td>42</td>\n",
       "    </tr>\n",
       "    <tr>\n",
       "      <th>365</th>\n",
       "      <td>365Coin</td>\n",
       "      <td>X11</td>\n",
       "      <td>True</td>\n",
       "      <td>PoW/PoS</td>\n",
       "      <td>NaN</td>\n",
       "      <td>2300000000</td>\n",
       "    </tr>\n",
       "    <tr>\n",
       "      <th>404</th>\n",
       "      <td>404Coin</td>\n",
       "      <td>Scrypt</td>\n",
       "      <td>True</td>\n",
       "      <td>PoW/PoS</td>\n",
       "      <td>1.055185e+09</td>\n",
       "      <td>532000000</td>\n",
       "    </tr>\n",
       "    <tr>\n",
       "      <th>611</th>\n",
       "      <td>SixEleven</td>\n",
       "      <td>SHA-256</td>\n",
       "      <td>True</td>\n",
       "      <td>PoW</td>\n",
       "      <td>NaN</td>\n",
       "      <td>611000</td>\n",
       "    </tr>\n",
       "    <tr>\n",
       "      <th>808</th>\n",
       "      <td>808</td>\n",
       "      <td>SHA-256</td>\n",
       "      <td>True</td>\n",
       "      <td>PoW/PoS</td>\n",
       "      <td>0.000000e+00</td>\n",
       "      <td>0</td>\n",
       "    </tr>\n",
       "    <tr>\n",
       "      <th>1337</th>\n",
       "      <td>EliteCoin</td>\n",
       "      <td>X13</td>\n",
       "      <td>True</td>\n",
       "      <td>PoW/PoS</td>\n",
       "      <td>2.927942e+10</td>\n",
       "      <td>314159265359</td>\n",
       "    </tr>\n",
       "    <tr>\n",
       "      <th>2015</th>\n",
       "      <td>2015 coin</td>\n",
       "      <td>X11</td>\n",
       "      <td>True</td>\n",
       "      <td>PoW/PoS</td>\n",
       "      <td>NaN</td>\n",
       "      <td>0</td>\n",
       "    </tr>\n",
       "    <tr>\n",
       "      <th>BTC</th>\n",
       "      <td>Bitcoin</td>\n",
       "      <td>SHA-256</td>\n",
       "      <td>True</td>\n",
       "      <td>PoW</td>\n",
       "      <td>1.792718e+07</td>\n",
       "      <td>21000000</td>\n",
       "    </tr>\n",
       "    <tr>\n",
       "      <th>ETH</th>\n",
       "      <td>Ethereum</td>\n",
       "      <td>Ethash</td>\n",
       "      <td>True</td>\n",
       "      <td>PoW</td>\n",
       "      <td>1.076842e+08</td>\n",
       "      <td>0</td>\n",
       "    </tr>\n",
       "    <tr>\n",
       "      <th>LTC</th>\n",
       "      <td>Litecoin</td>\n",
       "      <td>Scrypt</td>\n",
       "      <td>True</td>\n",
       "      <td>PoW</td>\n",
       "      <td>6.303924e+07</td>\n",
       "      <td>84000000</td>\n",
       "    </tr>\n",
       "  </tbody>\n",
       "</table>\n",
       "</div>"
      ],
      "text/plain": [
       "       CoinName Algorithm  IsTrading ProofType  TotalCoinsMined  \\\n",
       "42      42 Coin    Scrypt       True   PoW/PoS     4.199995e+01   \n",
       "365     365Coin       X11       True   PoW/PoS              NaN   \n",
       "404     404Coin    Scrypt       True   PoW/PoS     1.055185e+09   \n",
       "611   SixEleven   SHA-256       True       PoW              NaN   \n",
       "808         808   SHA-256       True   PoW/PoS     0.000000e+00   \n",
       "1337  EliteCoin       X13       True   PoW/PoS     2.927942e+10   \n",
       "2015  2015 coin       X11       True   PoW/PoS              NaN   \n",
       "BTC     Bitcoin   SHA-256       True       PoW     1.792718e+07   \n",
       "ETH    Ethereum    Ethash       True       PoW     1.076842e+08   \n",
       "LTC    Litecoin    Scrypt       True       PoW     6.303924e+07   \n",
       "\n",
       "     TotalCoinSupply  \n",
       "42                42  \n",
       "365       2300000000  \n",
       "404        532000000  \n",
       "611           611000  \n",
       "808                0  \n",
       "1337    314159265359  \n",
       "2015               0  \n",
       "BTC         21000000  \n",
       "ETH                0  \n",
       "LTC         84000000  "
      ]
     },
     "execution_count": 238,
     "metadata": {},
     "output_type": "execute_result"
    }
   ],
   "source": [
    "# Read in the crypto_data.csv to the Pandas DataFrame named crypto_df\n",
    "file_path = Path(\"./crypto_data.csv\")\n",
    "crypto_df = pd.read_csv(file_path, index_col=0)\n",
    "crypto_df.head(10)"
   ]
  },
  {
   "cell_type": "code",
   "execution_count": 239,
   "metadata": {},
   "outputs": [
    {
     "data": {
      "text/plain": [
       "CoinName            object\n",
       "Algorithm           object\n",
       "IsTrading             bool\n",
       "ProofType           object\n",
       "TotalCoinsMined    float64\n",
       "TotalCoinSupply     object\n",
       "dtype: object"
      ]
     },
     "execution_count": 239,
     "metadata": {},
     "output_type": "execute_result"
    }
   ],
   "source": [
    "crypto_df.dtypes"
   ]
  },
  {
   "cell_type": "code",
   "execution_count": 240,
   "metadata": {},
   "outputs": [
    {
     "data": {
      "text/html": [
       "<div>\n",
       "<style scoped>\n",
       "    .dataframe tbody tr th:only-of-type {\n",
       "        vertical-align: middle;\n",
       "    }\n",
       "\n",
       "    .dataframe tbody tr th {\n",
       "        vertical-align: top;\n",
       "    }\n",
       "\n",
       "    .dataframe thead th {\n",
       "        text-align: right;\n",
       "    }\n",
       "</style>\n",
       "<table border=\"1\" class=\"dataframe\">\n",
       "  <thead>\n",
       "    <tr style=\"text-align: right;\">\n",
       "      <th></th>\n",
       "      <th>CoinName</th>\n",
       "      <th>Algorithm</th>\n",
       "      <th>IsTrading</th>\n",
       "      <th>ProofType</th>\n",
       "      <th>TotalCoinsMined</th>\n",
       "      <th>TotalCoinSupply</th>\n",
       "    </tr>\n",
       "  </thead>\n",
       "  <tbody>\n",
       "    <tr>\n",
       "      <th>42</th>\n",
       "      <td>42 Coin</td>\n",
       "      <td>Scrypt</td>\n",
       "      <td>True</td>\n",
       "      <td>PoW/PoS</td>\n",
       "      <td>4.199995e+01</td>\n",
       "      <td>42</td>\n",
       "    </tr>\n",
       "    <tr>\n",
       "      <th>365</th>\n",
       "      <td>365Coin</td>\n",
       "      <td>X11</td>\n",
       "      <td>True</td>\n",
       "      <td>PoW/PoS</td>\n",
       "      <td>NaN</td>\n",
       "      <td>2300000000</td>\n",
       "    </tr>\n",
       "    <tr>\n",
       "      <th>404</th>\n",
       "      <td>404Coin</td>\n",
       "      <td>Scrypt</td>\n",
       "      <td>True</td>\n",
       "      <td>PoW/PoS</td>\n",
       "      <td>1.055185e+09</td>\n",
       "      <td>532000000</td>\n",
       "    </tr>\n",
       "    <tr>\n",
       "      <th>611</th>\n",
       "      <td>SixEleven</td>\n",
       "      <td>SHA-256</td>\n",
       "      <td>True</td>\n",
       "      <td>PoW</td>\n",
       "      <td>NaN</td>\n",
       "      <td>611000</td>\n",
       "    </tr>\n",
       "    <tr>\n",
       "      <th>808</th>\n",
       "      <td>808</td>\n",
       "      <td>SHA-256</td>\n",
       "      <td>True</td>\n",
       "      <td>PoW/PoS</td>\n",
       "      <td>0.000000e+00</td>\n",
       "      <td>0</td>\n",
       "    </tr>\n",
       "  </tbody>\n",
       "</table>\n",
       "</div>"
      ],
      "text/plain": [
       "      CoinName Algorithm  IsTrading ProofType  TotalCoinsMined TotalCoinSupply\n",
       "42     42 Coin    Scrypt       True   PoW/PoS     4.199995e+01              42\n",
       "365    365Coin       X11       True   PoW/PoS              NaN      2300000000\n",
       "404    404Coin    Scrypt       True   PoW/PoS     1.055185e+09       532000000\n",
       "611  SixEleven   SHA-256       True       PoW              NaN          611000\n",
       "808        808   SHA-256       True   PoW/PoS     0.000000e+00               0"
      ]
     },
     "execution_count": 240,
     "metadata": {},
     "output_type": "execute_result"
    }
   ],
   "source": [
    "# Keep all the cryptocurrencies that are being traded.\n",
    "df_crypto = crypto_df[crypto_df['IsTrading'] == True]\n",
    "df_crypto.head()"
   ]
  },
  {
   "cell_type": "code",
   "execution_count": 241,
   "metadata": {},
   "outputs": [
    {
     "data": {
      "text/html": [
       "<div>\n",
       "<style scoped>\n",
       "    .dataframe tbody tr th:only-of-type {\n",
       "        vertical-align: middle;\n",
       "    }\n",
       "\n",
       "    .dataframe tbody tr th {\n",
       "        vertical-align: top;\n",
       "    }\n",
       "\n",
       "    .dataframe thead th {\n",
       "        text-align: right;\n",
       "    }\n",
       "</style>\n",
       "<table border=\"1\" class=\"dataframe\">\n",
       "  <thead>\n",
       "    <tr style=\"text-align: right;\">\n",
       "      <th></th>\n",
       "      <th>CoinName</th>\n",
       "      <th>Algorithm</th>\n",
       "      <th>IsTrading</th>\n",
       "      <th>ProofType</th>\n",
       "      <th>TotalCoinsMined</th>\n",
       "      <th>TotalCoinSupply</th>\n",
       "    </tr>\n",
       "  </thead>\n",
       "  <tbody>\n",
       "    <tr>\n",
       "      <th>42</th>\n",
       "      <td>42 Coin</td>\n",
       "      <td>Scrypt</td>\n",
       "      <td>True</td>\n",
       "      <td>PoW/PoS</td>\n",
       "      <td>4.199995e+01</td>\n",
       "      <td>42</td>\n",
       "    </tr>\n",
       "    <tr>\n",
       "      <th>365</th>\n",
       "      <td>365Coin</td>\n",
       "      <td>X11</td>\n",
       "      <td>True</td>\n",
       "      <td>PoW/PoS</td>\n",
       "      <td>NaN</td>\n",
       "      <td>2300000000</td>\n",
       "    </tr>\n",
       "    <tr>\n",
       "      <th>404</th>\n",
       "      <td>404Coin</td>\n",
       "      <td>Scrypt</td>\n",
       "      <td>True</td>\n",
       "      <td>PoW/PoS</td>\n",
       "      <td>1.055185e+09</td>\n",
       "      <td>532000000</td>\n",
       "    </tr>\n",
       "    <tr>\n",
       "      <th>611</th>\n",
       "      <td>SixEleven</td>\n",
       "      <td>SHA-256</td>\n",
       "      <td>True</td>\n",
       "      <td>PoW</td>\n",
       "      <td>NaN</td>\n",
       "      <td>611000</td>\n",
       "    </tr>\n",
       "    <tr>\n",
       "      <th>808</th>\n",
       "      <td>808</td>\n",
       "      <td>SHA-256</td>\n",
       "      <td>True</td>\n",
       "      <td>PoW/PoS</td>\n",
       "      <td>0.000000e+00</td>\n",
       "      <td>0</td>\n",
       "    </tr>\n",
       "  </tbody>\n",
       "</table>\n",
       "</div>"
      ],
      "text/plain": [
       "      CoinName Algorithm  IsTrading ProofType  TotalCoinsMined TotalCoinSupply\n",
       "42     42 Coin    Scrypt       True   PoW/PoS     4.199995e+01              42\n",
       "365    365Coin       X11       True   PoW/PoS              NaN      2300000000\n",
       "404    404Coin    Scrypt       True   PoW/PoS     1.055185e+09       532000000\n",
       "611  SixEleven   SHA-256       True       PoW              NaN          611000\n",
       "808        808   SHA-256       True   PoW/PoS     0.000000e+00               0"
      ]
     },
     "execution_count": 241,
     "metadata": {},
     "output_type": "execute_result"
    }
   ],
   "source": [
    "# Keep all the cryptocurrencies that have a working algorithm.\n",
    "df_crypto = df_crypto[df_crypto['Algorithm'].isna() == False]\n",
    "df_crypto.head()"
   ]
  },
  {
   "cell_type": "code",
   "execution_count": 242,
   "metadata": {},
   "outputs": [
    {
     "data": {
      "text/html": [
       "<div>\n",
       "<style scoped>\n",
       "    .dataframe tbody tr th:only-of-type {\n",
       "        vertical-align: middle;\n",
       "    }\n",
       "\n",
       "    .dataframe tbody tr th {\n",
       "        vertical-align: top;\n",
       "    }\n",
       "\n",
       "    .dataframe thead th {\n",
       "        text-align: right;\n",
       "    }\n",
       "</style>\n",
       "<table border=\"1\" class=\"dataframe\">\n",
       "  <thead>\n",
       "    <tr style=\"text-align: right;\">\n",
       "      <th></th>\n",
       "      <th>CoinName</th>\n",
       "      <th>Algorithm</th>\n",
       "      <th>ProofType</th>\n",
       "      <th>TotalCoinsMined</th>\n",
       "      <th>TotalCoinSupply</th>\n",
       "    </tr>\n",
       "  </thead>\n",
       "  <tbody>\n",
       "    <tr>\n",
       "      <th>42</th>\n",
       "      <td>42 Coin</td>\n",
       "      <td>Scrypt</td>\n",
       "      <td>PoW/PoS</td>\n",
       "      <td>4.199995e+01</td>\n",
       "      <td>42</td>\n",
       "    </tr>\n",
       "    <tr>\n",
       "      <th>365</th>\n",
       "      <td>365Coin</td>\n",
       "      <td>X11</td>\n",
       "      <td>PoW/PoS</td>\n",
       "      <td>NaN</td>\n",
       "      <td>2300000000</td>\n",
       "    </tr>\n",
       "    <tr>\n",
       "      <th>404</th>\n",
       "      <td>404Coin</td>\n",
       "      <td>Scrypt</td>\n",
       "      <td>PoW/PoS</td>\n",
       "      <td>1.055185e+09</td>\n",
       "      <td>532000000</td>\n",
       "    </tr>\n",
       "    <tr>\n",
       "      <th>611</th>\n",
       "      <td>SixEleven</td>\n",
       "      <td>SHA-256</td>\n",
       "      <td>PoW</td>\n",
       "      <td>NaN</td>\n",
       "      <td>611000</td>\n",
       "    </tr>\n",
       "    <tr>\n",
       "      <th>808</th>\n",
       "      <td>808</td>\n",
       "      <td>SHA-256</td>\n",
       "      <td>PoW/PoS</td>\n",
       "      <td>0.000000e+00</td>\n",
       "      <td>0</td>\n",
       "    </tr>\n",
       "  </tbody>\n",
       "</table>\n",
       "</div>"
      ],
      "text/plain": [
       "      CoinName Algorithm ProofType  TotalCoinsMined TotalCoinSupply\n",
       "42     42 Coin    Scrypt   PoW/PoS     4.199995e+01              42\n",
       "365    365Coin       X11   PoW/PoS              NaN      2300000000\n",
       "404    404Coin    Scrypt   PoW/PoS     1.055185e+09       532000000\n",
       "611  SixEleven   SHA-256       PoW              NaN          611000\n",
       "808        808   SHA-256   PoW/PoS     0.000000e+00               0"
      ]
     },
     "execution_count": 242,
     "metadata": {},
     "output_type": "execute_result"
    }
   ],
   "source": [
    "# Remove the \"IsTrading\" column. \n",
    "df_crypto.drop(columns=[\"IsTrading\"], inplace=True)\n",
    "df_crypto.head()"
   ]
  },
  {
   "cell_type": "code",
   "execution_count": 243,
   "metadata": {},
   "outputs": [
    {
     "data": {
      "text/html": [
       "<div>\n",
       "<style scoped>\n",
       "    .dataframe tbody tr th:only-of-type {\n",
       "        vertical-align: middle;\n",
       "    }\n",
       "\n",
       "    .dataframe tbody tr th {\n",
       "        vertical-align: top;\n",
       "    }\n",
       "\n",
       "    .dataframe thead th {\n",
       "        text-align: right;\n",
       "    }\n",
       "</style>\n",
       "<table border=\"1\" class=\"dataframe\">\n",
       "  <thead>\n",
       "    <tr style=\"text-align: right;\">\n",
       "      <th></th>\n",
       "      <th>CoinName</th>\n",
       "      <th>Algorithm</th>\n",
       "      <th>ProofType</th>\n",
       "      <th>TotalCoinsMined</th>\n",
       "      <th>TotalCoinSupply</th>\n",
       "    </tr>\n",
       "  </thead>\n",
       "  <tbody>\n",
       "    <tr>\n",
       "      <th>42</th>\n",
       "      <td>42 Coin</td>\n",
       "      <td>Scrypt</td>\n",
       "      <td>PoW/PoS</td>\n",
       "      <td>4.199995e+01</td>\n",
       "      <td>42</td>\n",
       "    </tr>\n",
       "    <tr>\n",
       "      <th>404</th>\n",
       "      <td>404Coin</td>\n",
       "      <td>Scrypt</td>\n",
       "      <td>PoW/PoS</td>\n",
       "      <td>1.055185e+09</td>\n",
       "      <td>532000000</td>\n",
       "    </tr>\n",
       "    <tr>\n",
       "      <th>808</th>\n",
       "      <td>808</td>\n",
       "      <td>SHA-256</td>\n",
       "      <td>PoW/PoS</td>\n",
       "      <td>0.000000e+00</td>\n",
       "      <td>0</td>\n",
       "    </tr>\n",
       "    <tr>\n",
       "      <th>1337</th>\n",
       "      <td>EliteCoin</td>\n",
       "      <td>X13</td>\n",
       "      <td>PoW/PoS</td>\n",
       "      <td>2.927942e+10</td>\n",
       "      <td>314159265359</td>\n",
       "    </tr>\n",
       "    <tr>\n",
       "      <th>BTC</th>\n",
       "      <td>Bitcoin</td>\n",
       "      <td>SHA-256</td>\n",
       "      <td>PoW</td>\n",
       "      <td>1.792718e+07</td>\n",
       "      <td>21000000</td>\n",
       "    </tr>\n",
       "  </tbody>\n",
       "</table>\n",
       "</div>"
      ],
      "text/plain": [
       "       CoinName Algorithm ProofType  TotalCoinsMined TotalCoinSupply\n",
       "42      42 Coin    Scrypt   PoW/PoS     4.199995e+01              42\n",
       "404     404Coin    Scrypt   PoW/PoS     1.055185e+09       532000000\n",
       "808         808   SHA-256   PoW/PoS     0.000000e+00               0\n",
       "1337  EliteCoin       X13   PoW/PoS     2.927942e+10    314159265359\n",
       "BTC     Bitcoin   SHA-256       PoW     1.792718e+07        21000000"
      ]
     },
     "execution_count": 243,
     "metadata": {},
     "output_type": "execute_result"
    }
   ],
   "source": [
    "# Remove rows that have at least 1 null value.\n",
    "df_crypto = df_crypto.dropna()\n",
    "df_crypto.head()"
   ]
  },
  {
   "cell_type": "code",
   "execution_count": 244,
   "metadata": {},
   "outputs": [
    {
     "data": {
      "text/html": [
       "<div>\n",
       "<style scoped>\n",
       "    .dataframe tbody tr th:only-of-type {\n",
       "        vertical-align: middle;\n",
       "    }\n",
       "\n",
       "    .dataframe tbody tr th {\n",
       "        vertical-align: top;\n",
       "    }\n",
       "\n",
       "    .dataframe thead th {\n",
       "        text-align: right;\n",
       "    }\n",
       "</style>\n",
       "<table border=\"1\" class=\"dataframe\">\n",
       "  <thead>\n",
       "    <tr style=\"text-align: right;\">\n",
       "      <th></th>\n",
       "      <th>CoinName</th>\n",
       "      <th>Algorithm</th>\n",
       "      <th>ProofType</th>\n",
       "      <th>TotalCoinsMined</th>\n",
       "      <th>TotalCoinSupply</th>\n",
       "    </tr>\n",
       "  </thead>\n",
       "  <tbody>\n",
       "    <tr>\n",
       "      <th>42</th>\n",
       "      <td>42 Coin</td>\n",
       "      <td>Scrypt</td>\n",
       "      <td>PoW/PoS</td>\n",
       "      <td>4.199995e+01</td>\n",
       "      <td>42</td>\n",
       "    </tr>\n",
       "    <tr>\n",
       "      <th>404</th>\n",
       "      <td>404Coin</td>\n",
       "      <td>Scrypt</td>\n",
       "      <td>PoW/PoS</td>\n",
       "      <td>1.055185e+09</td>\n",
       "      <td>532000000</td>\n",
       "    </tr>\n",
       "    <tr>\n",
       "      <th>1337</th>\n",
       "      <td>EliteCoin</td>\n",
       "      <td>X13</td>\n",
       "      <td>PoW/PoS</td>\n",
       "      <td>2.927942e+10</td>\n",
       "      <td>314159265359</td>\n",
       "    </tr>\n",
       "    <tr>\n",
       "      <th>BTC</th>\n",
       "      <td>Bitcoin</td>\n",
       "      <td>SHA-256</td>\n",
       "      <td>PoW</td>\n",
       "      <td>1.792718e+07</td>\n",
       "      <td>21000000</td>\n",
       "    </tr>\n",
       "    <tr>\n",
       "      <th>ETH</th>\n",
       "      <td>Ethereum</td>\n",
       "      <td>Ethash</td>\n",
       "      <td>PoW</td>\n",
       "      <td>1.076842e+08</td>\n",
       "      <td>0</td>\n",
       "    </tr>\n",
       "  </tbody>\n",
       "</table>\n",
       "</div>"
      ],
      "text/plain": [
       "       CoinName Algorithm ProofType  TotalCoinsMined TotalCoinSupply\n",
       "42      42 Coin    Scrypt   PoW/PoS     4.199995e+01              42\n",
       "404     404Coin    Scrypt   PoW/PoS     1.055185e+09       532000000\n",
       "1337  EliteCoin       X13   PoW/PoS     2.927942e+10    314159265359\n",
       "BTC     Bitcoin   SHA-256       PoW     1.792718e+07        21000000\n",
       "ETH    Ethereum    Ethash       PoW     1.076842e+08               0"
      ]
     },
     "execution_count": 244,
     "metadata": {},
     "output_type": "execute_result"
    }
   ],
   "source": [
    "# Keep the rows where coins are mined.\n",
    "df_crypto = df_crypto.loc[df_crypto['TotalCoinsMined'] > 0]\n",
    "df_crypto.head()"
   ]
  },
  {
   "cell_type": "code",
   "execution_count": 245,
   "metadata": {},
   "outputs": [
    {
     "data": {
      "text/html": [
       "<div>\n",
       "<style scoped>\n",
       "    .dataframe tbody tr th:only-of-type {\n",
       "        vertical-align: middle;\n",
       "    }\n",
       "\n",
       "    .dataframe tbody tr th {\n",
       "        vertical-align: top;\n",
       "    }\n",
       "\n",
       "    .dataframe thead th {\n",
       "        text-align: right;\n",
       "    }\n",
       "</style>\n",
       "<table border=\"1\" class=\"dataframe\">\n",
       "  <thead>\n",
       "    <tr style=\"text-align: right;\">\n",
       "      <th></th>\n",
       "      <th>CoinName</th>\n",
       "    </tr>\n",
       "  </thead>\n",
       "  <tbody>\n",
       "    <tr>\n",
       "      <th>42</th>\n",
       "      <td>42 Coin</td>\n",
       "    </tr>\n",
       "    <tr>\n",
       "      <th>404</th>\n",
       "      <td>404Coin</td>\n",
       "    </tr>\n",
       "    <tr>\n",
       "      <th>1337</th>\n",
       "      <td>EliteCoin</td>\n",
       "    </tr>\n",
       "    <tr>\n",
       "      <th>BTC</th>\n",
       "      <td>Bitcoin</td>\n",
       "    </tr>\n",
       "    <tr>\n",
       "      <th>ETH</th>\n",
       "      <td>Ethereum</td>\n",
       "    </tr>\n",
       "  </tbody>\n",
       "</table>\n",
       "</div>"
      ],
      "text/plain": [
       "       CoinName\n",
       "42      42 Coin\n",
       "404     404Coin\n",
       "1337  EliteCoin\n",
       "BTC     Bitcoin\n",
       "ETH    Ethereum"
      ]
     },
     "execution_count": 245,
     "metadata": {},
     "output_type": "execute_result"
    }
   ],
   "source": [
    "# Create a new DataFrame that holds only the cryptocurrencies names.\n",
    "crypto_names = df_crypto[[\"CoinName\"]]\n",
    "crypto_names.head()"
   ]
  },
  {
   "cell_type": "code",
   "execution_count": 246,
   "metadata": {},
   "outputs": [
    {
     "data": {
      "text/html": [
       "<div>\n",
       "<style scoped>\n",
       "    .dataframe tbody tr th:only-of-type {\n",
       "        vertical-align: middle;\n",
       "    }\n",
       "\n",
       "    .dataframe tbody tr th {\n",
       "        vertical-align: top;\n",
       "    }\n",
       "\n",
       "    .dataframe thead th {\n",
       "        text-align: right;\n",
       "    }\n",
       "</style>\n",
       "<table border=\"1\" class=\"dataframe\">\n",
       "  <thead>\n",
       "    <tr style=\"text-align: right;\">\n",
       "      <th></th>\n",
       "      <th>Algorithm</th>\n",
       "      <th>ProofType</th>\n",
       "      <th>TotalCoinsMined</th>\n",
       "      <th>TotalCoinSupply</th>\n",
       "    </tr>\n",
       "  </thead>\n",
       "  <tbody>\n",
       "    <tr>\n",
       "      <th>42</th>\n",
       "      <td>Scrypt</td>\n",
       "      <td>PoW/PoS</td>\n",
       "      <td>4.199995e+01</td>\n",
       "      <td>42</td>\n",
       "    </tr>\n",
       "    <tr>\n",
       "      <th>404</th>\n",
       "      <td>Scrypt</td>\n",
       "      <td>PoW/PoS</td>\n",
       "      <td>1.055185e+09</td>\n",
       "      <td>532000000</td>\n",
       "    </tr>\n",
       "    <tr>\n",
       "      <th>1337</th>\n",
       "      <td>X13</td>\n",
       "      <td>PoW/PoS</td>\n",
       "      <td>2.927942e+10</td>\n",
       "      <td>314159265359</td>\n",
       "    </tr>\n",
       "    <tr>\n",
       "      <th>BTC</th>\n",
       "      <td>SHA-256</td>\n",
       "      <td>PoW</td>\n",
       "      <td>1.792718e+07</td>\n",
       "      <td>21000000</td>\n",
       "    </tr>\n",
       "    <tr>\n",
       "      <th>ETH</th>\n",
       "      <td>Ethash</td>\n",
       "      <td>PoW</td>\n",
       "      <td>1.076842e+08</td>\n",
       "      <td>0</td>\n",
       "    </tr>\n",
       "    <tr>\n",
       "      <th>LTC</th>\n",
       "      <td>Scrypt</td>\n",
       "      <td>PoW</td>\n",
       "      <td>6.303924e+07</td>\n",
       "      <td>84000000</td>\n",
       "    </tr>\n",
       "    <tr>\n",
       "      <th>DASH</th>\n",
       "      <td>X11</td>\n",
       "      <td>PoW/PoS</td>\n",
       "      <td>9.031294e+06</td>\n",
       "      <td>22000000</td>\n",
       "    </tr>\n",
       "    <tr>\n",
       "      <th>XMR</th>\n",
       "      <td>CryptoNight-V7</td>\n",
       "      <td>PoW</td>\n",
       "      <td>1.720114e+07</td>\n",
       "      <td>0</td>\n",
       "    </tr>\n",
       "    <tr>\n",
       "      <th>ETC</th>\n",
       "      <td>Ethash</td>\n",
       "      <td>PoW</td>\n",
       "      <td>1.133597e+08</td>\n",
       "      <td>210000000</td>\n",
       "    </tr>\n",
       "    <tr>\n",
       "      <th>ZEC</th>\n",
       "      <td>Equihash</td>\n",
       "      <td>PoW</td>\n",
       "      <td>7.383056e+06</td>\n",
       "      <td>21000000</td>\n",
       "    </tr>\n",
       "    <tr>\n",
       "      <th>BTS</th>\n",
       "      <td>SHA-512</td>\n",
       "      <td>PoS</td>\n",
       "      <td>2.741570e+09</td>\n",
       "      <td>3600570502</td>\n",
       "    </tr>\n",
       "    <tr>\n",
       "      <th>DGB</th>\n",
       "      <td>Multiple</td>\n",
       "      <td>PoW</td>\n",
       "      <td>1.140622e+10</td>\n",
       "      <td>21000000000</td>\n",
       "    </tr>\n",
       "    <tr>\n",
       "      <th>BTCD</th>\n",
       "      <td>SHA-256</td>\n",
       "      <td>PoW/PoS</td>\n",
       "      <td>1.288862e+06</td>\n",
       "      <td>22000000</td>\n",
       "    </tr>\n",
       "    <tr>\n",
       "      <th>XPY</th>\n",
       "      <td>SHA-256</td>\n",
       "      <td>PoS</td>\n",
       "      <td>1.199533e+07</td>\n",
       "      <td>12500000</td>\n",
       "    </tr>\n",
       "    <tr>\n",
       "      <th>PRC</th>\n",
       "      <td>Scrypt</td>\n",
       "      <td>PoW</td>\n",
       "      <td>5.768310e+06</td>\n",
       "      <td>21000000</td>\n",
       "    </tr>\n",
       "    <tr>\n",
       "      <th>KOBO</th>\n",
       "      <td>X15</td>\n",
       "      <td>PoW/PoS</td>\n",
       "      <td>2.554254e+07</td>\n",
       "      <td>350000000</td>\n",
       "    </tr>\n",
       "    <tr>\n",
       "      <th>SPR</th>\n",
       "      <td>X11</td>\n",
       "      <td>PoW</td>\n",
       "      <td>1.114973e+07</td>\n",
       "      <td>20000000</td>\n",
       "    </tr>\n",
       "    <tr>\n",
       "      <th>ARG</th>\n",
       "      <td>Scrypt</td>\n",
       "      <td>PoW</td>\n",
       "      <td>1.220580e+07</td>\n",
       "      <td>64000000</td>\n",
       "    </tr>\n",
       "    <tr>\n",
       "      <th>AUR</th>\n",
       "      <td>Scrypt</td>\n",
       "      <td>PoW/PoS</td>\n",
       "      <td>1.813510e+07</td>\n",
       "      <td>16768584</td>\n",
       "    </tr>\n",
       "    <tr>\n",
       "      <th>BLU</th>\n",
       "      <td>Scrypt</td>\n",
       "      <td>PoW/PoS</td>\n",
       "      <td>6.354239e+08</td>\n",
       "      <td>0</td>\n",
       "    </tr>\n",
       "  </tbody>\n",
       "</table>\n",
       "</div>"
      ],
      "text/plain": [
       "           Algorithm ProofType  TotalCoinsMined TotalCoinSupply\n",
       "42            Scrypt   PoW/PoS     4.199995e+01              42\n",
       "404           Scrypt   PoW/PoS     1.055185e+09       532000000\n",
       "1337             X13   PoW/PoS     2.927942e+10    314159265359\n",
       "BTC          SHA-256       PoW     1.792718e+07        21000000\n",
       "ETH           Ethash       PoW     1.076842e+08               0\n",
       "LTC           Scrypt       PoW     6.303924e+07        84000000\n",
       "DASH             X11   PoW/PoS     9.031294e+06        22000000\n",
       "XMR   CryptoNight-V7       PoW     1.720114e+07               0\n",
       "ETC           Ethash       PoW     1.133597e+08       210000000\n",
       "ZEC         Equihash       PoW     7.383056e+06        21000000\n",
       "BTS          SHA-512       PoS     2.741570e+09      3600570502\n",
       "DGB         Multiple       PoW     1.140622e+10     21000000000\n",
       "BTCD         SHA-256   PoW/PoS     1.288862e+06        22000000\n",
       "XPY          SHA-256       PoS     1.199533e+07        12500000\n",
       "PRC           Scrypt       PoW     5.768310e+06        21000000\n",
       "KOBO             X15   PoW/PoS     2.554254e+07       350000000\n",
       "SPR              X11       PoW     1.114973e+07        20000000\n",
       "ARG           Scrypt       PoW     1.220580e+07        64000000\n",
       "AUR           Scrypt   PoW/PoS     1.813510e+07        16768584\n",
       "BLU           Scrypt   PoW/PoS     6.354239e+08               0"
      ]
     },
     "execution_count": 246,
     "metadata": {},
     "output_type": "execute_result"
    }
   ],
   "source": [
    "# Drop the 'CoinName' column since it's not going to be used on the clustering algorithm.\n",
    "df_crypto = df_crypto.drop(['CoinName'], axis=1)\n",
    "df_crypto.head(20)"
   ]
  },
  {
   "cell_type": "code",
   "execution_count": 247,
   "metadata": {},
   "outputs": [
    {
     "data": {
      "text/plain": [
       "array(['1GB AES Pattern Search', '536', 'Argon2d', 'BLAKE256', 'Blake',\n",
       "       'Blake2S', 'Blake2b', 'C11', 'Cloverhash', 'Counterparty',\n",
       "       'CryptoNight', 'CryptoNight Heavy', 'CryptoNight-V7',\n",
       "       'Cryptonight-GPU', 'DPoS', 'Dagger', 'Dagger-Hashimoto',\n",
       "       'ECC 256K1', 'Equihash', 'Equihash+Scrypt', 'Ethash', 'Exosis',\n",
       "       'Green Protocol', 'Groestl', 'HMQ1725', 'HybridScryptHash256',\n",
       "       'IMesh', 'Jump Consistent Hash', 'Keccak', 'Leased POS', 'Lyra2RE',\n",
       "       'Lyra2REv2', 'Lyra2Z', 'M7 POW', 'Multiple', 'NIST5', 'NeoScrypt',\n",
       "       'Ouroboros', 'PHI1612', 'POS 2.0', 'POS 3.0', 'PoS',\n",
       "       'Proof-of-Authority', 'Proof-of-BibleHash', 'QUAIT', 'QuBit',\n",
       "       'Quark', 'SHA-256', 'SHA-256 + Hive', 'SHA-256D', 'SHA-512',\n",
       "       'SHA3', 'Scrypt', 'Semux BFT consensus', 'Shabal256', 'Skein',\n",
       "       'SkunkHash', 'SkunkHash v2 Raptor', 'Stanford Folding', 'TRC10',\n",
       "       'Time Travel', 'Tribus', 'VBFT', 'VeChainThor Authority', 'X11',\n",
       "       'X11GOST', 'X13', 'X14', 'X15', 'X16R', 'XEVAN'], dtype=object)"
      ]
     },
     "execution_count": 247,
     "metadata": {},
     "output_type": "execute_result"
    }
   ],
   "source": [
    "df_crypto = df_crypto.sort_values(by='Algorithm', ascending=True)\n",
    "df_crypto[\"Algorithm\"].unique()"
   ]
  },
  {
   "cell_type": "code",
   "execution_count": 248,
   "metadata": {},
   "outputs": [
    {
     "data": {
      "text/plain": [
       "array(['DPOS', 'DPoS', 'HPoW', 'LPoS', 'POBh', 'PoA', 'PoC', 'PoS',\n",
       "       'PoS/LPoS', 'PoS/PoW', 'PoS/PoW/PoT', 'PoST', 'PoW', 'PoW + Hive',\n",
       "       'PoW and PoS', 'PoW/PoS', 'PoW/PoS ', 'PoW/PoW', 'PoW/nPoS', 'Pos',\n",
       "       'Proof of Authority', 'Proof of Trust', 'TPoS',\n",
       "       'Zero-Knowledge Proof', 'dPoW/PoW'], dtype=object)"
      ]
     },
     "execution_count": 248,
     "metadata": {},
     "output_type": "execute_result"
    }
   ],
   "source": [
    "df_crypto = df_crypto.sort_values(by='ProofType', ascending=True)\n",
    "df_crypto[\"ProofType\"].unique()"
   ]
  },
  {
   "cell_type": "code",
   "execution_count": 249,
   "metadata": {},
   "outputs": [
    {
     "data": {
      "text/html": [
       "<div>\n",
       "<style scoped>\n",
       "    .dataframe tbody tr th:only-of-type {\n",
       "        vertical-align: middle;\n",
       "    }\n",
       "\n",
       "    .dataframe tbody tr th {\n",
       "        vertical-align: top;\n",
       "    }\n",
       "\n",
       "    .dataframe thead th {\n",
       "        text-align: right;\n",
       "    }\n",
       "</style>\n",
       "<table border=\"1\" class=\"dataframe\">\n",
       "  <thead>\n",
       "    <tr style=\"text-align: right;\">\n",
       "      <th></th>\n",
       "      <th>TotalCoinsMined</th>\n",
       "      <th>TotalCoinSupply</th>\n",
       "      <th>Algorithm_1GB AES Pattern Search</th>\n",
       "      <th>Algorithm_536</th>\n",
       "      <th>Algorithm_Argon2d</th>\n",
       "      <th>Algorithm_BLAKE256</th>\n",
       "      <th>Algorithm_Blake</th>\n",
       "      <th>Algorithm_Blake2S</th>\n",
       "      <th>Algorithm_Blake2b</th>\n",
       "      <th>Algorithm_C11</th>\n",
       "      <th>...</th>\n",
       "      <th>ProofType_PoW/PoS</th>\n",
       "      <th>ProofType_PoW/PoS</th>\n",
       "      <th>ProofType_PoW/PoW</th>\n",
       "      <th>ProofType_PoW/nPoS</th>\n",
       "      <th>ProofType_Pos</th>\n",
       "      <th>ProofType_Proof of Authority</th>\n",
       "      <th>ProofType_Proof of Trust</th>\n",
       "      <th>ProofType_TPoS</th>\n",
       "      <th>ProofType_Zero-Knowledge Proof</th>\n",
       "      <th>ProofType_dPoW/PoW</th>\n",
       "    </tr>\n",
       "  </thead>\n",
       "  <tbody>\n",
       "    <tr>\n",
       "      <th>AAC</th>\n",
       "      <td>1.000000e+09</td>\n",
       "      <td>1000000000</td>\n",
       "      <td>0</td>\n",
       "      <td>0</td>\n",
       "      <td>0</td>\n",
       "      <td>0</td>\n",
       "      <td>0</td>\n",
       "      <td>0</td>\n",
       "      <td>0</td>\n",
       "      <td>0</td>\n",
       "      <td>...</td>\n",
       "      <td>0</td>\n",
       "      <td>0</td>\n",
       "      <td>0</td>\n",
       "      <td>0</td>\n",
       "      <td>0</td>\n",
       "      <td>0</td>\n",
       "      <td>0</td>\n",
       "      <td>0</td>\n",
       "      <td>0</td>\n",
       "      <td>0</td>\n",
       "    </tr>\n",
       "    <tr>\n",
       "      <th>SEM</th>\n",
       "      <td>1.231147e+06</td>\n",
       "      <td>100000000</td>\n",
       "      <td>0</td>\n",
       "      <td>0</td>\n",
       "      <td>0</td>\n",
       "      <td>0</td>\n",
       "      <td>0</td>\n",
       "      <td>0</td>\n",
       "      <td>0</td>\n",
       "      <td>0</td>\n",
       "      <td>...</td>\n",
       "      <td>0</td>\n",
       "      <td>0</td>\n",
       "      <td>0</td>\n",
       "      <td>0</td>\n",
       "      <td>0</td>\n",
       "      <td>0</td>\n",
       "      <td>0</td>\n",
       "      <td>0</td>\n",
       "      <td>0</td>\n",
       "      <td>0</td>\n",
       "    </tr>\n",
       "    <tr>\n",
       "      <th>EOS</th>\n",
       "      <td>1.020545e+09</td>\n",
       "      <td>0</td>\n",
       "      <td>0</td>\n",
       "      <td>0</td>\n",
       "      <td>0</td>\n",
       "      <td>0</td>\n",
       "      <td>0</td>\n",
       "      <td>0</td>\n",
       "      <td>0</td>\n",
       "      <td>0</td>\n",
       "      <td>...</td>\n",
       "      <td>0</td>\n",
       "      <td>0</td>\n",
       "      <td>0</td>\n",
       "      <td>0</td>\n",
       "      <td>0</td>\n",
       "      <td>0</td>\n",
       "      <td>0</td>\n",
       "      <td>0</td>\n",
       "      <td>0</td>\n",
       "      <td>0</td>\n",
       "    </tr>\n",
       "    <tr>\n",
       "      <th>LSK</th>\n",
       "      <td>1.200121e+08</td>\n",
       "      <td>159918400</td>\n",
       "      <td>0</td>\n",
       "      <td>0</td>\n",
       "      <td>0</td>\n",
       "      <td>0</td>\n",
       "      <td>0</td>\n",
       "      <td>0</td>\n",
       "      <td>0</td>\n",
       "      <td>0</td>\n",
       "      <td>...</td>\n",
       "      <td>0</td>\n",
       "      <td>0</td>\n",
       "      <td>0</td>\n",
       "      <td>0</td>\n",
       "      <td>0</td>\n",
       "      <td>0</td>\n",
       "      <td>0</td>\n",
       "      <td>0</td>\n",
       "      <td>0</td>\n",
       "      <td>0</td>\n",
       "    </tr>\n",
       "    <tr>\n",
       "      <th>ARK</th>\n",
       "      <td>1.082021e+08</td>\n",
       "      <td>125000000</td>\n",
       "      <td>0</td>\n",
       "      <td>0</td>\n",
       "      <td>0</td>\n",
       "      <td>0</td>\n",
       "      <td>0</td>\n",
       "      <td>0</td>\n",
       "      <td>0</td>\n",
       "      <td>0</td>\n",
       "      <td>...</td>\n",
       "      <td>0</td>\n",
       "      <td>0</td>\n",
       "      <td>0</td>\n",
       "      <td>0</td>\n",
       "      <td>0</td>\n",
       "      <td>0</td>\n",
       "      <td>0</td>\n",
       "      <td>0</td>\n",
       "      <td>0</td>\n",
       "      <td>0</td>\n",
       "    </tr>\n",
       "    <tr>\n",
       "      <th>ALX</th>\n",
       "      <td>1.000000e+09</td>\n",
       "      <td>1000000000</td>\n",
       "      <td>0</td>\n",
       "      <td>0</td>\n",
       "      <td>0</td>\n",
       "      <td>0</td>\n",
       "      <td>0</td>\n",
       "      <td>0</td>\n",
       "      <td>0</td>\n",
       "      <td>0</td>\n",
       "      <td>...</td>\n",
       "      <td>0</td>\n",
       "      <td>0</td>\n",
       "      <td>0</td>\n",
       "      <td>0</td>\n",
       "      <td>0</td>\n",
       "      <td>0</td>\n",
       "      <td>0</td>\n",
       "      <td>0</td>\n",
       "      <td>0</td>\n",
       "      <td>0</td>\n",
       "    </tr>\n",
       "    <tr>\n",
       "      <th>BTT</th>\n",
       "      <td>9.899887e+11</td>\n",
       "      <td>990000000000</td>\n",
       "      <td>0</td>\n",
       "      <td>0</td>\n",
       "      <td>0</td>\n",
       "      <td>0</td>\n",
       "      <td>0</td>\n",
       "      <td>0</td>\n",
       "      <td>0</td>\n",
       "      <td>0</td>\n",
       "      <td>...</td>\n",
       "      <td>0</td>\n",
       "      <td>0</td>\n",
       "      <td>0</td>\n",
       "      <td>0</td>\n",
       "      <td>0</td>\n",
       "      <td>0</td>\n",
       "      <td>0</td>\n",
       "      <td>0</td>\n",
       "      <td>0</td>\n",
       "      <td>0</td>\n",
       "    </tr>\n",
       "    <tr>\n",
       "      <th>TAU</th>\n",
       "      <td>2.880906e+08</td>\n",
       "      <td>500000000</td>\n",
       "      <td>0</td>\n",
       "      <td>0</td>\n",
       "      <td>0</td>\n",
       "      <td>0</td>\n",
       "      <td>0</td>\n",
       "      <td>0</td>\n",
       "      <td>0</td>\n",
       "      <td>0</td>\n",
       "      <td>...</td>\n",
       "      <td>0</td>\n",
       "      <td>0</td>\n",
       "      <td>0</td>\n",
       "      <td>0</td>\n",
       "      <td>0</td>\n",
       "      <td>0</td>\n",
       "      <td>0</td>\n",
       "      <td>0</td>\n",
       "      <td>0</td>\n",
       "      <td>0</td>\n",
       "    </tr>\n",
       "    <tr>\n",
       "      <th>OXY</th>\n",
       "      <td>1.122382e+09</td>\n",
       "      <td>0</td>\n",
       "      <td>0</td>\n",
       "      <td>0</td>\n",
       "      <td>0</td>\n",
       "      <td>0</td>\n",
       "      <td>0</td>\n",
       "      <td>0</td>\n",
       "      <td>0</td>\n",
       "      <td>0</td>\n",
       "      <td>...</td>\n",
       "      <td>0</td>\n",
       "      <td>0</td>\n",
       "      <td>0</td>\n",
       "      <td>0</td>\n",
       "      <td>0</td>\n",
       "      <td>0</td>\n",
       "      <td>0</td>\n",
       "      <td>0</td>\n",
       "      <td>0</td>\n",
       "      <td>0</td>\n",
       "    </tr>\n",
       "    <tr>\n",
       "      <th>ZEPH</th>\n",
       "      <td>2.000000e+09</td>\n",
       "      <td>2000000000</td>\n",
       "      <td>0</td>\n",
       "      <td>0</td>\n",
       "      <td>0</td>\n",
       "      <td>0</td>\n",
       "      <td>0</td>\n",
       "      <td>0</td>\n",
       "      <td>0</td>\n",
       "      <td>0</td>\n",
       "      <td>...</td>\n",
       "      <td>0</td>\n",
       "      <td>0</td>\n",
       "      <td>0</td>\n",
       "      <td>0</td>\n",
       "      <td>0</td>\n",
       "      <td>0</td>\n",
       "      <td>0</td>\n",
       "      <td>0</td>\n",
       "      <td>0</td>\n",
       "      <td>0</td>\n",
       "    </tr>\n",
       "  </tbody>\n",
       "</table>\n",
       "<p>10 rows × 98 columns</p>\n",
       "</div>"
      ],
      "text/plain": [
       "      TotalCoinsMined TotalCoinSupply  Algorithm_1GB AES Pattern Search  \\\n",
       "AAC      1.000000e+09      1000000000                                 0   \n",
       "SEM      1.231147e+06       100000000                                 0   \n",
       "EOS      1.020545e+09               0                                 0   \n",
       "LSK      1.200121e+08       159918400                                 0   \n",
       "ARK      1.082021e+08       125000000                                 0   \n",
       "ALX      1.000000e+09      1000000000                                 0   \n",
       "BTT      9.899887e+11    990000000000                                 0   \n",
       "TAU      2.880906e+08       500000000                                 0   \n",
       "OXY      1.122382e+09               0                                 0   \n",
       "ZEPH     2.000000e+09      2000000000                                 0   \n",
       "\n",
       "      Algorithm_536  Algorithm_Argon2d  Algorithm_BLAKE256  Algorithm_Blake  \\\n",
       "AAC               0                  0                   0                0   \n",
       "SEM               0                  0                   0                0   \n",
       "EOS               0                  0                   0                0   \n",
       "LSK               0                  0                   0                0   \n",
       "ARK               0                  0                   0                0   \n",
       "ALX               0                  0                   0                0   \n",
       "BTT               0                  0                   0                0   \n",
       "TAU               0                  0                   0                0   \n",
       "OXY               0                  0                   0                0   \n",
       "ZEPH              0                  0                   0                0   \n",
       "\n",
       "      Algorithm_Blake2S  Algorithm_Blake2b  Algorithm_C11  ...  \\\n",
       "AAC                   0                  0              0  ...   \n",
       "SEM                   0                  0              0  ...   \n",
       "EOS                   0                  0              0  ...   \n",
       "LSK                   0                  0              0  ...   \n",
       "ARK                   0                  0              0  ...   \n",
       "ALX                   0                  0              0  ...   \n",
       "BTT                   0                  0              0  ...   \n",
       "TAU                   0                  0              0  ...   \n",
       "OXY                   0                  0              0  ...   \n",
       "ZEPH                  0                  0              0  ...   \n",
       "\n",
       "      ProofType_PoW/PoS  ProofType_PoW/PoS   ProofType_PoW/PoW  \\\n",
       "AAC                   0                   0                  0   \n",
       "SEM                   0                   0                  0   \n",
       "EOS                   0                   0                  0   \n",
       "LSK                   0                   0                  0   \n",
       "ARK                   0                   0                  0   \n",
       "ALX                   0                   0                  0   \n",
       "BTT                   0                   0                  0   \n",
       "TAU                   0                   0                  0   \n",
       "OXY                   0                   0                  0   \n",
       "ZEPH                  0                   0                  0   \n",
       "\n",
       "      ProofType_PoW/nPoS  ProofType_Pos  ProofType_Proof of Authority  \\\n",
       "AAC                    0              0                             0   \n",
       "SEM                    0              0                             0   \n",
       "EOS                    0              0                             0   \n",
       "LSK                    0              0                             0   \n",
       "ARK                    0              0                             0   \n",
       "ALX                    0              0                             0   \n",
       "BTT                    0              0                             0   \n",
       "TAU                    0              0                             0   \n",
       "OXY                    0              0                             0   \n",
       "ZEPH                   0              0                             0   \n",
       "\n",
       "      ProofType_Proof of Trust  ProofType_TPoS  \\\n",
       "AAC                          0               0   \n",
       "SEM                          0               0   \n",
       "EOS                          0               0   \n",
       "LSK                          0               0   \n",
       "ARK                          0               0   \n",
       "ALX                          0               0   \n",
       "BTT                          0               0   \n",
       "TAU                          0               0   \n",
       "OXY                          0               0   \n",
       "ZEPH                         0               0   \n",
       "\n",
       "      ProofType_Zero-Knowledge Proof  ProofType_dPoW/PoW  \n",
       "AAC                                0                   0  \n",
       "SEM                                0                   0  \n",
       "EOS                                0                   0  \n",
       "LSK                                0                   0  \n",
       "ARK                                0                   0  \n",
       "ALX                                0                   0  \n",
       "BTT                                0                   0  \n",
       "TAU                                0                   0  \n",
       "OXY                                0                   0  \n",
       "ZEPH                               0                   0  \n",
       "\n",
       "[10 rows x 98 columns]"
      ]
     },
     "execution_count": 249,
     "metadata": {},
     "output_type": "execute_result"
    }
   ],
   "source": [
    "# Use the get_dummies() method to create variables for the two text features, Algorithm and ProofType, \n",
    "# and store the resulting data in a new DataFrame named X\n",
    "X = pd.get_dummies(df_crypto, columns=['Algorithm', 'ProofType'])\n",
    "X.head(10)"
   ]
  },
  {
   "cell_type": "code",
   "execution_count": 250,
   "metadata": {},
   "outputs": [
    {
     "name": "stdout",
     "output_type": "stream",
     "text": [
      "[[-0.09517967 -0.13809342 -0.0433963  -0.0433963  -0.0433963  -0.06142951\n",
      "  -0.07530656 -0.0433963  -0.06142951 -0.06142951 -0.0433963  -0.0433963\n",
      "  -0.19245009 -0.06142951 -0.09740465 -0.0433963  -0.11547005 -0.07530656\n",
      "  -0.0433963  23.04343724 -0.15191091 -0.0433963  -0.13118084 -0.0433963\n",
      "  -0.0433963  -0.08703883 -0.0433963  -0.0433963  -0.0433963  -0.0433963\n",
      "  -0.06142951 -0.0433963  -0.08703883 -0.08703883 -0.08703883 -0.0433963\n",
      "  -0.13118084 -0.13840913 -0.13840913 -0.0433963  -0.06142951 -0.0433963\n",
      "  -0.07530656 -0.18168574 -0.0433963  -0.0433963  -0.0433963  -0.07530656\n",
      "  -0.15826614 -0.31491833 -0.0433963  -0.08703883 -0.07530656 -0.06142951\n",
      "  -0.72111026 -0.0433963  -0.0433963  -0.06142951 -0.0433963  -0.0433963\n",
      "  -0.0433963  -0.0433963  -0.0433963  -0.0433963  -0.0433963  -0.0433963\n",
      "  -0.39879994 -0.0433963  -0.18168574 -0.0433963  -0.08703883 -0.08703883\n",
      "  -0.10680283 23.04343724 -0.13118084 -0.0433963  -0.0433963  -0.0433963\n",
      "  -0.0433963  -0.07530656 -0.43911856 -0.0433963  -0.06142951 -0.0433963\n",
      "  -0.0433963  -0.89632016 -0.0433963  -0.0433963  -0.70312305 -0.0433963\n",
      "  -0.0433963  -0.0433963  -0.0433963  -0.0433963  -0.0433963  -0.0433963\n",
      "  -0.0433963  -0.0433963 ]\n",
      " [-0.11708117 -0.15139261 -0.0433963  -0.0433963  -0.0433963  -0.06142951\n",
      "  -0.07530656 -0.0433963  -0.06142951 -0.06142951 -0.0433963  -0.0433963\n",
      "  -0.19245009 -0.06142951 -0.09740465 -0.0433963  -0.11547005 -0.07530656\n",
      "  -0.0433963  -0.0433963  -0.15191091 -0.0433963  -0.13118084 -0.0433963\n",
      "  -0.0433963  -0.08703883 -0.0433963  -0.0433963  -0.0433963  -0.0433963\n",
      "  -0.06142951 -0.0433963  -0.08703883 -0.08703883 -0.08703883 -0.0433963\n",
      "  -0.13118084 -0.13840913 -0.13840913 -0.0433963  -0.06142951 -0.0433963\n",
      "  -0.07530656 -0.18168574 -0.0433963  -0.0433963  -0.0433963  -0.07530656\n",
      "  -0.15826614 -0.31491833 -0.0433963  -0.08703883 -0.07530656 -0.06142951\n",
      "  -0.72111026 23.04343724 -0.0433963  -0.06142951 -0.0433963  -0.0433963\n",
      "  -0.0433963  -0.0433963  -0.0433963  -0.0433963  -0.0433963  -0.0433963\n",
      "  -0.39879994 -0.0433963  -0.18168574 -0.0433963  -0.08703883 -0.08703883\n",
      "  -0.10680283 -0.0433963   7.62306442 -0.0433963  -0.0433963  -0.0433963\n",
      "  -0.0433963  -0.07530656 -0.43911856 -0.0433963  -0.06142951 -0.0433963\n",
      "  -0.0433963  -0.89632016 -0.0433963  -0.0433963  -0.70312305 -0.0433963\n",
      "  -0.0433963  -0.0433963  -0.0433963  -0.0433963  -0.0433963  -0.0433963\n",
      "  -0.0433963  -0.0433963 ]\n",
      " [-0.09472916 -0.1528703  -0.0433963  -0.0433963  -0.0433963  -0.06142951\n",
      "  -0.07530656 -0.0433963  -0.06142951 -0.06142951 -0.0433963  -0.0433963\n",
      "  -0.19245009 -0.06142951 -0.09740465 -0.0433963   8.66025404 -0.07530656\n",
      "  -0.0433963  -0.0433963  -0.15191091 -0.0433963  -0.13118084 -0.0433963\n",
      "  -0.0433963  -0.08703883 -0.0433963  -0.0433963  -0.0433963  -0.0433963\n",
      "  -0.06142951 -0.0433963  -0.08703883 -0.08703883 -0.08703883 -0.0433963\n",
      "  -0.13118084 -0.13840913 -0.13840913 -0.0433963  -0.06142951 -0.0433963\n",
      "  -0.07530656 -0.18168574 -0.0433963  -0.0433963  -0.0433963  -0.07530656\n",
      "  -0.15826614 -0.31491833 -0.0433963  -0.08703883 -0.07530656 -0.06142951\n",
      "  -0.72111026 -0.0433963  -0.0433963  -0.06142951 -0.0433963  -0.0433963\n",
      "  -0.0433963  -0.0433963  -0.0433963  -0.0433963  -0.0433963  -0.0433963\n",
      "  -0.39879994 -0.0433963  -0.18168574 -0.0433963  -0.08703883 -0.08703883\n",
      "  -0.10680283 -0.0433963   7.62306442 -0.0433963  -0.0433963  -0.0433963\n",
      "  -0.0433963  -0.07530656 -0.43911856 -0.0433963  -0.06142951 -0.0433963\n",
      "  -0.0433963  -0.89632016 -0.0433963  -0.0433963  -0.70312305 -0.0433963\n",
      "  -0.0433963  -0.0433963  -0.0433963  -0.0433963  -0.0433963  -0.0433963\n",
      "  -0.0433963  -0.0433963 ]\n",
      " [-0.11447649 -0.1505072  -0.0433963  -0.0433963  -0.0433963  -0.06142951\n",
      "  -0.07530656 -0.0433963  -0.06142951 -0.06142951 -0.0433963  -0.0433963\n",
      "  -0.19245009 -0.06142951 -0.09740465 -0.0433963   8.66025404 -0.07530656\n",
      "  -0.0433963  -0.0433963  -0.15191091 -0.0433963  -0.13118084 -0.0433963\n",
      "  -0.0433963  -0.08703883 -0.0433963  -0.0433963  -0.0433963  -0.0433963\n",
      "  -0.06142951 -0.0433963  -0.08703883 -0.08703883 -0.08703883 -0.0433963\n",
      "  -0.13118084 -0.13840913 -0.13840913 -0.0433963  -0.06142951 -0.0433963\n",
      "  -0.07530656 -0.18168574 -0.0433963  -0.0433963  -0.0433963  -0.07530656\n",
      "  -0.15826614 -0.31491833 -0.0433963  -0.08703883 -0.07530656 -0.06142951\n",
      "  -0.72111026 -0.0433963  -0.0433963  -0.06142951 -0.0433963  -0.0433963\n",
      "  -0.0433963  -0.0433963  -0.0433963  -0.0433963  -0.0433963  -0.0433963\n",
      "  -0.39879994 -0.0433963  -0.18168574 -0.0433963  -0.08703883 -0.08703883\n",
      "  -0.10680283 -0.0433963   7.62306442 -0.0433963  -0.0433963  -0.0433963\n",
      "  -0.0433963  -0.07530656 -0.43911856 -0.0433963  -0.06142951 -0.0433963\n",
      "  -0.0433963  -0.89632016 -0.0433963  -0.0433963  -0.70312305 -0.0433963\n",
      "  -0.0433963  -0.0433963  -0.0433963  -0.0433963  -0.0433963  -0.0433963\n",
      "  -0.0433963  -0.0433963 ]\n",
      " [-0.11473546 -0.15102319 -0.0433963  -0.0433963  -0.0433963  -0.06142951\n",
      "  -0.07530656 -0.0433963  -0.06142951 -0.06142951 -0.0433963  -0.0433963\n",
      "  -0.19245009 -0.06142951 -0.09740465 -0.0433963   8.66025404 -0.07530656\n",
      "  -0.0433963  -0.0433963  -0.15191091 -0.0433963  -0.13118084 -0.0433963\n",
      "  -0.0433963  -0.08703883 -0.0433963  -0.0433963  -0.0433963  -0.0433963\n",
      "  -0.06142951 -0.0433963  -0.08703883 -0.08703883 -0.08703883 -0.0433963\n",
      "  -0.13118084 -0.13840913 -0.13840913 -0.0433963  -0.06142951 -0.0433963\n",
      "  -0.07530656 -0.18168574 -0.0433963  -0.0433963  -0.0433963  -0.07530656\n",
      "  -0.15826614 -0.31491833 -0.0433963  -0.08703883 -0.07530656 -0.06142951\n",
      "  -0.72111026 -0.0433963  -0.0433963  -0.06142951 -0.0433963  -0.0433963\n",
      "  -0.0433963  -0.0433963  -0.0433963  -0.0433963  -0.0433963  -0.0433963\n",
      "  -0.39879994 -0.0433963  -0.18168574 -0.0433963  -0.08703883 -0.08703883\n",
      "  -0.10680283 -0.0433963   7.62306442 -0.0433963  -0.0433963  -0.0433963\n",
      "  -0.0433963  -0.07530656 -0.43911856 -0.0433963  -0.06142951 -0.0433963\n",
      "  -0.0433963  -0.89632016 -0.0433963  -0.0433963  -0.70312305 -0.0433963\n",
      "  -0.0433963  -0.0433963  -0.0433963  -0.0433963  -0.0433963  -0.0433963\n",
      "  -0.0433963  -0.0433963 ]]\n"
     ]
    }
   ],
   "source": [
    "# Standardize the data with StandardScaler().\n",
    "crypto_scaled = StandardScaler().fit_transform(X)\n",
    "print(crypto_scaled[0:5])"
   ]
  },
  {
   "cell_type": "markdown",
   "metadata": {},
   "source": [
    "### Deliverable 2: Reducing Data Dimensions Using PCA"
   ]
  },
  {
   "cell_type": "code",
   "execution_count": 251,
   "metadata": {},
   "outputs": [],
   "source": [
    "# Using PCA to reduce dimension to three principal components.\n",
    "pca = PCA(n_components=3)\n",
    "crypto_pca = pca.fit_transform(crypto_scaled)"
   ]
  },
  {
   "cell_type": "code",
   "execution_count": 252,
   "metadata": {},
   "outputs": [
    {
     "data": {
      "text/html": [
       "<div>\n",
       "<style scoped>\n",
       "    .dataframe tbody tr th:only-of-type {\n",
       "        vertical-align: middle;\n",
       "    }\n",
       "\n",
       "    .dataframe tbody tr th {\n",
       "        vertical-align: top;\n",
       "    }\n",
       "\n",
       "    .dataframe thead th {\n",
       "        text-align: right;\n",
       "    }\n",
       "</style>\n",
       "<table border=\"1\" class=\"dataframe\">\n",
       "  <thead>\n",
       "    <tr style=\"text-align: right;\">\n",
       "      <th></th>\n",
       "      <th>PC 1</th>\n",
       "      <th>PC 2</th>\n",
       "      <th>PC 3</th>\n",
       "    </tr>\n",
       "  </thead>\n",
       "  <tbody>\n",
       "    <tr>\n",
       "      <th>AAC</th>\n",
       "      <td>-0.339801</td>\n",
       "      <td>3.515328</td>\n",
       "      <td>14.782316</td>\n",
       "    </tr>\n",
       "    <tr>\n",
       "      <th>SEM</th>\n",
       "      <td>3.953294</td>\n",
       "      <td>1.506027</td>\n",
       "      <td>0.125925</td>\n",
       "    </tr>\n",
       "    <tr>\n",
       "      <th>EOS</th>\n",
       "      <td>3.758935</td>\n",
       "      <td>1.661120</td>\n",
       "      <td>0.028384</td>\n",
       "    </tr>\n",
       "    <tr>\n",
       "      <th>LSK</th>\n",
       "      <td>3.749074</td>\n",
       "      <td>1.660659</td>\n",
       "      <td>0.028711</td>\n",
       "    </tr>\n",
       "    <tr>\n",
       "      <th>ARK</th>\n",
       "      <td>3.748682</td>\n",
       "      <td>1.660667</td>\n",
       "      <td>0.028720</td>\n",
       "    </tr>\n",
       "  </tbody>\n",
       "</table>\n",
       "</div>"
      ],
      "text/plain": [
       "         PC 1      PC 2       PC 3\n",
       "AAC -0.339801  3.515328  14.782316\n",
       "SEM  3.953294  1.506027   0.125925\n",
       "EOS  3.758935  1.661120   0.028384\n",
       "LSK  3.749074  1.660659   0.028711\n",
       "ARK  3.748682  1.660667   0.028720"
      ]
     },
     "execution_count": 252,
     "metadata": {},
     "output_type": "execute_result"
    }
   ],
   "source": [
    "# Create a DataFrame with the three principal components.\n",
    "# Create a new DataFrame named pcs_df that includes the following columns, PC 1, PC 2, and PC 3, \n",
    "# and uses the index of the df_crypto DataFrame as the index.\n",
    "\n",
    "pcs_df = pd.DataFrame(\n",
    "    data=crypto_pca, columns=[\"PC 1\", \"PC 2\", \"PC 3\"], index=df_crypto.index\n",
    ")\n",
    "pcs_df.head()"
   ]
  },
  {
   "cell_type": "markdown",
   "metadata": {},
   "source": [
    "### Deliverable 3: Clustering Crytocurrencies Using K-Means\n",
    "\n",
    "#### Finding the Best Value for `k` Using the Elbow Curve"
   ]
  },
  {
   "cell_type": "code",
   "execution_count": 253,
   "metadata": {},
   "outputs": [],
   "source": [
    "# Using the pcs_df DataFrame, create an elbow curve using hvPlot to find the best value for K.\n",
    "inertia = []\n",
    "k = list(range(1, 11))"
   ]
  },
  {
   "cell_type": "code",
   "execution_count": 254,
   "metadata": {},
   "outputs": [
    {
     "name": "stderr",
     "output_type": "stream",
     "text": [
      "C:\\Users\\M162348\\.conda\\envs\\mlenv\\lib\\site-packages\\sklearn\\cluster\\_kmeans.py:1037: UserWarning:\n",
      "\n",
      "KMeans is known to have a memory leak on Windows with MKL, when there are less chunks than available threads. You can avoid it by setting the environment variable OMP_NUM_THREADS=3.\n",
      "\n"
     ]
    }
   ],
   "source": [
    "# Looking for the best K\n",
    "for i in k:\n",
    "    km = KMeans(n_clusters=i, random_state=0)\n",
    "    km.fit(pcs_df)\n",
    "    inertia.append(km.inertia_)"
   ]
  },
  {
   "cell_type": "code",
   "execution_count": 255,
   "metadata": {},
   "outputs": [
    {
     "data": {},
     "metadata": {},
     "output_type": "display_data"
    },
    {
     "data": {
      "application/vnd.holoviews_exec.v0+json": "",
      "text/html": [
       "<div id='3140'>\n",
       "\n",
       "\n",
       "\n",
       "\n",
       "\n",
       "  <div class=\"bk-root\" id=\"fd466836-0bf4-44bc-b6a6-73846d4c9268\" data-root-id=\"3140\"></div>\n",
       "</div>\n",
       "<script type=\"application/javascript\">(function(root) {\n",
       "  function embed_document(root) {\n",
       "    var docs_json = {\"5cba472b-33fa-4889-aed7-81da0453be88\":{\"defs\":[{\"extends\":null,\"module\":null,\"name\":\"ReactiveHTML1\",\"overrides\":[],\"properties\":[]},{\"extends\":null,\"module\":null,\"name\":\"FlexBox1\",\"overrides\":[],\"properties\":[{\"default\":\"flex-start\",\"kind\":null,\"name\":\"align_content\"},{\"default\":\"flex-start\",\"kind\":null,\"name\":\"align_items\"},{\"default\":\"row\",\"kind\":null,\"name\":\"flex_direction\"},{\"default\":\"wrap\",\"kind\":null,\"name\":\"flex_wrap\"},{\"default\":\"flex-start\",\"kind\":null,\"name\":\"justify_content\"}]},{\"extends\":null,\"module\":null,\"name\":\"TemplateActions1\",\"overrides\":[],\"properties\":[{\"default\":0,\"kind\":null,\"name\":\"open_modal\"},{\"default\":0,\"kind\":null,\"name\":\"close_modal\"}]},{\"extends\":null,\"module\":null,\"name\":\"MaterialTemplateActions1\",\"overrides\":[],\"properties\":[{\"default\":0,\"kind\":null,\"name\":\"open_modal\"},{\"default\":0,\"kind\":null,\"name\":\"close_modal\"}]}],\"roots\":{\"references\":[{\"attributes\":{\"data\":{\"inertia\":{\"__ndarray__\":\"MzwZdfttrEBlTuaDv1KjQB117+7kOpdARfdfF4ALg0BxQQkRRZV5QNhBHwGGPHJA0D1DjnZDbECvu5SeP75mQGu7rcpUzWFAv7DMuclMXEA=\",\"dtype\":\"float64\",\"order\":\"little\",\"shape\":[10]},\"k\":[1,2,3,4,5,6,7,8,9,10]},\"selected\":{\"id\":\"3176\"},\"selection_policy\":{\"id\":\"3199\"}},\"id\":\"3175\",\"type\":\"ColumnDataSource\"},{\"attributes\":{},\"id\":\"3162\",\"type\":\"SaveTool\"},{\"attributes\":{},\"id\":\"3163\",\"type\":\"PanTool\"},{\"attributes\":{},\"id\":\"3159\",\"type\":\"BasicTicker\"},{\"attributes\":{\"children\":[{\"id\":\"3141\"},{\"id\":\"3145\"},{\"id\":\"3211\"}],\"margin\":[0,0,0,0],\"name\":\"Row05926\",\"tags\":[\"embedded\"]},\"id\":\"3140\",\"type\":\"Row\"},{\"attributes\":{},\"id\":\"3166\",\"type\":\"ResetTool\"},{\"attributes\":{},\"id\":\"3164\",\"type\":\"WheelZoomTool\"},{\"attributes\":{\"line_alpha\":0.2,\"line_color\":\"#30a2da\",\"line_width\":2,\"x\":{\"field\":\"k\"},\"y\":{\"field\":\"inertia\"}},\"id\":\"3180\",\"type\":\"Line\"},{\"attributes\":{\"overlay\":{\"id\":\"3167\"}},\"id\":\"3165\",\"type\":\"BoxZoomTool\"},{\"attributes\":{},\"id\":\"3187\",\"type\":\"AllLabels\"},{\"attributes\":{},\"id\":\"3199\",\"type\":\"UnionRenderers\"},{\"attributes\":{\"coordinates\":null,\"group\":null,\"text\":\"Elbow Curve\",\"text_color\":\"black\",\"text_font_size\":\"12pt\"},\"id\":\"3146\",\"type\":\"Title\"},{\"attributes\":{},\"id\":\"3150\",\"type\":\"LinearScale\"},{\"attributes\":{\"margin\":[5,5,5,5],\"name\":\"HSpacer05931\",\"sizing_mode\":\"stretch_width\"},\"id\":\"3211\",\"type\":\"Spacer\"},{\"attributes\":{\"line_color\":\"#30a2da\",\"line_width\":2,\"x\":{\"field\":\"k\"},\"y\":{\"field\":\"inertia\"}},\"id\":\"3183\",\"type\":\"Line\"},{\"attributes\":{\"below\":[{\"id\":\"3154\"}],\"center\":[{\"id\":\"3157\"},{\"id\":\"3161\"}],\"height\":300,\"left\":[{\"id\":\"3158\"}],\"margin\":[5,5,5,5],\"min_border_bottom\":10,\"min_border_left\":10,\"min_border_right\":10,\"min_border_top\":10,\"renderers\":[{\"id\":\"3181\"}],\"sizing_mode\":\"fixed\",\"title\":{\"id\":\"3146\"},\"toolbar\":{\"id\":\"3168\"},\"width\":700,\"x_range\":{\"id\":\"3142\"},\"x_scale\":{\"id\":\"3150\"},\"y_range\":{\"id\":\"3143\"},\"y_scale\":{\"id\":\"3152\"}},\"id\":\"3145\",\"subtype\":\"Figure\",\"type\":\"Plot\"},{\"attributes\":{\"axis\":{\"id\":\"3154\"},\"coordinates\":null,\"grid_line_color\":null,\"group\":null,\"ticker\":null},\"id\":\"3157\",\"type\":\"Grid\"},{\"attributes\":{\"margin\":[5,5,5,5],\"name\":\"HSpacer05930\",\"sizing_mode\":\"stretch_width\"},\"id\":\"3141\",\"type\":\"Spacer\"},{\"attributes\":{},\"id\":\"3152\",\"type\":\"LinearScale\"},{\"attributes\":{\"axis_label\":\"inertia\",\"coordinates\":null,\"formatter\":{\"id\":\"3191\"},\"group\":null,\"major_label_policy\":{\"id\":\"3192\"},\"ticker\":{\"id\":\"3159\"}},\"id\":\"3158\",\"type\":\"LinearAxis\"},{\"attributes\":{\"line_color\":\"#30a2da\",\"line_width\":2,\"x\":{\"field\":\"k\"},\"y\":{\"field\":\"inertia\"}},\"id\":\"3178\",\"type\":\"Line\"},{\"attributes\":{\"axis_label\":\"k\",\"coordinates\":null,\"formatter\":{\"id\":\"3186\"},\"group\":null,\"major_label_policy\":{\"id\":\"3187\"},\"ticker\":{\"id\":\"3184\"}},\"id\":\"3154\",\"type\":\"LinearAxis\"},{\"attributes\":{\"end\":10.0,\"reset_end\":10.0,\"reset_start\":1.0,\"start\":1.0,\"tags\":[[[\"k\",\"k\",null]]]},\"id\":\"3142\",\"type\":\"Range1d\"},{\"attributes\":{},\"id\":\"3192\",\"type\":\"AllLabels\"},{\"attributes\":{\"axis\":{\"id\":\"3158\"},\"coordinates\":null,\"dimension\":1,\"grid_line_color\":null,\"group\":null,\"ticker\":null},\"id\":\"3161\",\"type\":\"Grid\"},{\"attributes\":{\"end\":3991.5702593064016,\"reset_end\":3991.5702593064016,\"reset_start\":-239.3793191756988,\"start\":-239.3793191756988,\"tags\":[[[\"inertia\",\"inertia\",null]]]},\"id\":\"3143\",\"type\":\"Range1d\"},{\"attributes\":{},\"id\":\"3191\",\"type\":\"BasicTickFormatter\"},{\"attributes\":{\"source\":{\"id\":\"3175\"}},\"id\":\"3182\",\"type\":\"CDSView\"},{\"attributes\":{\"line_alpha\":0.1,\"line_color\":\"#30a2da\",\"line_width\":2,\"x\":{\"field\":\"k\"},\"y\":{\"field\":\"inertia\"}},\"id\":\"3179\",\"type\":\"Line\"},{\"attributes\":{\"ticks\":[1,2,3,4,5,6,7,8,9,10]},\"id\":\"3184\",\"type\":\"FixedTicker\"},{\"attributes\":{},\"id\":\"3186\",\"type\":\"BasicTickFormatter\"},{\"attributes\":{\"callback\":null,\"renderers\":[{\"id\":\"3181\"}],\"tags\":[\"hv_created\"],\"tooltips\":[[\"k\",\"@{k}\"],[\"inertia\",\"@{inertia}\"]]},\"id\":\"3144\",\"type\":\"HoverTool\"},{\"attributes\":{},\"id\":\"3176\",\"type\":\"Selection\"},{\"attributes\":{\"coordinates\":null,\"data_source\":{\"id\":\"3175\"},\"glyph\":{\"id\":\"3178\"},\"group\":null,\"hover_glyph\":null,\"muted_glyph\":{\"id\":\"3180\"},\"nonselection_glyph\":{\"id\":\"3179\"},\"selection_glyph\":{\"id\":\"3183\"},\"view\":{\"id\":\"3182\"}},\"id\":\"3181\",\"type\":\"GlyphRenderer\"},{\"attributes\":{\"tools\":[{\"id\":\"3144\"},{\"id\":\"3162\"},{\"id\":\"3163\"},{\"id\":\"3164\"},{\"id\":\"3165\"},{\"id\":\"3166\"}]},\"id\":\"3168\",\"type\":\"Toolbar\"},{\"attributes\":{\"bottom_units\":\"screen\",\"coordinates\":null,\"fill_alpha\":0.5,\"fill_color\":\"lightgrey\",\"group\":null,\"left_units\":\"screen\",\"level\":\"overlay\",\"line_alpha\":1.0,\"line_color\":\"black\",\"line_dash\":[4,4],\"line_width\":2,\"right_units\":\"screen\",\"syncable\":false,\"top_units\":\"screen\"},\"id\":\"3167\",\"type\":\"BoxAnnotation\"}],\"root_ids\":[\"3140\"]},\"title\":\"Bokeh Application\",\"version\":\"2.4.2\"}};\n",
       "    var render_items = [{\"docid\":\"5cba472b-33fa-4889-aed7-81da0453be88\",\"root_ids\":[\"3140\"],\"roots\":{\"3140\":\"fd466836-0bf4-44bc-b6a6-73846d4c9268\"}}];\n",
       "    root.Bokeh.embed.embed_items_notebook(docs_json, render_items);\n",
       "  }\n",
       "  if (root.Bokeh !== undefined && root.Bokeh.Panel !== undefined) {\n",
       "    embed_document(root);\n",
       "  } else {\n",
       "    var attempts = 0;\n",
       "    var timer = setInterval(function(root) {\n",
       "      if (root.Bokeh !== undefined && root.Bokeh.Panel !== undefined) {\n",
       "        clearInterval(timer);\n",
       "        embed_document(root);\n",
       "      } else if (document.readyState == \"complete\") {\n",
       "        attempts++;\n",
       "        if (attempts > 200) {\n",
       "          clearInterval(timer);\n",
       "          console.log(\"Bokeh: ERROR: Unable to run BokehJS code because BokehJS library is missing\");\n",
       "        }\n",
       "      }\n",
       "    }, 25, root)\n",
       "  }\n",
       "})(window);</script>"
      ],
      "text/plain": [
       ":Curve   [k]   (inertia)"
      ]
     },
     "execution_count": 255,
     "metadata": {
      "application/vnd.holoviews_exec.v0+json": {
       "id": "3140"
      }
     },
     "output_type": "execute_result"
    }
   ],
   "source": [
    "# Define a DataFrame to plot the Elbow Curve using hvPlot\n",
    "elbow_data = {\"k\": k, \"inertia\": inertia}\n",
    "df_elbow = pd.DataFrame(elbow_data)\n",
    "df_elbow.hvplot.line(x=\"k\", y=\"inertia\", title=\"Elbow Curve\", xticks=k)"
   ]
  },
  {
   "cell_type": "markdown",
   "metadata": {},
   "source": [
    "Running K-Means with `k=4`"
   ]
  },
  {
   "cell_type": "code",
   "execution_count": 256,
   "metadata": {},
   "outputs": [
    {
     "name": "stdout",
     "output_type": "stream",
     "text": [
      "[3 0 0 0 0 0 2 0 0 0 0 0 3 3 0 0 0 0 0 0 0 0 0 0 0 0 0 0 0 0 0 0 0 0 0 0 0\n",
      " 0 0 0 0 0 0 0 0 0 0 0 0 0 0 0 0 0 0 0 0 0 0 0 0 0 0 0 0 0 0 0 0 0 0 0 0 0\n",
      " 0 0 0 0 0 0 0 0 0 0 0 0 0 0 0 0 0 0 0 0 0 0 0 0 0 1 0 0 0 0 0 0 0 0 1 1 1\n",
      " 1 1 1 1 1 1 1 1 1 1 1 1 1 1 1 1 1 1 1 1 1 1 1 1 1 1 1 1 1 1 1 1 1 1 1 1 1\n",
      " 1 1 1 1 1 1 1 1 1 1 1 1 1 1 1 1 1 1 1 1 1 1 1 1 1 1 1 1 1 1 1 1 1 1 1 1 1\n",
      " 1 1 1 1 1 1 1 1 1 1 1 1 1 1 1 1 1 1 1 1 1 1 1 1 1 1 1 1 1 1 1 1 1 1 1 1 1\n",
      " 1 1 1 1 1 1 1 1 1 1 1 1 1 1 1 1 1 1 1 1 1 1 1 1 1 1 1 1 1 1 1 1 1 1 1 1 1\n",
      " 1 1 1 1 1 1 1 1 1 1 1 1 1 1 1 1 1 1 1 1 1 1 1 1 1 1 1 1 1 1 1 1 1 1 1 1 1\n",
      " 1 1 1 1 1 1 1 1 1 1 1 1 1 1 1 1 1 1 1 1 1 1 1 1 1 1 1 1 1 1 1 1 1 1 1 1 1\n",
      " 1 1 1 1 1 1 1 1 1 1 1 1 3 0 0 0 0 0 0 0 0 0 0 0 0 0 0 0 0 0 0 0 0 0 0 0 0\n",
      " 0 0 0 0 0 0 0 0 0 0 0 0 0 0 0 0 0 0 0 0 0 0 0 0 0 0 0 0 0 0 0 0 0 0 0 0 0\n",
      " 0 0 0 0 0 0 0 0 0 0 0 0 0 0 0 0 0 0 0 0 0 0 0 0 0 0 0 0 0 0 0 0 0 0 0 0 0\n",
      " 0 0 0 0 0 0 0 0 0 0 0 0 0 0 0 0 0 0 0 0 0 0 0 0 0 0 0 0 0 0 0 0 0 0 0 0 0\n",
      " 0 0 0 0 0 0 0 0 0 0 0 0 0 0 0 0 0 0 0 0 0 0 0 0 0 0 0 0 0 0 0 0 0 0 0 0 0\n",
      " 0 0 0 0 0 0 0 0 0 0 0 0 0 1]\n"
     ]
    }
   ],
   "source": [
    "# Initialize the K-Means model.\n",
    "model = KMeans(n_clusters=4, random_state=0)\n",
    "\n",
    "# Fit the model\n",
    "model.fit(pcs_df)\n",
    "\n",
    "# Predict clusters\n",
    "predictions = model.predict(pcs_df)\n",
    "print(predictions)"
   ]
  },
  {
   "cell_type": "code",
   "execution_count": 257,
   "metadata": {},
   "outputs": [],
   "source": [
    "# Create a new DataFrame named clustered_df by concatenating the df_crypto and pcs_df DataFrames on the same columns. \n",
    "# The index should be the same as the df_crypto DataFrame.\n",
    "clustered_df = df_crypto.join(pcs_df, how='inner')"
   ]
  },
  {
   "cell_type": "code",
   "execution_count": 258,
   "metadata": {},
   "outputs": [],
   "source": [
    "#  Add the CoinName column that holds the names of the cryptocurrencies to the clustered_df \n",
    "clustered_df['CoinName'] = crypto_names"
   ]
  },
  {
   "cell_type": "code",
   "execution_count": 259,
   "metadata": {},
   "outputs": [],
   "source": [
    "#  Add another new column to the clustered_df named Class that holds the predictions, i.e., model.labels_\n",
    "clustered_df[\"Class\"] = model.labels_"
   ]
  },
  {
   "cell_type": "code",
   "execution_count": 260,
   "metadata": {},
   "outputs": [
    {
     "data": {
      "text/html": [
       "<div>\n",
       "<style scoped>\n",
       "    .dataframe tbody tr th:only-of-type {\n",
       "        vertical-align: middle;\n",
       "    }\n",
       "\n",
       "    .dataframe tbody tr th {\n",
       "        vertical-align: top;\n",
       "    }\n",
       "\n",
       "    .dataframe thead th {\n",
       "        text-align: right;\n",
       "    }\n",
       "</style>\n",
       "<table border=\"1\" class=\"dataframe\">\n",
       "  <thead>\n",
       "    <tr style=\"text-align: right;\">\n",
       "      <th></th>\n",
       "      <th>Algorithm</th>\n",
       "      <th>ProofType</th>\n",
       "      <th>TotalCoinsMined</th>\n",
       "      <th>TotalCoinSupply</th>\n",
       "      <th>PC 1</th>\n",
       "      <th>PC 2</th>\n",
       "      <th>PC 3</th>\n",
       "      <th>CoinName</th>\n",
       "      <th>Class</th>\n",
       "    </tr>\n",
       "  </thead>\n",
       "  <tbody>\n",
       "    <tr>\n",
       "      <th>AAC</th>\n",
       "      <td>ECC 256K1</td>\n",
       "      <td>DPOS</td>\n",
       "      <td>1.000000e+09</td>\n",
       "      <td>1000000000</td>\n",
       "      <td>-0.339801</td>\n",
       "      <td>3.515328</td>\n",
       "      <td>14.782316</td>\n",
       "      <td>Acute Angle Cloud</td>\n",
       "      <td>3</td>\n",
       "    </tr>\n",
       "    <tr>\n",
       "      <th>SEM</th>\n",
       "      <td>Semux BFT consensus</td>\n",
       "      <td>DPoS</td>\n",
       "      <td>1.231147e+06</td>\n",
       "      <td>100000000</td>\n",
       "      <td>3.953294</td>\n",
       "      <td>1.506027</td>\n",
       "      <td>0.125925</td>\n",
       "      <td>Semux</td>\n",
       "      <td>0</td>\n",
       "    </tr>\n",
       "    <tr>\n",
       "      <th>EOS</th>\n",
       "      <td>DPoS</td>\n",
       "      <td>DPoS</td>\n",
       "      <td>1.020545e+09</td>\n",
       "      <td>0</td>\n",
       "      <td>3.758935</td>\n",
       "      <td>1.661120</td>\n",
       "      <td>0.028384</td>\n",
       "      <td>EOS</td>\n",
       "      <td>0</td>\n",
       "    </tr>\n",
       "    <tr>\n",
       "      <th>LSK</th>\n",
       "      <td>DPoS</td>\n",
       "      <td>DPoS</td>\n",
       "      <td>1.200121e+08</td>\n",
       "      <td>159918400</td>\n",
       "      <td>3.749074</td>\n",
       "      <td>1.660659</td>\n",
       "      <td>0.028711</td>\n",
       "      <td>Lisk</td>\n",
       "      <td>0</td>\n",
       "    </tr>\n",
       "    <tr>\n",
       "      <th>ARK</th>\n",
       "      <td>DPoS</td>\n",
       "      <td>DPoS</td>\n",
       "      <td>1.082021e+08</td>\n",
       "      <td>125000000</td>\n",
       "      <td>3.748682</td>\n",
       "      <td>1.660667</td>\n",
       "      <td>0.028720</td>\n",
       "      <td>ARK</td>\n",
       "      <td>0</td>\n",
       "    </tr>\n",
       "    <tr>\n",
       "      <th>ALX</th>\n",
       "      <td>DPoS</td>\n",
       "      <td>DPoS</td>\n",
       "      <td>1.000000e+09</td>\n",
       "      <td>1000000000</td>\n",
       "      <td>3.765764</td>\n",
       "      <td>1.660714</td>\n",
       "      <td>0.028254</td>\n",
       "      <td>ALAX</td>\n",
       "      <td>0</td>\n",
       "    </tr>\n",
       "    <tr>\n",
       "      <th>BTT</th>\n",
       "      <td>TRC10</td>\n",
       "      <td>DPoS</td>\n",
       "      <td>9.899887e+11</td>\n",
       "      <td>990000000000</td>\n",
       "      <td>34.050119</td>\n",
       "      <td>1.734365</td>\n",
       "      <td>-1.003699</td>\n",
       "      <td>BitTorrent</td>\n",
       "      <td>2</td>\n",
       "    </tr>\n",
       "    <tr>\n",
       "      <th>TAU</th>\n",
       "      <td>DPoS</td>\n",
       "      <td>DPoS</td>\n",
       "      <td>2.880906e+08</td>\n",
       "      <td>500000000</td>\n",
       "      <td>3.753533</td>\n",
       "      <td>1.660598</td>\n",
       "      <td>0.028599</td>\n",
       "      <td>Lamden Tau</td>\n",
       "      <td>0</td>\n",
       "    </tr>\n",
       "    <tr>\n",
       "      <th>OXY</th>\n",
       "      <td>DPoS</td>\n",
       "      <td>DPoS</td>\n",
       "      <td>1.122382e+09</td>\n",
       "      <td>0</td>\n",
       "      <td>3.760178</td>\n",
       "      <td>1.661165</td>\n",
       "      <td>0.028344</td>\n",
       "      <td>Oxycoin</td>\n",
       "      <td>0</td>\n",
       "    </tr>\n",
       "    <tr>\n",
       "      <th>ZEPH</th>\n",
       "      <td>SHA-256</td>\n",
       "      <td>DPoS</td>\n",
       "      <td>2.000000e+09</td>\n",
       "      <td>2000000000</td>\n",
       "      <td>2.488176</td>\n",
       "      <td>0.681499</td>\n",
       "      <td>0.012031</td>\n",
       "      <td>ZEPHYR</td>\n",
       "      <td>0</td>\n",
       "    </tr>\n",
       "  </tbody>\n",
       "</table>\n",
       "</div>"
      ],
      "text/plain": [
       "                Algorithm ProofType  TotalCoinsMined TotalCoinSupply  \\\n",
       "AAC             ECC 256K1      DPOS     1.000000e+09      1000000000   \n",
       "SEM   Semux BFT consensus      DPoS     1.231147e+06       100000000   \n",
       "EOS                  DPoS      DPoS     1.020545e+09               0   \n",
       "LSK                  DPoS      DPoS     1.200121e+08       159918400   \n",
       "ARK                  DPoS      DPoS     1.082021e+08       125000000   \n",
       "ALX                  DPoS      DPoS     1.000000e+09      1000000000   \n",
       "BTT                 TRC10      DPoS     9.899887e+11    990000000000   \n",
       "TAU                  DPoS      DPoS     2.880906e+08       500000000   \n",
       "OXY                  DPoS      DPoS     1.122382e+09               0   \n",
       "ZEPH              SHA-256      DPoS     2.000000e+09      2000000000   \n",
       "\n",
       "           PC 1      PC 2       PC 3           CoinName  Class  \n",
       "AAC   -0.339801  3.515328  14.782316  Acute Angle Cloud      3  \n",
       "SEM    3.953294  1.506027   0.125925              Semux      0  \n",
       "EOS    3.758935  1.661120   0.028384                EOS      0  \n",
       "LSK    3.749074  1.660659   0.028711               Lisk      0  \n",
       "ARK    3.748682  1.660667   0.028720                ARK      0  \n",
       "ALX    3.765764  1.660714   0.028254               ALAX      0  \n",
       "BTT   34.050119  1.734365  -1.003699         BitTorrent      2  \n",
       "TAU    3.753533  1.660598   0.028599         Lamden Tau      0  \n",
       "OXY    3.760178  1.661165   0.028344            Oxycoin      0  \n",
       "ZEPH   2.488176  0.681499   0.012031             ZEPHYR      0  "
      ]
     },
     "execution_count": 260,
     "metadata": {},
     "output_type": "execute_result"
    }
   ],
   "source": [
    "# Print the shape of the clustered_df\n",
    "clustered_df.head(10)"
   ]
  },
  {
   "cell_type": "markdown",
   "metadata": {},
   "source": [
    "### Deliverable 4: Visualizing Cryptocurrencies Results\n",
    "\n",
    "#### 3D-Scatter with Clusters"
   ]
  },
  {
   "cell_type": "code",
   "execution_count": 261,
   "metadata": {},
   "outputs": [
    {
     "data": {
      "application/vnd.plotly.v1+json": {
       "config": {
        "plotlyServerURL": "https://plot.ly"
       },
       "data": [
        {
         "customdata": [
          [
           "ECC 256K1"
          ],
          [
           "Proof-of-BibleHash"
          ],
          [
           "Proof-of-Authority"
          ],
          [
           "SHA-256 + Hive"
          ]
         ],
         "hovertemplate": "<b>%{hovertext}</b><br><br>Class=%{marker.color}<br>PC 1=%{x}<br>PC 2=%{y}<br>PC 3=%{z}<br>Algorithm=%{customdata[0]}<extra></extra>",
         "hovertext": [
          "Acute Angle Cloud",
          "BiblePay",
          "Poa Network",
          "LitecoinCash"
         ],
         "legendgroup": "3",
         "marker": {
          "color": [
           3,
           3,
           3,
           3
          ],
          "coloraxis": "coloraxis",
          "symbol": "circle"
         },
         "mode": "markers",
         "name": "3",
         "scene": "scene",
         "showlegend": true,
         "type": "scatter3d",
         "x": [
          -0.33980071466030076,
          -0.19745732855677642,
          -0.4277640521964777,
          -0.36874048110149554
         ],
         "y": [
          3.5153279775219333,
          3.5925886007731704,
          4.361941894588426,
          3.1226043580431218
         ],
         "z": [
          14.782316246863427,
          13.174526257301572,
          7.374857411285294,
          22.105434578686765
         ]
        },
        {
         "customdata": [
          [
           "Semux BFT consensus"
          ],
          [
           "DPoS"
          ],
          [
           "DPoS"
          ],
          [
           "DPoS"
          ],
          [
           "DPoS"
          ],
          [
           "DPoS"
          ],
          [
           "DPoS"
          ],
          [
           "SHA-256"
          ],
          [
           "Scrypt"
          ],
          [
           "Leased POS"
          ],
          [
           "Scrypt"
          ],
          [
           "Scrypt"
          ],
          [
           "Shabal256"
          ],
          [
           "PoS"
          ],
          [
           "Lyra2REv2"
          ],
          [
           "X15"
          ],
          [
           "Scrypt"
          ],
          [
           "Scrypt"
          ],
          [
           "Scrypt"
          ],
          [
           "Scrypt"
          ],
          [
           "Scrypt"
          ],
          [
           "Quark"
          ],
          [
           "Green Protocol"
          ],
          [
           "Quark"
          ],
          [
           "X16R"
          ],
          [
           "Scrypt"
          ],
          [
           "Scrypt"
          ],
          [
           "Quark"
          ],
          [
           "Quark"
          ],
          [
           "X13"
          ],
          [
           "Quark"
          ],
          [
           "X11"
          ],
          [
           "X13"
          ],
          [
           "X13"
          ],
          [
           "PoS"
          ],
          [
           "Multiple"
          ],
          [
           "X11"
          ],
          [
           "POS 3.0"
          ],
          [
           "POS 2.0"
          ],
          [
           "PHI1612"
          ],
          [
           "X13"
          ],
          [
           "Ouroboros"
          ],
          [
           "PoS"
          ],
          [
           "PoS"
          ],
          [
           "Scrypt"
          ],
          [
           "PoS"
          ],
          [
           "PoS"
          ],
          [
           "X11"
          ],
          [
           "PoS"
          ],
          [
           "PoS"
          ],
          [
           "PoS"
          ],
          [
           "PoS"
          ],
          [
           "Scrypt"
          ],
          [
           "Scrypt"
          ],
          [
           "X11"
          ],
          [
           "NIST5"
          ],
          [
           "PoS"
          ],
          [
           "Scrypt"
          ],
          [
           "PoS"
          ],
          [
           "PoS"
          ],
          [
           "Scrypt"
          ],
          [
           "PoS"
          ],
          [
           "PoS"
          ],
          [
           "Multiple"
          ],
          [
           "X11"
          ],
          [
           "X11"
          ],
          [
           "PoS"
          ],
          [
           "Ethash"
          ],
          [
           "X11"
          ],
          [
           "Quark"
          ],
          [
           "DPoS"
          ],
          [
           "X11"
          ],
          [
           "VBFT"
          ],
          [
           "SHA-256"
          ],
          [
           "SHA-256"
          ],
          [
           "Scrypt"
          ],
          [
           "SkunkHash v2 Raptor"
          ],
          [
           "Scrypt"
          ],
          [
           "Scrypt"
          ],
          [
           "SHA-512"
          ],
          [
           "X11"
          ],
          [
           "SHA-256"
          ],
          [
           "Counterparty"
          ],
          [
           "XEVAN"
          ],
          [
           "Scrypt"
          ],
          [
           "Scrypt"
          ],
          [
           "SHA-256"
          ],
          [
           "Scrypt"
          ],
          [
           "SHA-512"
          ],
          [
           "Scrypt"
          ],
          [
           "POS 3.0"
          ],
          [
           "SHA-256"
          ],
          [
           "Scrypt"
          ],
          [
           "SHA-256"
          ],
          [
           "POS 3.0"
          ],
          [
           "Quark"
          ],
          [
           "Scrypt"
          ],
          [
           "SHA-256"
          ],
          [
           "PoS"
          ],
          [
           "XEVAN"
          ],
          [
           "X11"
          ],
          [
           "Scrypt"
          ],
          [
           "Scrypt"
          ],
          [
           "Scrypt"
          ],
          [
           "Scrypt"
          ],
          [
           "X11"
          ],
          [
           "X14"
          ],
          [
           "X11"
          ],
          [
           "X11"
          ],
          [
           "Skein"
          ],
          [
           "X11"
          ],
          [
           "X11"
          ],
          [
           "X11"
          ],
          [
           "X13"
          ],
          [
           "Skein"
          ],
          [
           "X15"
          ],
          [
           "X11"
          ],
          [
           "X11"
          ],
          [
           "X11"
          ],
          [
           "X11"
          ],
          [
           "Scrypt"
          ],
          [
           "X11"
          ],
          [
           "X15"
          ],
          [
           "X11"
          ],
          [
           "Scrypt"
          ],
          [
           "X11"
          ],
          [
           "XEVAN"
          ],
          [
           "Scrypt"
          ],
          [
           "XEVAN"
          ],
          [
           "X15"
          ],
          [
           "X13"
          ],
          [
           "X13"
          ],
          [
           "X11"
          ],
          [
           "X11"
          ],
          [
           "X13"
          ],
          [
           "X11"
          ],
          [
           "X13"
          ],
          [
           "X11"
          ],
          [
           "X11"
          ],
          [
           "X11"
          ],
          [
           "X13"
          ],
          [
           "X13"
          ],
          [
           "X13"
          ],
          [
           "X13"
          ],
          [
           "X11"
          ],
          [
           "X13"
          ],
          [
           "X11"
          ],
          [
           "X11"
          ],
          [
           "X11"
          ],
          [
           "X11"
          ],
          [
           "X13"
          ],
          [
           "X11"
          ],
          [
           "X11"
          ],
          [
           "X11"
          ],
          [
           "X11"
          ],
          [
           "X11"
          ],
          [
           "X11"
          ],
          [
           "X16R"
          ],
          [
           "X11"
          ],
          [
           "X11"
          ],
          [
           "X11"
          ],
          [
           "X11"
          ],
          [
           "X11"
          ],
          [
           "X13"
          ],
          [
           "Scrypt"
          ],
          [
           "Scrypt"
          ],
          [
           "SHA-256"
          ],
          [
           "SHA-256"
          ],
          [
           "SHA-256"
          ],
          [
           "SHA-256"
          ],
          [
           "SHA-256"
          ],
          [
           "SHA-256"
          ],
          [
           "SHA-256"
          ],
          [
           "SHA-256"
          ],
          [
           "SHA-256"
          ],
          [
           "SHA-256"
          ],
          [
           "SHA-256D"
          ],
          [
           "SHA-256D"
          ],
          [
           "SHA-256"
          ],
          [
           "SHA-256D"
          ],
          [
           "SHA3"
          ],
          [
           "Scrypt"
          ],
          [
           "Scrypt"
          ],
          [
           "Scrypt"
          ],
          [
           "Scrypt"
          ],
          [
           "Scrypt"
          ],
          [
           "Scrypt"
          ],
          [
           "Scrypt"
          ],
          [
           "Scrypt"
          ],
          [
           "Scrypt"
          ],
          [
           "Scrypt"
          ],
          [
           "Scrypt"
          ],
          [
           "SHA-256D"
          ],
          [
           "SHA-256"
          ],
          [
           "SHA-256"
          ],
          [
           "SHA-256"
          ],
          [
           "536"
          ],
          [
           "BLAKE256"
          ],
          [
           "Blake2S"
          ],
          [
           "C11"
          ],
          [
           "Groestl"
          ],
          [
           "Groestl"
          ],
          [
           "Keccak"
          ],
          [
           "Lyra2REv2"
          ],
          [
           "NIST5"
          ],
          [
           "NIST5"
          ],
          [
           "NIST5"
          ],
          [
           "NIST5"
          ],
          [
           "NIST5"
          ],
          [
           "NIST5"
          ],
          [
           "NIST5"
          ],
          [
           "NeoScrypt"
          ],
          [
           "NeoScrypt"
          ],
          [
           "NeoScrypt"
          ],
          [
           "PHI1612"
          ],
          [
           "QUAIT"
          ],
          [
           "QuBit"
          ],
          [
           "Quark"
          ],
          [
           "Quark"
          ],
          [
           "Quark"
          ],
          [
           "Quark"
          ],
          [
           "Quark"
          ],
          [
           "SHA-256"
          ],
          [
           "Scrypt"
          ],
          [
           "Scrypt"
          ],
          [
           "Scrypt"
          ],
          [
           "Scrypt"
          ],
          [
           "Scrypt"
          ],
          [
           "Scrypt"
          ],
          [
           "Scrypt"
          ],
          [
           "Scrypt"
          ],
          [
           "Scrypt"
          ],
          [
           "Scrypt"
          ],
          [
           "Scrypt"
          ],
          [
           "Scrypt"
          ],
          [
           "Scrypt"
          ],
          [
           "Scrypt"
          ],
          [
           "Scrypt"
          ],
          [
           "Scrypt"
          ],
          [
           "Scrypt"
          ],
          [
           "Scrypt"
          ],
          [
           "Scrypt"
          ],
          [
           "Scrypt"
          ],
          [
           "Scrypt"
          ],
          [
           "Scrypt"
          ],
          [
           "Scrypt"
          ],
          [
           "Scrypt"
          ],
          [
           "Scrypt"
          ],
          [
           "Scrypt"
          ],
          [
           "Scrypt"
          ],
          [
           "Scrypt"
          ],
          [
           "Scrypt"
          ],
          [
           "Scrypt"
          ],
          [
           "Scrypt"
          ],
          [
           "Scrypt"
          ],
          [
           "Scrypt"
          ],
          [
           "Scrypt"
          ],
          [
           "Scrypt"
          ],
          [
           "Scrypt"
          ],
          [
           "Scrypt"
          ],
          [
           "Scrypt"
          ],
          [
           "Scrypt"
          ],
          [
           "Scrypt"
          ],
          [
           "Scrypt"
          ],
          [
           "Scrypt"
          ],
          [
           "Scrypt"
          ],
          [
           "Scrypt"
          ],
          [
           "Scrypt"
          ],
          [
           "Scrypt"
          ],
          [
           "Scrypt"
          ],
          [
           "Scrypt"
          ],
          [
           "Scrypt"
          ],
          [
           "Scrypt"
          ],
          [
           "Scrypt"
          ],
          [
           "Scrypt"
          ],
          [
           "Scrypt"
          ],
          [
           "Scrypt"
          ],
          [
           "Scrypt"
          ],
          [
           "Scrypt"
          ],
          [
           "Scrypt"
          ],
          [
           "Scrypt"
          ],
          [
           "Scrypt"
          ],
          [
           "SHA3"
          ],
          [
           "XEVAN"
          ],
          [
           "VeChainThor Authority"
          ],
          [
           "X11"
          ],
          [
           "X11"
          ],
          [
           "SHA-512"
          ]
         ],
         "hovertemplate": "<b>%{hovertext}</b><br><br>Class=%{marker.color}<br>PC 1=%{x}<br>PC 2=%{y}<br>PC 3=%{z}<br>Algorithm=%{customdata[0]}<extra></extra>",
         "hovertext": [
          "Semux",
          "EOS",
          "Lisk",
          "ARK",
          "ALAX",
          "Lamden Tau",
          "Oxycoin",
          "ZEPHYR",
          "Lynx",
          "Waves",
          "SafeExchangeCoin",
          "CasinoCoin",
          "BurstCoin",
          "Deviant Coin",
          "Rupee",
          "Dekado",
          "Velox",
          "Nautilus Coin",
          "MintCoin",
          "MedicCoin",
          "Dnotes",
          "Kalkulus",
          "Bitcoin Green",
          "Dystem",
          "Proton",
          "BitCurrency",
          "RubyCoin",
          "Crypto Sports",
          "Vitae",
          "Tokyo Coin",
          "Allsafe",
          "SuperCoin",
          "RoyalCoin",
          "FindCoin",
          "CoffeeCoin",
          "Crypti",
          "Dash Platinum",
          "QTUM",
          "KekCoin",
          "TittieCoin",
          "MudraCoin",
          "Cardano",
          "Zealium",
          "TeamUP",
          "Xt3ch",
          "Stakecoin",
          "Ketan",
          "Lutetium Coin",
          "Phreak",
          "Exclusive Coin",
          "Radium",
          "Creatio",
          "MMOCoin",
          "Peony Coin",
          "ARENON",
          "Bulwark",
          "Particl",
          "BitcoinPlus",
          "MacronCoin",
          "Atmos",
          "ZeitCoin",
          "FreeCoin",
          "Nebuchadnezzar",
          "TeslaCoin",
          "Junson Ming Chan Coin",
          "HyperStake",
          "Opair",
          "1717 Masonic Commemorative Token",
          "Monkey Project",
          "Digiwage",
          "Muse",
          "PAXEX",
          "Ontology",
          "PayCoin",
          "TigerCash",
          "Draftcoin",
          "Signatum",
          "GrowthCoin",
          "HiCoin",
          "Obsidian",
          "Ucoin",
          "BitcoinWSpectrum",
          "StorjCoin",
          "Bettex coin",
          "Zilbercoin",
          "RenosCoin",
          "NeosCoin",
          "PandaCoin",
          "Bitshares",
          "GPU Coin",
          "TokenPay",
          "Ultimate Secure Cash",
          "Diggits",
          "ProCurrency",
          "Let it Ride",
          "Poseidon Quark",
          "HollyWoodCoin",
          "Infinity Economics",
          "Nxt",
          "Bitcoin Incognito",
          "Squall Coin",
          "FlutterCoin",
          "VeriCoin",
          "My Big Coin",
          "Printerium",
          "GoldReserve",
          "GanjaCoin V2",
          "Ratecoin",
          "MustangCoin",
          "Cream",
          "Monoeci",
          "Condensate",
          "Insane Coin",
          "EmberCoin",
          "Bitcoin Planet",
          "HTML5 Coin",
          "Piggy Coin",
          "Regalcoin",
          "Impact",
          "EuropeCoin",
          "CryptoBullion",
          "IslaCoin",
          "EverGreenCoin",
          "Hitcoin",
          "AquariusCoin",
          "HappyCoin",
          "Beetle Coin",
          "Klingon Empire Darsek",
          "Ellerium",
          "KoboCoin",
          "Paycon",
          "Sativa Coin",
          "TruckCoin",
          "EUNO",
          "StealthCoin",
          "GoldBlocks",
          "Kore",
          "TorCoin",
          "KushCoin",
          "InsaneCoin",
          "NavCoin",
          "EliteCoin",
          "DeepOnion",
          "OpalCoin",
          "Award",
          "BritCoin",
          "Enigma",
          "SyncCoin",
          "Dash",
          "PinkCoin",
          "Triangles Coin",
          "CapriCoin",
          "XenixCoin",
          "Pushi",
          "Magnet",
          "X11 Coin",
          "Eternity",
          "Trivechain",
          "PhantomX",
          "Halloween Coin",
          "IOCoin",
          "VirtacoinPlus",
          "BitSend",
          "Bitcoin Diamond",
          "Swisscoin",
          "GameUnits",
          "BitcoinDark",
          "Neutron",
          "OKCash",
          "MazaCoin",
          "Clockcoin",
          "Revenu",
          "IncaKoin",
          "BitTokens",
          "SwingCoin",
          "DubaiCoin",
          "Titan Coin",
          "LanaCoin",
          "Emercoin",
          "TheVig",
          "MaxCoin",
          "Gapcoin",
          "AudioCoin",
          "HyperCoin",
          "BitstarCoin",
          "CoinonatX",
          "Ethereum Dark",
          "WhiteCoin",
          "Genstake",
          "XiaoMiCoin",
          "WomenCoin",
          " ClubCoin",
          "BuzzCoin",
          "EDRCoin",
          "Internet of People",
          "Theresa May Coin",
          "Espers",
          "Decred",
          "TajCoin",
          "Stipend",
          "Diamond",
          "FairCoin",
          "XDNA",
          "Absolute Coin",
          "VIP Tokens",
          "Bitspace",
          "NamoCoin",
          "Virta Unique Coin",
          "Electra",
          "PWR Coin",
          "Denarius",
          "TrezarCoin",
          "FriendshipCoin",
          "Orbitcoin",
          "LUXCoin",
          "Droidz",
          "LiteCreed",
          "HerbCoin",
          "Galilel",
          "Giant",
          "Carebit",
          "Bitcloud 2.0",
          "Eurocoin",
          "GAKHcoin",
          "Trollcoin",
          "TerraNovaCoin",
          "iDealCash",
          "PotCoin",
          "PhoenixCoin",
          "ZCC Coin",
          "8BIT Coin",
          "UltraCoin",
          "Vtorrent",
          "UnitaryStatus Dollar",
          "Reddcoin",
          "BillaryCoin",
          "PLNCoin",
          "BitBar",
          "OpenChat",
          "Litecoin Plus",
          "EnergyCoin",
          "ArgusCoin",
          "LomoCoin",
          "Aurora Coin",
          "Degas Coin",
          "Linda",
          "404Coin",
          "BlueCoin",
          "Impeach",
          "BitcoinFast",
          "BitConnect Coin",
          "MoneyCoin",
          "Russiacoin",
          "Independent Money System",
          "HoboNickels",
          "CarterCoin",
          "Briacoin",
          "OrangeCoin",
          "LiteDoge",
          "Xios",
          "Nasdacoin",
          "BlackholeCoin",
          "Credit",
          "Oduwa",
          "PesoBit",
          "EmaratCoin",
          "Cash & Back Coin",
          "Unified Society USDEX",
          "Ignition",
          "TPCash",
          "GermanCoin",
          "LiteCoin Ultra",
          "ThunderStake",
          "42 Coin",
          "PutinCoin",
          "iBankCoin",
          "Abjcoin",
          "Frankywillcoin",
          "ZoneCoin",
          "RootCoin",
          "FirstCoin",
          "Swiscoin",
          "Nexus",
          "BitMoney",
          "Vechain",
          "Creditbit ",
          "Stakenet",
          "Kcash"
         ],
         "legendgroup": "0",
         "marker": {
          "color": [
           0,
           0,
           0,
           0,
           0,
           0,
           0,
           0,
           0,
           0,
           0,
           0,
           0,
           0,
           0,
           0,
           0,
           0,
           0,
           0,
           0,
           0,
           0,
           0,
           0,
           0,
           0,
           0,
           0,
           0,
           0,
           0,
           0,
           0,
           0,
           0,
           0,
           0,
           0,
           0,
           0,
           0,
           0,
           0,
           0,
           0,
           0,
           0,
           0,
           0,
           0,
           0,
           0,
           0,
           0,
           0,
           0,
           0,
           0,
           0,
           0,
           0,
           0,
           0,
           0,
           0,
           0,
           0,
           0,
           0,
           0,
           0,
           0,
           0,
           0,
           0,
           0,
           0,
           0,
           0,
           0,
           0,
           0,
           0,
           0,
           0,
           0,
           0,
           0,
           0,
           0,
           0,
           0,
           0,
           0,
           0,
           0,
           0,
           0,
           0,
           0,
           0,
           0,
           0,
           0,
           0,
           0,
           0,
           0,
           0,
           0,
           0,
           0,
           0,
           0,
           0,
           0,
           0,
           0,
           0,
           0,
           0,
           0,
           0,
           0,
           0,
           0,
           0,
           0,
           0,
           0,
           0,
           0,
           0,
           0,
           0,
           0,
           0,
           0,
           0,
           0,
           0,
           0,
           0,
           0,
           0,
           0,
           0,
           0,
           0,
           0,
           0,
           0,
           0,
           0,
           0,
           0,
           0,
           0,
           0,
           0,
           0,
           0,
           0,
           0,
           0,
           0,
           0,
           0,
           0,
           0,
           0,
           0,
           0,
           0,
           0,
           0,
           0,
           0,
           0,
           0,
           0,
           0,
           0,
           0,
           0,
           0,
           0,
           0,
           0,
           0,
           0,
           0,
           0,
           0,
           0,
           0,
           0,
           0,
           0,
           0,
           0,
           0,
           0,
           0,
           0,
           0,
           0,
           0,
           0,
           0,
           0,
           0,
           0,
           0,
           0,
           0,
           0,
           0,
           0,
           0,
           0,
           0,
           0,
           0,
           0,
           0,
           0,
           0,
           0,
           0,
           0,
           0,
           0,
           0,
           0,
           0,
           0,
           0,
           0,
           0,
           0,
           0,
           0,
           0,
           0,
           0,
           0,
           0,
           0,
           0,
           0,
           0,
           0,
           0,
           0,
           0,
           0,
           0,
           0,
           0,
           0,
           0,
           0,
           0,
           0,
           0,
           0,
           0,
           0,
           0,
           0,
           0,
           0,
           0,
           0,
           0,
           0,
           0,
           0,
           0,
           0,
           0,
           0,
           0,
           0,
           0,
           0
          ],
          "coloraxis": "coloraxis",
          "symbol": "diamond"
         },
         "mode": "markers",
         "name": "0",
         "scene": "scene",
         "showlegend": true,
         "type": "scatter3d",
         "x": [
          3.9532935763932833,
          3.7589349521615683,
          3.7490738019548537,
          3.7486824061004076,
          3.7657641710661487,
          3.753533427169594,
          3.7601781509212375,
          2.488175848217209,
          2.2147411768156346,
          -0.4585581731077009,
          -0.10611973001519899,
          0.6239666829988949,
          -0.09221385446012885,
          -0.36461322630589726,
          -0.3316629874209565,
          -0.2171598612946364,
          -0.2923648656279524,
          -0.29324286318642273,
          -0.03360635238599791,
          -0.2867518540697932,
          -0.2878829110283578,
          -0.3408230435895844,
          -0.35198894224599275,
          -0.34093649415370453,
          -0.33444435025752567,
          -0.29148453859570406,
          -0.2932230790329402,
          -0.3410533558546323,
          -0.33965726995938117,
          -0.22492911446446298,
          -0.3409370363782598,
          -0.3508661788056544,
          -0.23335631463535206,
          -0.23312438578629457,
          -0.36340464803351796,
          -0.23928656380339908,
          -0.35133698681869036,
          -0.33103667602628717,
          -0.35319103562414605,
          -0.2986290626792837,
          -0.2319274941625899,
          0.6663445718590203,
          -0.36480172524481075,
          -0.36315471968849805,
          -0.29315027238178076,
          -0.36501837000112475,
          -0.3639026632185139,
          -0.3388132074271425,
          -0.3651518811340892,
          -0.3654339936924477,
          -0.3653929609233296,
          -0.36511757629917035,
          -0.29039859001192414,
          -0.17403149535508125,
          -0.35086056341062644,
          -0.3131123345460793,
          -0.36532887440777667,
          -0.2935462909279679,
          -0.35777091374346826,
          -0.3633657676394837,
          0.8586985047518659,
          -0.3645389465146922,
          -0.36511757629917035,
          -0.23881953505885234,
          -0.1413926390452977,
          -0.3309944299885684,
          -0.36407562998591264,
          -0.2716229973109972,
          -0.35128271715937026,
          -0.339988766887955,
          1.0318367942565794,
          -0.3507222067885469,
          -0.3166505656665444,
          -0.26515438981171047,
          -0.24610166530237257,
          -0.293203868652277,
          -0.33939136954791943,
          -0.27579199175606856,
          -0.10061279928923551,
          -0.31337552003311936,
          -0.35131076306840114,
          -0.26397373055010404,
          -0.32511435463565663,
          -0.26922141413051676,
          -0.2931298582484422,
          -0.29287110789281195,
          -0.26518702527548615,
          0.3494299951966287,
          -0.25536753799275974,
          -0.291495751495824,
          -0.33253884577232795,
          -0.2638464598319685,
          -0.2916261715685908,
          0.2668395306416475,
          -0.3322571708278429,
          -0.33653646228017997,
          -0.2928983382093542,
          -0.09180038956359428,
          -0.42407077643955554,
          -0.2805475041758479,
          -0.36265221611095455,
          -0.3047338359889591,
          -0.3059427298119181,
          -0.27465709991794446,
          -0.3359153069113114,
          -0.3936386620681308,
          -0.3942278302609715,
          -0.3919578851189755,
          -0.39410221664222894,
          -0.38109941314026785,
          -0.3939107321901122,
          -0.3891062272738005,
          -0.3936288359413651,
          0.8554240246491182,
          -0.38159415756106735,
          0.8727393644792519,
          -0.38101795349685336,
          -0.39385166758016954,
          -0.39200214679613665,
          -0.39128570936290413,
          -0.33618145751557005,
          -0.39411300613328615,
          -0.260461680261071,
          -0.07191788159697544,
          -0.33587395833647216,
          -0.393160758421308,
          -0.30633598360413505,
          -0.33236865252547765,
          -0.31187463895897993,
          -0.2580232260103963,
          -0.27541552457904733,
          -0.2758933855677488,
          -0.39117022743381147,
          -0.39340184109321313,
          -0.2756468250557013,
          -0.39358748576943703,
          -0.2759411716031676,
          -0.39404320517472774,
          -0.393996174168392,
          -0.3936951618502473,
          -0.275244053848537,
          2.3056354514098465,
          -0.2756494667518879,
          -0.27586579791000676,
          -0.39096963220577063,
          -0.27557878756457793,
          -0.3940861395815222,
          -0.39413146343902017,
          -0.39386547367388836,
          -0.3852646272128712,
          -0.27604825318946535,
          -0.39020065761981026,
          -0.39405716323268053,
          -0.393928020357311,
          -0.392645647432936,
          -0.39400769153592363,
          -0.39363258968935144,
          -0.37642782087608645,
          -0.3932260133722536,
          -0.38028035685720896,
          -0.39376024845720453,
          -0.3932627968740535,
          -0.39284964566723,
          -0.27232349997230904,
          -0.13946709597447876,
          -0.3360667855216781,
          -0.30786411558212945,
          -0.3070765850961854,
          -0.3063805894149769,
          -0.27120649704944777,
          -0.30411518624625056,
          -0.3064441181818488,
          -0.08768869362120969,
          -0.3078796607819092,
          -0.30769897536458457,
          -0.30789865660645854,
          -0.2873819487034036,
          -0.26737122344495795,
          -0.3004299324183313,
          -0.33261073710977274,
          -0.3720980158205651,
          -0.3342489450906539,
          -0.24988859255010837,
          -0.3360836484706662,
          -0.3355658974367947,
          -0.3356210653532188,
          -0.33612021452724133,
          -0.33100082366714917,
          -0.33536256398558695,
          -0.32843346492265196,
          0.4323750687078379,
          -0.33380344104358683,
          0.04687446951543045,
          -0.30783505126746313,
          -0.3078560921073235,
          -0.3062038849922227,
          0.5906766650497991,
          -0.05476988278273839,
          -0.39560621808419855,
          -0.3609172530886736,
          -0.3841284367220226,
          -0.383550416041886,
          -0.33853874275989704,
          -0.3742377156225814,
          -0.35446063295925007,
          -0.3555942490632489,
          -0.3407773900948602,
          -0.35449859068159534,
          0.20297061865129995,
          -0.23319235410172548,
          -0.3559948442654707,
          -0.3395710237088625,
          -0.34419294637595044,
          -0.3445666074490067,
          -0.3768379750759076,
          -0.40014179778421316,
          -0.3452352732362715,
          -0.3830045195367582,
          -0.3834601711066205,
          -0.383709186851244,
          -0.38069602447334794,
          -0.3820269996551631,
          -0.30774243275751434,
          -0.3361372688879202,
          -0.3226142123554479,
          -0.336075904717942,
          -0.28279626023731336,
          -0.33050925118736946,
          -0.3346045125987695,
          -0.32731459203003127,
          -0.3361833038219354,
          -0.3348799673971425,
          -0.33591795604252983,
          -0.31145757411162056,
          0.021672680234468555,
          -0.3357940084749696,
          -0.3357197350708368,
          -0.33619716289259716,
          -0.31691356321446157,
          -0.3361423287535244,
          -0.3346989162708743,
          -0.33598471582560896,
          -0.32911509982185266,
          -0.3358611140229902,
          -0.33519708058540304,
          0.12821699470064696,
          -0.31955333469106556,
          -0.3284441962067619,
          -0.33604217214306925,
          -0.33572045030683945,
          -0.33586771268907223,
          -0.33146129939068353,
          -0.335079425892016,
          -0.33598549846043974,
          -0.33426188178197036,
          -0.33503707207924033,
          -0.33616965939754434,
          -0.33474203863072954,
          0.09860690946410688,
          -0.3360262996787775,
          -0.33535567646807374,
          -0.33589677335551843,
          0.5696933862230609,
          -0.3358721432875091,
          -0.3357919864919422,
          -0.33534282412424893,
          -0.33335965166097786,
          -0.3316917395078737,
          -0.33615139129693505,
          -0.3290552359642546,
          0.07775755930206814,
          -0.33503643880266787,
          -0.19582134142331886,
          -0.3362012218869871,
          -0.3121152456832926,
          -0.3358320861188057,
          -0.3358682045052194,
          -0.33427245674880773,
          -0.3360210225355583,
          -0.33617754122968674,
          -0.3207107367499172,
          -0.2364805713565326,
          -0.3170236010530681,
          0.5227571337048968,
          4.386002540638858,
          -0.40355496620110526,
          -0.3937286235485448,
          -0.2730062007252278
         ],
         "y": [
          1.506026505815331,
          1.661120193164573,
          1.6606585126168623,
          1.6606671667367812,
          1.660713742087893,
          1.6605976841197054,
          1.6611652166226214,
          0.6814987159781931,
          0.4564330251028457,
          4.246058057709336,
          0.519848464234399,
          0.5215420421624722,
          1.0798034262977978,
          1.6853026568121343,
          0.7157856978887905,
          1.7803394510440131,
          0.8078003147191751,
          0.8078390075369547,
          0.8172525338556921,
          0.8077577744329424,
          0.8077168122817757,
          1.4204363035220977,
          1.584706377067485,
          1.4204315410404804,
          0.8516127926187754,
          0.8079132648063944,
          0.8078503021450887,
          1.4204322971156704,
          1.4204262208206884,
          1.5942299833933065,
          1.4204354440642641,
          1.0580664298865015,
          1.5944461723877483,
          1.5944467103923343,
          1.6853778078147654,
          0.08944473909196866,
          1.0580364997866838,
          1.3882705007727503,
          1.5526539594281388,
          1.561828107370085,
          1.5943687974478273,
          1.4971237771393267,
          1.685301060383686,
          1.6852162233584806,
          0.8078241727175502,
          1.6853052439332383,
          1.685248629663054,
          1.0580734067178896,
          1.6853210680430224,
          1.6853304644108442,
          1.6853260664547447,
          1.6853288481887738,
          0.8077826113490961,
          0.8011311700241912,
          1.058030675527804,
          1.3512000592752789,
          1.6853286265910123,
          0.8078379429856202,
          1.6853464783815375,
          1.6853332618413672,
          0.7848441780842661,
          1.6853301904343774,
          1.6853288481887738,
          0.08939627523776307,
          1.0656526851463393,
          1.0587861014935134,
          1.6853312791771713,
          -0.05868696839536922,
          1.0580376152968431,
          1.420401139852484,
          1.5867509583320896,
          1.0580062662691632,
          1.3366743322518462,
          0.6074906678326739,
          0.6075350732011129,
          0.8078396182966028,
          1.5082960442136555,
          0.8071740295722508,
          0.808282295994806,
          1.5875724381749778,
          1.0580372533681655,
          0.6074760494768977,
          1.5284828697687216,
          1.3212990494250982,
          0.8078177204870929,
          0.8078405418701099,
          0.6074839288097834,
          0.8098670090974669,
          1.5873790230629812,
          0.8077683396364126,
          1.3882651317301118,
          0.6074153973839237,
          0.8078427577711711,
          0.5777321730909445,
          1.3882697757152647,
          1.4201796661705317,
          0.8078450647019535,
          0.6078930053576165,
          2.3279854514823515,
          1.2194442793414626,
          0.956176042909711,
          0.2866853560367914,
          0.3431095022397987,
          0.2850897711267224,
          0.9859991394824126,
          1.2361992851732733,
          1.857236074432671,
          1.2362372736941811,
          1.2362066869080663,
          1.822134025216929,
          1.2362093673709225,
          1.2360626936648966,
          1.236206178802624,
          1.8130312122632932,
          1.8221161076438124,
          1.940738014659074,
          1.2360287286957252,
          1.236200070103346,
          1.2362127885328893,
          1.2360596000521924,
          0.9860019223804709,
          1.2362082574882831,
          1.9585209339693554,
          1.2305190425357786,
          0.985986253864883,
          1.2361773662351232,
          1.4993687621848772,
          0.9858137715954401,
          1.4994558370578652,
          1.9583976157183347,
          1.7725999562050443,
          1.7726088011517969,
          1.2363148326214144,
          1.236201324070076,
          1.772624268310184,
          1.2361946007965636,
          1.772605762987881,
          1.2362042476188362,
          1.2362063732249498,
          1.236203776755684,
          1.7726388549982801,
          1.6607174695081695,
          1.7726118174420915,
          1.7726163380294928,
          1.236047511079156,
          1.7726071190390285,
          1.2362059615983154,
          1.2362075883881105,
          1.2362028389884645,
          1.2362018203474443,
          1.7726096518093701,
          1.2362139608063245,
          1.236207760668813,
          1.236198612478816,
          1.2361672552202607,
          1.2362084757699254,
          1.2361864295531326,
          1.029775826642181,
          1.2362076918145395,
          1.235728552952821,
          1.2362066498055937,
          1.2361736708292514,
          1.2361631361417325,
          1.772607332110187,
          0.98645822385028,
          0.9859982299985723,
          0.7856457361261071,
          0.7856441834521275,
          0.7856451997617968,
          0.7854060879287,
          0.7854526569248508,
          0.7855659331401175,
          0.7935097342821348,
          0.7856458269208205,
          0.7856399488312423,
          0.7856520036280815,
          1.771413542861756,
          1.770499882916194,
          0.7852755774139023,
          1.7729790517566055,
          1.6572042317814688,
          0.9859091194687897,
          0.982263086157551,
          0.9860061183916996,
          0.9859893977754287,
          0.9859913251780912,
          0.9860020482594857,
          0.9859940639972189,
          0.9860224264028096,
          0.986021665308703,
          0.9974920578461084,
          0.9859840936749014,
          1.7737122597177972,
          0.7856467887139914,
          0.7856466804796124,
          0.785654868140805,
          1.7158744283358445,
          0.8645465915018256,
          1.7808248472574293,
          0.8106026536784188,
          0.9477957793179327,
          0.9478195763512175,
          0.8460203073666016,
          0.8939332334699107,
          1.5293699238956606,
          1.5293550201355446,
          1.5291397814427892,
          1.529348935921313,
          1.53000328723785,
          1.5338205935331033,
          1.5293666633258354,
          0.5312372971314155,
          0.5312920846163437,
          0.5313154239751186,
          1.7401682145826372,
          1.7161683941192758,
          0.6192567512597084,
          1.59859448528219,
          1.598600842141792,
          1.5986009015237201,
          1.5985826379006425,
          1.598534435547804,
          0.7856514505225739,
          0.9860020086985414,
          0.9859055258839572,
          0.985996112749692,
          0.984587351707099,
          0.9859334134781268,
          0.9859956163770404,
          0.9856699201151012,
          0.9860025092917936,
          0.985984333003002,
          0.9859990435419625,
          0.9858519288760563,
          0.9989625559135199,
          0.9859891493143893,
          0.9859941012541371,
          0.9860016804858271,
          0.986046601865217,
          0.9860013781300894,
          0.9860562675988318,
          0.9859910033013078,
          0.9856047132554581,
          0.9860032147469668,
          0.9859695796059195,
          0.9701323045068991,
          0.9862569679353628,
          0.9862827873924033,
          0.9859932809861791,
          0.9859976972748352,
          0.9859956329315092,
          0.9857481342242586,
          0.9859483432709186,
          0.985995804981549,
          0.9859936419418743,
          0.9859851810968253,
          0.9860010421053178,
          0.985923950524406,
          0.9788666033177577,
          0.985994466011908,
          0.985977565239659,
          0.9860032179945889,
          0.9699070674472356,
          0.9860000489114734,
          0.9860166811683764,
          0.9859780306977833,
          0.9859674770289698,
          0.9860134987393783,
          0.9860003961458662,
          0.9856068812739347,
          0.9683048748580813,
          0.9859459774225661,
          0.9793178496875277,
          0.9860018603469801,
          0.98556660003724,
          0.9859862448224139,
          0.9859943075663561,
          0.9860063344971127,
          0.9859946571279579,
          0.9860027179887763,
          0.38122204107952956,
          0.19504893105860285,
          1.4269002035971,
          1.3110140883755648,
          2.873520873185791,
          0.9062976466690429,
          0.8130719768661119,
          1.786225470942468
         ],
         "z": [
          0.125924622182213,
          0.02838359256722933,
          0.0287108011108901,
          0.0287201757025519,
          0.028254227191647524,
          0.02859892693584663,
          0.028344106230064378,
          0.012030857470522332,
          -0.536304203598334,
          4.993544839149576,
          -0.3235378963065332,
          -0.343413076044064,
          -0.22175702106396505,
          -0.28280252798498384,
          -0.06784671380607758,
          -0.453443976671956,
          -0.2918960651668853,
          -0.2918776172483543,
          -0.30012557893684066,
          -0.29204142864507654,
          -0.29200550414299825,
          -0.17746648019268157,
          -0.11140817178498304,
          -0.17746278924531134,
          -0.15795945113157372,
          -0.2919348814071689,
          -0.29187966208414773,
          -0.17745974545417476,
          -0.17749650388203325,
          -0.3190476044777913,
          -0.17746329728421403,
          -0.25034928552317626,
          -0.31884975663470966,
          -0.31885607044566955,
          -0.2828451168069312,
          0.147602814614672,
          -0.2503326071659062,
          0.004290160141994661,
          -0.20472958018029108,
          -0.1856912693424454,
          -0.3188778488379247,
          -0.22707179374362252,
          -0.28279724125116035,
          -0.28283020614109283,
          -0.29187812264686586,
          -0.28279197100851994,
          -0.28281441650217143,
          -0.2506745945480495,
          -0.2827904968145608,
          -0.28278416269255086,
          -0.2827846780792165,
          -0.2827924618357744,
          -0.2919466118732004,
          -0.2941876773520012,
          -0.25034464898642605,
          -0.2924026986132675,
          -0.28278674561647654,
          -0.291869308721316,
          -0.28299253916517597,
          -0.2828401982776714,
          -0.31980005789164684,
          -0.28280821390409056,
          -0.2827924618357744,
          0.14759673525058278,
          -0.2570025601946974,
          -0.2509804497419833,
          -0.2828208286669122,
          0.0896119716490412,
          -0.2503342170660887,
          -0.1774842240444851,
          -0.06440781716312198,
          -0.25034510399634546,
          0.07334665115397077,
          -0.08010294756676478,
          -0.08062164882652312,
          -0.2918787484694981,
          -0.12644968039685428,
          -0.2922582192973082,
          -0.2971211193512554,
          -0.09856425883318101,
          -0.2503334138186224,
          -0.0801327645212794,
          -0.17122622576378682,
          -0.36694873215898266,
          -0.29187780805978225,
          -0.2918878275419162,
          -0.08010116688317033,
          -0.30944506620748935,
          -0.10009949571879306,
          -0.2919151735440812,
          0.004331306123880016,
          -0.08012806811287612,
          -0.2919216285272298,
          -0.09043540985839418,
          0.004323103716146073,
          -0.17754747769662427,
          -0.291887700334238,
          -0.08482220037364503,
          -0.7474832740610005,
          -0.5956223629263462,
          -0.4790057687367555,
          -0.307921691714319,
          -0.438228280151532,
          -0.37372134323064776,
          -0.5567083554271581,
          -0.5151736789339106,
          -0.5915022844409142,
          -0.515223999557249,
          -0.5151621946757707,
          -0.6694414459268256,
          -0.5151677069138388,
          -0.5152773676025344,
          -0.5151748664651892,
          -0.6195437103366899,
          -0.6694257319109762,
          -0.7463766256842475,
          -0.5154904946834015,
          -0.5151680515425884,
          -0.5152195297005442,
          -0.5152182981866231,
          -0.5567015653084564,
          -0.515162114611675,
          -0.7182606358180879,
          -0.5230713595765204,
          -0.5567077427789601,
          -0.5151836054452501,
          -0.631916938748568,
          -0.5567789829809898,
          -0.6317795397473761,
          -0.7183097477190162,
          -0.5836961483858536,
          -0.5836844723594938,
          -0.5152555828129931,
          -0.515180325379736,
          -0.5836931790213092,
          -0.5151744289547099,
          -0.5836827794978963,
          -0.5151634561867962,
          -0.5151650065333518,
          -0.515172759829238,
          -0.5837059717944401,
          -0.6381769717635458,
          -0.5836914407026416,
          -0.5836862240304926,
          -0.5152251858273666,
          -0.5836927137154565,
          -0.5151625302265461,
          -0.5151615282852923,
          -0.5151680507524952,
          -0.5153993840653904,
          -0.5836804184015032,
          -0.5152681691316144,
          -0.5151635509538153,
          -0.5151658015213837,
          -0.5151961144278654,
          -0.5151649781126725,
          -0.5151721209341897,
          -0.42280911985425235,
          -0.5151859099997496,
          -0.5154701503956558,
          -0.5151713929038225,
          -0.5151803645115554,
          -0.5151900727767019,
          -0.5837803499592709,
          -0.5620567283000373,
          -0.5567041569852905,
          -0.3449320043504332,
          -0.3449529908030586,
          -0.34497185782912393,
          -0.3458864601791693,
          -0.3450070430377408,
          -0.34495953397759677,
          -0.3519104836761062,
          -0.3449315981490676,
          -0.3449356737322522,
          -0.3449319140125648,
          -0.5755383948166003,
          -0.5759545891879868,
          -0.3450825104887206,
          -0.5745308063303094,
          -0.2910299668010408,
          -0.5567411472170853,
          -0.5585232702746947,
          -0.5567047594516779,
          -0.5567164544306032,
          -0.5567152278151044,
          -0.5567032303620773,
          -0.5568399365043613,
          -0.5567263493023846,
          -0.5569127263102875,
          -0.5789238701518503,
          -0.5567631761804531,
          -0.5848418565956188,
          -0.3449329274878799,
          -0.34493234673462086,
          -0.34497790801232014,
          -0.5992117720600173,
          -0.47844645365125216,
          -0.7061054316533842,
          -0.3825659171602076,
          -0.3880000009093301,
          -0.38801874337674086,
          -0.36781863658686653,
          -0.332678395040698,
          -0.5572703760120286,
          -0.5572378719665101,
          -0.5576078083300968,
          -0.5572665440982982,
          -0.5723570178604767,
          -0.5611299641645378,
          -0.5572286500472451,
          -0.3185848662719992,
          -0.3184678153602338,
          -0.31846088447064996,
          -0.4495897341050518,
          -0.5070248334598318,
          -0.390829972728829,
          -0.4423101703713151,
          -0.4422987588890232,
          -0.4422920652207085,
          -0.44237071117771326,
          -0.44232843689583634,
          -0.3449360443134185,
          -0.5567027660903411,
          -0.5570537849983581,
          -0.5567036280568921,
          -0.5579488738805184,
          -0.5568450445538468,
          -0.5567431603338697,
          -0.5568957377257769,
          -0.5567015942097805,
          -0.5567342362829973,
          -0.5567082712857546,
          -0.5573468604221348,
          -0.5680677751484254,
          -0.55671028213734,
          -0.5567129441012246,
          -0.5567011102478112,
          -0.5572260940163877,
          -0.556702545481244,
          -0.5567487411578268,
          -0.5567053979950743,
          -0.5568385502027089,
          -0.5567103595849483,
          -0.5567237264526104,
          -0.5670746487027309,
          -0.557183220252101,
          -0.556947402862917,
          -0.5567041566974108,
          -0.5567134063749491,
          -0.5567091667614458,
          -0.5567946129392327,
          -0.5567240491912094,
          -0.5567060198978725,
          -0.5567521169778682,
          -0.5567301217769695,
          -0.5567017649519428,
          -0.5567298628111276,
          -0.5674473289955062,
          -0.5567047425440446,
          -0.5567205275616971,
          -0.5567094003403832,
          -0.5789256927792906,
          -0.5567096388417566,
          -0.5567140231861712,
          -0.5567209357763754,
          -0.5567728945933862,
          -0.55682394467199,
          -0.5567021700942784,
          -0.556840451591724,
          -0.5654719618724005,
          -0.5567248892812603,
          -0.5595839719156208,
          -0.5567010250945656,
          -0.5572909541342567,
          -0.556708868451432,
          -0.5567089760534453,
          -0.5567535319669005,
          -0.5567049101560654,
          -0.5567017772405781,
          -0.371975196780279,
          -0.34619757353323394,
          0.3153304674137224,
          -0.629295850951642,
          5.329753843037231,
          -0.38225558640735924,
          -0.3303733538246954,
          0.04767595340363896
         ]
        },
        {
         "customdata": [
          [
           "TRC10"
          ]
         ],
         "hovertemplate": "<b>%{hovertext}</b><br><br>Class=%{marker.color}<br>PC 1=%{x}<br>PC 2=%{y}<br>PC 3=%{z}<br>Algorithm=%{customdata[0]}<extra></extra>",
         "hovertext": [
          "BitTorrent"
         ],
         "legendgroup": "2",
         "marker": {
          "color": [
           2
          ],
          "coloraxis": "coloraxis",
          "symbol": "square"
         },
         "mode": "markers",
         "name": "2",
         "scene": "scene",
         "showlegend": true,
         "type": "scatter3d",
         "x": [
          34.050119394060246
         ],
         "y": [
          1.7343651429343567
         ],
         "z": [
          -1.0036990781207207
         ]
        },
        {
         "customdata": [
          [
           "Equihash"
          ],
          [
           "Scrypt"
          ],
          [
           "Scrypt"
          ],
          [
           "Scrypt"
          ],
          [
           "Scrypt"
          ],
          [
           "X11"
          ],
          [
           "X11"
          ],
          [
           "X11"
          ],
          [
           "SHA-256"
          ],
          [
           "X11"
          ],
          [
           "X11"
          ],
          [
           "Scrypt"
          ],
          [
           "Scrypt"
          ],
          [
           "X11"
          ],
          [
           "Scrypt"
          ],
          [
           "X11"
          ],
          [
           "X11"
          ],
          [
           "Scrypt"
          ],
          [
           "XEVAN"
          ],
          [
           "Scrypt"
          ],
          [
           "X11"
          ],
          [
           "X11"
          ],
          [
           "Scrypt"
          ],
          [
           "Scrypt"
          ],
          [
           "Scrypt"
          ],
          [
           "Scrypt"
          ],
          [
           "X11"
          ],
          [
           "Scrypt"
          ],
          [
           "X11"
          ],
          [
           "X11"
          ],
          [
           "Scrypt"
          ],
          [
           "1GB AES Pattern Search"
          ],
          [
           "Scrypt"
          ],
          [
           "Time Travel"
          ],
          [
           "Scrypt"
          ],
          [
           "Tribus"
          ],
          [
           "Scrypt"
          ],
          [
           "Scrypt"
          ],
          [
           "Scrypt"
          ],
          [
           "Scrypt"
          ],
          [
           "Scrypt"
          ],
          [
           "Scrypt"
          ],
          [
           "Scrypt"
          ],
          [
           "Scrypt"
          ],
          [
           "Scrypt"
          ],
          [
           "Scrypt"
          ],
          [
           "Scrypt"
          ],
          [
           "Scrypt"
          ],
          [
           "Scrypt"
          ],
          [
           "Scrypt"
          ],
          [
           "Scrypt"
          ],
          [
           "Scrypt"
          ],
          [
           "Scrypt"
          ],
          [
           "Scrypt"
          ],
          [
           "Scrypt"
          ],
          [
           "Scrypt"
          ],
          [
           "Scrypt"
          ],
          [
           "Scrypt"
          ],
          [
           "Scrypt"
          ],
          [
           "X11"
          ],
          [
           "Scrypt"
          ],
          [
           "Scrypt"
          ],
          [
           "Scrypt"
          ],
          [
           "Scrypt"
          ],
          [
           "SkunkHash"
          ],
          [
           "Scrypt"
          ],
          [
           "Scrypt"
          ],
          [
           "Stanford Folding"
          ],
          [
           "Scrypt"
          ],
          [
           "Scrypt"
          ],
          [
           "Scrypt"
          ],
          [
           "Scrypt"
          ],
          [
           "Scrypt"
          ],
          [
           "Scrypt"
          ],
          [
           "X11"
          ],
          [
           "Scrypt"
          ],
          [
           "Scrypt"
          ],
          [
           "Scrypt"
          ],
          [
           "Scrypt"
          ],
          [
           "X11"
          ],
          [
           "Scrypt"
          ],
          [
           "X11"
          ],
          [
           "X11"
          ],
          [
           "X11"
          ],
          [
           "Scrypt"
          ],
          [
           "X11"
          ],
          [
           "Scrypt"
          ],
          [
           "Scrypt"
          ],
          [
           "Scrypt"
          ],
          [
           "Scrypt"
          ],
          [
           "Scrypt"
          ],
          [
           "Scrypt"
          ],
          [
           "X11"
          ],
          [
           "Scrypt"
          ],
          [
           "Scrypt"
          ],
          [
           "Scrypt"
          ],
          [
           "Scrypt"
          ],
          [
           "Scrypt"
          ],
          [
           "Scrypt"
          ],
          [
           "Scrypt"
          ],
          [
           "Scrypt"
          ],
          [
           "Scrypt"
          ],
          [
           "Scrypt"
          ],
          [
           "Scrypt"
          ],
          [
           "Scrypt"
          ],
          [
           "Scrypt"
          ],
          [
           "Scrypt"
          ],
          [
           "X11"
          ],
          [
           "SHA-256"
          ],
          [
           "SHA-256"
          ],
          [
           "X11"
          ],
          [
           "Ethash"
          ],
          [
           "Ethash"
          ],
          [
           "Ethash"
          ],
          [
           "Ethash"
          ],
          [
           "Ethash"
          ],
          [
           "Ethash"
          ],
          [
           "Ethash"
          ],
          [
           "Ethash"
          ],
          [
           "Equihash+Scrypt"
          ],
          [
           "Equihash"
          ],
          [
           "Equihash"
          ],
          [
           "Equihash"
          ],
          [
           "Equihash"
          ],
          [
           "X16R"
          ],
          [
           "Equihash"
          ],
          [
           "Equihash"
          ],
          [
           "Equihash"
          ],
          [
           "Exosis"
          ],
          [
           "Groestl"
          ],
          [
           "X16R"
          ],
          [
           "Groestl"
          ],
          [
           "Multiple"
          ],
          [
           "Multiple"
          ],
          [
           "M7 POW"
          ],
          [
           "Lyra2Z"
          ],
          [
           "Lyra2Z"
          ],
          [
           "Lyra2Z"
          ],
          [
           "Lyra2Z"
          ],
          [
           "SHA-256"
          ],
          [
           "Equihash"
          ],
          [
           "Lyra2REv2"
          ],
          [
           "Lyra2RE"
          ],
          [
           "Lyra2RE"
          ],
          [
           "Lyra2RE"
          ],
          [
           "Keccak"
          ],
          [
           "Jump Consistent Hash"
          ],
          [
           "IMesh"
          ],
          [
           "HybridScryptHash256"
          ],
          [
           "HMQ1725"
          ],
          [
           "Lyra2RE"
          ],
          [
           "Multiple"
          ],
          [
           "Equihash"
          ],
          [
           "Dagger-Hashimoto"
          ],
          [
           "CryptoNight"
          ],
          [
           "CryptoNight"
          ],
          [
           "CryptoNight"
          ],
          [
           "CryptoNight"
          ],
          [
           "CryptoNight"
          ],
          [
           "CryptoNight"
          ],
          [
           "CryptoNight"
          ],
          [
           "CryptoNight"
          ],
          [
           "Cloverhash"
          ],
          [
           "C11"
          ],
          [
           "Blake2b"
          ],
          [
           "Blake2b"
          ],
          [
           "Blake"
          ],
          [
           "Blake"
          ],
          [
           "Blake"
          ],
          [
           "BLAKE256"
          ],
          [
           "Argon2d"
          ],
          [
           "CryptoNight"
          ],
          [
           "CryptoNight"
          ],
          [
           "CryptoNight"
          ],
          [
           "CryptoNight"
          ],
          [
           "Dagger"
          ],
          [
           "Dagger"
          ],
          [
           "Dagger"
          ],
          [
           "Cryptonight-GPU"
          ],
          [
           "CryptoNight-V7"
          ],
          [
           "CryptoNight-V7"
          ],
          [
           "CryptoNight-V7"
          ],
          [
           "CryptoNight-V7"
          ],
          [
           "Equihash"
          ],
          [
           "CryptoNight-V7"
          ],
          [
           "CryptoNight Heavy"
          ],
          [
           "CryptoNight"
          ],
          [
           "CryptoNight"
          ],
          [
           "CryptoNight"
          ],
          [
           "CryptoNight"
          ],
          [
           "CryptoNight"
          ],
          [
           "CryptoNight"
          ],
          [
           "CryptoNight"
          ],
          [
           "CryptoNight Heavy"
          ],
          [
           "Multiple"
          ],
          [
           "Lyra2REv2"
          ],
          [
           "Multiple"
          ],
          [
           "QuBit"
          ],
          [
           "QuBit"
          ],
          [
           "Quark"
          ],
          [
           "SHA-256"
          ],
          [
           "Multiple"
          ],
          [
           "SHA-256"
          ],
          [
           "SHA-256"
          ],
          [
           "SHA-256"
          ],
          [
           "X11GOST"
          ],
          [
           "SHA-256"
          ],
          [
           "SHA-256"
          ],
          [
           "SHA-256"
          ],
          [
           "SHA-256"
          ],
          [
           "X11"
          ],
          [
           "SHA-256"
          ],
          [
           "SHA-256"
          ],
          [
           "SHA-256"
          ],
          [
           "SHA-256"
          ],
          [
           "SHA-256"
          ],
          [
           "X11"
          ],
          [
           "SHA-256"
          ],
          [
           "X11"
          ],
          [
           "SHA-256"
          ],
          [
           "SHA-256"
          ],
          [
           "SHA-256"
          ],
          [
           "SHA-256"
          ],
          [
           "SHA-256"
          ],
          [
           "SHA-256"
          ],
          [
           "SHA-256"
          ],
          [
           "X13"
          ],
          [
           "NeoScrypt"
          ],
          [
           "Scrypt"
          ],
          [
           "NeoScrypt"
          ],
          [
           "NeoScrypt"
          ],
          [
           "NeoScrypt"
          ],
          [
           "Multiple"
          ],
          [
           "NeoScrypt"
          ],
          [
           "NeoScrypt"
          ],
          [
           "NIST5"
          ],
          [
           "NIST5"
          ],
          [
           "NeoScrypt"
          ],
          [
           "Equihash"
          ]
         ],
         "hovertemplate": "<b>%{hovertext}</b><br><br>Class=%{marker.color}<br>PC 1=%{x}<br>PC 2=%{y}<br>PC 3=%{z}<br>Algorithm=%{customdata[0]}<extra></extra>",
         "hovertext": [
          "PirateCash",
          "Block-Logic",
          "SolarCoin",
          "IrishCoin",
          "Poseidon",
          "ArtexCoin",
          "MarsCoin ",
          "AC3",
          "TerraCoin",
          "Elements",
          "DigitalPrice",
          "Sojourn Coin",
          "SmileyCoin",
          "BolivarCoin",
          "ShareChain",
          "VaultCoin",
          "Sucre",
          "Linx",
          "Urals Coin",
          "Kronecoin",
          "Axe",
          "Kurrent",
          "Bata",
          "Pakcoin",
          "FrazCoin",
          "Crypto Escudo",
          "DAS",
          "NewYorkCoin",
          "ArcticCoin",
          "Pioneer Coin",
          "AdCoin",
          "HOdlcoin",
          "BitFlip",
          "Bitcore",
          "Canada eCoin",
          "KEYCO",
          "Digitalcoin ",
          "BeaverCoin",
          "MonaCoin",
          "Franko",
          "GrandCoin",
          "Gamecredits",
          "RonPaulCoin",
          "Revolution VR",
          "StableCoin",
          "SmartCoin",
          "BitZeny",
          "Song Coin",
          "Quatloo",
          "EB3coin",
          "SexCoin",
          "MoonCoin",
          "E-Gulden",
          "Emerald",
          "CannaCoin",
          "EarthCoin",
          "OsmiumCoin",
          "gCn Coin",
          "Litecoin",
          "Azart",
          "SocialCoin",
          "Unify",
          "EquiTrader",
          "Argentum",
          "MUNcoin",
          "BenjiRolls",
          "Catcoin",
          "Folding Coin",
          "ProsperCoin",
          "LottoCoin",
          "1Credit",
          "GreenCoin",
          "MegaCoin",
          "MinCoin",
          "CryptCoin",
          "Omni",
          "Francs",
          "NobleCoin",
          "Shilling",
          "Onix",
          "HexCoin",
          "Pura",
          "PacCoin",
          "PizzaCoin",
          "eBoost",
          "Crypto Improvement Fund",
          "PopularCoin",
          "Litebar ",
          "NyanCoin",
          "LuckyCoin",
          "KrugerCoin",
          "OmniCron",
          "Spreadcoin",
          "ViaCoin",
          "WorldCoin",
          "ArtByte",
          "Flo",
          "Wild Beast Coin",
          "MasterCoin",
          "PesetaCoin",
          "YoCoin",
          "GlobalCoin",
          "KiloCoin",
          "GoldCoin",
          "Infinite Coin",
          "Gulden",
          "DopeCoin",
          "UroCoin",
          "TigerCoin",
          "UnbreakableCoin",
          "MindCoin",
          "Expanse",
          "DaxxCoin",
          "Reality Clash",
          "Callisto Network",
          "Ellaism",
          "Ethereum",
          "Ethereum Classic",
          "Elementrem",
          "Vollar",
          "ZClassic",
          "Bitcoin Gold",
          "CrypticCoin",
          "Bitrolium",
          "Motion",
          "Horizen",
          "Beam",
          "Zero",
          "Exosis",
          "Groestlcoin",
          "Xchange",
          "Riecoin",
          "Verge",
          "Circuits of Value",
          "Cryptonite",
          "Actinium",
          "Alpenschillling",
          "GINcoin",
          "ZCoin",
          "SysCoin",
          "ZCash",
          "KREDS",
          "Crypto",
          "HexxCoin",
          "Infinex",
          "SmartCash",
          "MassGrid",
          "Aidos Kuneen",
          "MediterraneanCoin",
          "PlusOneCoin",
          "Zoin",
          "MyriadCoin",
          "BitcoinZ",
          "DubaiCoin",
          "FREDEnergy",
          "DigitalNote ",
          "UltraNote",
          "BitCoal",
          "Cannabis Industry Coin",
          "PlatinCoin",
          "Monero Classic",
          "Newton Coin",
          "ChanCoin",
          "Interzone",
          "Siacoin",
          "Nano",
          "Lithium",
          "BlakeCoin",
          "Universal Molecule",
          "Photon",
          "Dynamic",
          "ByteCoin",
          "Karbo",
          "PluraCoin",
          "Sumokoin",
          "SoilCoin",
          "Pirl",
          "Travelflex",
          "Ryo",
          "Webchain",
          "Monero",
          "Citadel",
          "Quantum Resistant Ledger",
          "Bithereum",
          "Lethean",
          "Loki",
          "Niobio Cash",
          "TurtleCoin",
          "BitTube",
          "LeviarCoin",
          "Beldex",
          "Dinastycoin",
          "Bikercoins",
          "Qwertycoin",
          "Unitus",
          "Vertcoin",
          "JoinCoin",
          "SLICE",
          "CypherPunkCoin",
          "QuarkCoin",
          "DollarCoin",
          "SHIELD",
          "UnitedBitcoin",
          "ILCoin",
          "ZayedCoin",
          "SibCoin",
          "IXcoin",
          "Bitcoin Cash",
          "I0coin",
          "Bitcoin SV",
          "BowsCoin",
          "ZetaCoin",
          "JouleCoin",
          "Anarchists Prime",
          "Crown Coin",
          "Project Pai",
          "FuturoCoin",
          "SoonCoin",
          "Adzcoin",
          "Unobtanium",
          "DevCoin",
          "CarpeDiemCoin",
          "GlobalToken",
          "BLAST",
          "Bitcoin",
          "Namecoin",
          "Bitcoin Rhodium",
          "GoByte",
          "Einsteinium",
          "Innova",
          "FeatherCoin",
          "VIVO Coin",
          "DigiByte",
          "UFO Coin",
          "SparksPay",
          "Jumpcoin",
          "Coinonat",
          "GunCoin",
          "Komodo"
         ],
         "legendgroup": "1",
         "marker": {
          "color": [
           1,
           1,
           1,
           1,
           1,
           1,
           1,
           1,
           1,
           1,
           1,
           1,
           1,
           1,
           1,
           1,
           1,
           1,
           1,
           1,
           1,
           1,
           1,
           1,
           1,
           1,
           1,
           1,
           1,
           1,
           1,
           1,
           1,
           1,
           1,
           1,
           1,
           1,
           1,
           1,
           1,
           1,
           1,
           1,
           1,
           1,
           1,
           1,
           1,
           1,
           1,
           1,
           1,
           1,
           1,
           1,
           1,
           1,
           1,
           1,
           1,
           1,
           1,
           1,
           1,
           1,
           1,
           1,
           1,
           1,
           1,
           1,
           1,
           1,
           1,
           1,
           1,
           1,
           1,
           1,
           1,
           1,
           1,
           1,
           1,
           1,
           1,
           1,
           1,
           1,
           1,
           1,
           1,
           1,
           1,
           1,
           1,
           1,
           1,
           1,
           1,
           1,
           1,
           1,
           1,
           1,
           1,
           1,
           1,
           1,
           1,
           1,
           1,
           1,
           1,
           1,
           1,
           1,
           1,
           1,
           1,
           1,
           1,
           1,
           1,
           1,
           1,
           1,
           1,
           1,
           1,
           1,
           1,
           1,
           1,
           1,
           1,
           1,
           1,
           1,
           1,
           1,
           1,
           1,
           1,
           1,
           1,
           1,
           1,
           1,
           1,
           1,
           1,
           1,
           1,
           1,
           1,
           1,
           1,
           1,
           1,
           1,
           1,
           1,
           1,
           1,
           1,
           1,
           1,
           1,
           1,
           1,
           1,
           1,
           1,
           1,
           1,
           1,
           1,
           1,
           1,
           1,
           1,
           1,
           1,
           1,
           1,
           1,
           1,
           1,
           1,
           1,
           1,
           1,
           1,
           1,
           1,
           1,
           1,
           1,
           1,
           1,
           1,
           1,
           1,
           1,
           1,
           1,
           1,
           1,
           1,
           1,
           1,
           1,
           1,
           1,
           1,
           1,
           1,
           1,
           1,
           1,
           1,
           1,
           1,
           1,
           1,
           1,
           1,
           1,
           1,
           1,
           1,
           1,
           1,
           1,
           1,
           1,
           1
          ],
          "coloraxis": "coloraxis",
          "symbol": "x"
         },
         "mode": "markers",
         "name": "1",
         "scene": "scene",
         "showlegend": true,
         "type": "scatter3d",
         "x": [
          -0.2731172686576495,
          -0.16940197694066536,
          0.5245458654014268,
          -0.16967396043570315,
          -0.17048395428057694,
          -0.21501347931763112,
          -0.2279855945292375,
          -0.22373810270166242,
          -0.14193936176749994,
          -0.18287306012540555,
          -0.22747561868018376,
          -0.09633619897155271,
          0.5444693344513064,
          -0.22826889995158922,
          0.022194272458953352,
          -0.22116162975595807,
          -0.2284207735743636,
          -0.1695627212357386,
          -0.14511883839916556,
          -0.16987453166965402,
          -0.22840295103392602,
          -0.2262492206409269,
          -0.1705852424859303,
          -0.16854307612371539,
          -0.17042225853058432,
          -0.15407777162874317,
          -0.2284467529481683,
          1.5750916805886526,
          -0.22786986759402136,
          -0.22834624646992668,
          -0.16957578090766032,
          -0.14317822417684034,
          -0.17024718409135484,
          -0.1605826374834529,
          -0.16875546803382818,
          -0.16895120236480543,
          -0.169933046192783,
          -0.17062050355358677,
          -0.16910557469414841,
          -0.17058882253379465,
          -0.1498312893466923,
          -0.1692350667688284,
          -0.17052016281018015,
          -0.16663191387576748,
          -0.16861670737197654,
          -0.17000738625134992,
          -0.16798924297625123,
          -0.16879627368817407,
          -0.16988449914844767,
          -0.1415797845914625,
          -0.16733825283492848,
          2.5480449958278815,
          -0.17027837436052404,
          -0.17021775200058542,
          -0.1705318676469585,
          0.07796972359241112,
          -0.17065219122257308,
          3.235839488801331,
          -0.16931804035146,
          -0.22837435200487244,
          -0.17008823459897884,
          -0.17032447873143175,
          -0.170005640966006,
          -0.1700801971856698,
          -0.18391787918470895,
          -0.17018331393061834,
          -0.1704455033323193,
          -0.11805874506652297,
          -0.17046322451260482,
          0.13654053912792666,
          0.4806805075656434,
          -0.043600751024337234,
          -0.16991921566929505,
          -0.1705406665303244,
          -0.228424142803667,
          -0.17067043252800204,
          -0.17046050792882186,
          -0.035597949853438296,
          -0.17033418260002214,
          -0.21932942504237307,
          -0.17050852257054216,
          -0.22399560568434196,
          0.4859446050181719,
          -0.22841876296582841,
          -0.16875367847702666,
          -0.2224931294359617,
          -0.08688868367030275,
          -0.1706592829041299,
          -0.16421034609749424,
          -0.17030479323111883,
          -0.16695431959315676,
          -0.17053466722043345,
          -0.22833487223287202,
          -0.1702368641616851,
          -0.1673430195171471,
          -0.1539272935386302,
          -0.16769065379402345,
          -0.17066149527232552,
          -0.17067037408639377,
          -0.16782554023909604,
          -0.16948262224910443,
          -0.16938501207585366,
          -0.09748579677045964,
          -0.16966226763898895,
          1.5767277811356137,
          -0.15372132380555315,
          -0.16783991402700896,
          -0.2285978461511138,
          -0.14165238240622116,
          -0.14192249727480247,
          -0.2283055971376235,
          -0.1485337700378731,
          -0.07162254012884214,
          -0.14830927510432537,
          -0.0997387025816629,
          -0.14664345975389714,
          -0.14746701996051345,
          -0.14591093173604178,
          -0.14827614671800612,
          -0.11846626044696551,
          -0.15093535609440192,
          -0.1507938840556439,
          -0.04564370146481957,
          -0.14978588135487292,
          -0.2116886019571873,
          -0.15091481078815774,
          -0.14885627527491185,
          -0.15094770730857096,
          -0.14507238441977757,
          -0.21704268675592572,
          -0.21111702374972569,
          -0.21748129396202573,
          0.19403698534826283,
          -0.09693104940281579,
          -0.09423719300938317,
          -0.15734942490361842,
          -0.15565282712055087,
          -0.15795096819477172,
          -0.15786669258639618,
          -0.12935264277848055,
          -0.15091375459836745,
          -0.1936060261414568,
          -0.14796232372013052,
          -0.14850217470109373,
          -0.14834758454197075,
          -0.11291064060928752,
          -0.15333419870716655,
          -0.1593893083501616,
          -0.14124224310076028,
          -0.1465824307886001,
          -0.1482207978665642,
          -0.0828650737520434,
          0.061148603703722174,
          -0.15329505414158442,
          0.3804156321764921,
          0.4555300723397435,
          1.1376039059407876,
          0.30056017828053017,
          0.30057736490301945,
          0.3046657878649575,
          0.30074254412752033,
          2.107248901778837,
          -0.18588054440983462,
          -0.1953643230116838,
          0.3803886339250706,
          -0.01962761593960621,
          -0.1301491014369959,
          -0.08067590821598561,
          -0.12975765419266144,
          1.11499940996068,
          -0.1574428060064762,
          3.8534713999024772,
          0.30058303729693686,
          0.3143340906309288,
          0.30115529620409104,
          -0.144425799865391,
          -0.1431862535116541,
          -0.14268961882676168,
          -0.137706029298108,
          -0.13082788746524102,
          -0.14319813291198902,
          -0.14196440526100645,
          -0.14182194941160686,
          -0.1506268594556754,
          -0.13094514591638062,
          0.5835952803193114,
          0.3044306294710672,
          8.029147799334183,
          0.30847397313609276,
          0.3009719468882191,
          0.32229655139923696,
          0.3366661060177319,
          0.30070797210254685,
          3.103659148670151,
          -0.11683983291855286,
          -0.20803384407848713,
          -0.11757420152361588,
          -0.17977774182023534,
          -0.18056583201695917,
          -0.21338167345577366,
          -0.142330218792701,
          -0.10708110658049536,
          -0.1421277546941165,
          -0.10873007434336299,
          -0.14237155601611587,
          -0.1347910382700615,
          -0.14211057804565566,
          -0.14214834554739564,
          -0.14211169958763262,
          -0.14214838308588967,
          -0.22827024413332148,
          -0.13923675964742044,
          -0.14171962128534116,
          -0.14195605929592942,
          -0.14193873267012302,
          -0.10201262472176863,
          -0.22751636184873764,
          -0.14221589005134191,
          -0.22746717234189356,
          -0.14251248697157054,
          0.2353481923188912,
          0.27599152506902047,
          -0.1402943401337376,
          -0.1414252040615906,
          -0.14214918072880506,
          -0.14218813256269036,
          -0.1105027664759411,
          -0.1788173716052403,
          -0.16588787663974908,
          -0.1787172871889146,
          -0.17418747125810946,
          -0.1788716977677093,
          0.1702887093704096,
          -0.10410325932102958,
          -0.1788692360671344,
          -0.19019177945436208,
          -0.19013246139259074,
          -0.1719138797777259,
          -0.25887031268848937
         ],
         "y": [
          -0.29693820748335853,
          -1.128065491951172,
          -1.1669906566040564,
          -1.128038730553868,
          -1.1280399527392155,
          -0.8776620652769104,
          -0.8778265472474265,
          -0.8780107234764191,
          -1.3283879089283068,
          -0.877347983615157,
          -0.8778518811022916,
          -1.132205558487502,
          -1.1348224471152586,
          -0.8778315771700733,
          -1.1275859922871536,
          -0.8782116139718732,
          -0.8778336777578774,
          -1.1280582379007562,
          -0.6146327019461147,
          -1.1280590699411508,
          -0.8778338168322025,
          -0.8778911495283427,
          -1.128033160545229,
          -1.1280749203193827,
          -1.1280370646004456,
          -1.1280858369418978,
          -0.8778340302229762,
          -1.0648087766945482,
          -0.8778400080759856,
          -0.8778330707837523,
          -1.1280587108674367,
          -2.087870179487625,
          -1.128043799672991,
          -1.992164983357365,
          -1.128029002566995,
          -2.1239767432239844,
          -1.1280377616539967,
          -1.1280333653596055,
          -1.1280450293028228,
          -1.128037367029546,
          -1.1282070319328703,
          -1.1280359111976983,
          -1.1280412640606763,
          -1.1280240117690854,
          -1.1281220437585582,
          -1.128042437498766,
          -1.1280993196231954,
          -1.1281025527331439,
          -1.1280698913505696,
          -1.1295945425821596,
          -1.128075743483749,
          -1.280622774927935,
          -1.1280325074945723,
          -1.1280375035512766,
          -1.1280365492751319,
          -1.1278542576401807,
          -1.1280340908015662,
          -1.1354188019178133,
          -1.128038916153734,
          -0.8778353962022756,
          -1.1280609253758735,
          -1.1280330506137977,
          -1.1280559728495803,
          -1.1280534427494258,
          -1.93181677051182,
          -1.1280385579043561,
          -1.1280385602067324,
          -2.275872621515166,
          -1.1280392019937442,
          -1.128941137387475,
          -1.164591237780221,
          -1.1299688127786696,
          -1.1280332295824573,
          -1.1280348150746782,
          -0.8778326229790008,
          -1.1280333799074889,
          -1.12803844983363,
          -1.1329478688745986,
          -1.1280404126268617,
          -0.8782106368638094,
          -1.1280415650952182,
          -0.8778892937942079,
          -0.917327089051202,
          -0.8778370045814848,
          -1.1280289377567345,
          -0.8779329469124472,
          -1.1282676365257798,
          -1.1280334556940477,
          -1.1280193423704683,
          -1.128032810498725,
          -1.1280719207894547,
          -1.12803026413859,
          -0.8778306975260269,
          -1.128032311722461,
          -1.1280859978745428,
          -1.1280803872550116,
          -1.1280296660588573,
          -1.1280343713435372,
          -1.1280333797719224,
          -1.1280387261003277,
          -1.1281000235457617,
          -1.1280321887140028,
          -1.1319203037029444,
          -1.1280436979371702,
          -1.1239817033973465,
          -1.128517496127028,
          -1.1280612227126445,
          -0.877827145804876,
          -1.3283807924449187,
          -1.3284121416858978,
          -0.8778270221972929,
          -1.9945608098958638,
          -1.9983021220507031,
          -1.9945576362682125,
          -1.9970321529766397,
          -1.9946643552634107,
          -1.9945111236605209,
          -1.9945920617861628,
          -1.9945575594204437,
          -2.144950334406581,
          -2.2327799956964554,
          -2.2327748721710723,
          -2.233921746941604,
          -2.2327704015942387,
          -1.084248143541221,
          -2.2327792516314164,
          -2.2328627833209995,
          -2.232777827898501,
          -2.1810940934032237,
          -1.166248526799809,
          -1.0842783884704412,
          -1.1662506820047531,
          -1.8460069931525325,
          -1.8465058950907383,
          -2.147337787116701,
          -2.1433752790450904,
          -2.143455051163242,
          -2.143349011830602,
          -2.1433530858879224,
          -1.32848516580944,
          -2.2327792133806406,
          -1.2202395435795685,
          -2.247303908057276,
          -2.2472869855805433,
          -2.2472920304589192,
          -1.2688676584085279,
          -2.254835089288287,
          -2.19898252857154,
          -2.199694482268565,
          -2.2718562105863547,
          -2.2472839868343764,
          -1.8465195057506978,
          -2.238814785741212,
          -2.24894121365567,
          -2.2316556005196357,
          -2.230190521228935,
          -2.2545219215986583,
          -2.2292732865243905,
          -2.229278221199752,
          -2.229508692738752,
          -2.2292705392795624,
          -2.2841293411053796,
          -2.0635747483909395,
          -1.3034337741747197,
          -2.2039913437641228,
          -2.2187007275544106,
          -2.2147618081927223,
          -2.2175300398085636,
          -2.214799862626393,
          -1.2719451125027421,
          -2.042575509218993,
          -2.221194069607787,
          -2.229270824224412,
          -2.2294200576479906,
          -2.229301675126808,
          -2.1968783709838857,
          -2.1969160562140977,
          -2.1968612581471616,
          -2.2017079356151856,
          -2.190924952912914,
          -2.1902288420251455,
          -2.1903051102817677,
          -2.190247648981695,
          -2.232775286476414,
          -2.1904385279395435,
          -2.11508555022235,
          -2.2293446117742137,
          -2.603144818668642,
          -2.229632286587356,
          -2.229285505725903,
          -2.2293933468937635,
          -2.2292650622933454,
          -2.229276106260649,
          -2.144323522312993,
          -1.8464423757618518,
          -1.2200978215414249,
          -1.846470802095515,
          -1.4947945761545522,
          -1.4947577398029561,
          -0.5154183337305781,
          -1.3283815605809366,
          -1.846520448218105,
          -1.3283804571689775,
          -1.3287921908824194,
          -1.3283824677407183,
          -2.1729034732380557,
          -1.3283803803524932,
          -1.3283817481334024,
          -1.3283804209700518,
          -1.3283817494928902,
          -0.877829010743453,
          -1.328373581778549,
          -1.3283819121777902,
          -1.3283962020582734,
          -1.3283878861450318,
          -1.3282874022342288,
          -0.8778533566494042,
          -1.3283841943127574,
          -0.8778411147822178,
          -1.328381369943463,
          -1.3284259866180517,
          -1.3273635024842303,
          -1.328410709005482,
          -1.3283836713771464,
          -1.3283817783801792,
          -1.3283831890526445,
          -0.3414259476545483,
          -1.582729827433729,
          -1.1280557700803227,
          -1.5827348326488362,
          -1.5827610307197941,
          -1.5827286567713446,
          -1.8497730942972634,
          -1.5826183120160506,
          -1.5827246449579595,
          -0.584665504803857,
          -0.5846811732775786,
          -1.5827859101457622,
          -2.3399270048359733
         ],
         "z": [
          0.299608638966644,
          0.006751464444743951,
          -0.006712116002258092,
          0.006755200717700275,
          0.006777163279457267,
          0.04793296131041686,
          0.04830409734111787,
          0.04821444897777499,
          0.21853950633049637,
          0.04702592752782445,
          0.04829376496062273,
          0.0053394590305970244,
          -0.011555765116933148,
          0.048312395307651884,
          0.0015309359718225482,
          0.04817200991127452,
          0.04831676387415185,
          0.006754819116782634,
          -0.06832304402385805,
          0.006763322108272872,
          0.048316302848851106,
          0.04826601781352091,
          0.006778979687941839,
          0.0067296118317459325,
          0.006775116162588703,
          0.0063417770605217255,
          0.04831751023891204,
          -0.04866744930002433,
          0.04830278530980015,
          0.04831467689195079,
          0.006755233916592161,
          0.3301743634159442,
          0.006771306338146131,
          0.39290238627609825,
          0.00672917923268102,
          0.5055311329973302,
          0.0067620436062402894,
          0.006779956074616232,
          0.0067407475031834975,
          0.006779639301884964,
          0.006243722410865,
          0.006743011497047782,
          0.006778313330643706,
          0.006671360932358296,
          0.006737903456789488,
          0.006764670393666648,
          0.006717974004238361,
          0.006740126092232205,
          0.00676503939013512,
          0.006207447910492516,
          0.006697297329639545,
          -0.04595357898370268,
          0.006770633673490777,
          0.0067696711714679055,
          0.006777997006454355,
          6.58046926594212e-05,
          0.006780906006682403,
          -0.08390723248812257,
          0.006745646894513114,
          0.04831574466373753,
          0.006769321824868091,
          0.006771947180307024,
          0.006766435864831901,
          0.006768103563005946,
          0.324473373621978,
          0.006768885541542446,
          0.006775942004825521,
          0.5234620696730706,
          0.006776504862931974,
          -0.0013649406975510833,
          -0.005852884837552488,
          0.003620710001298139,
          0.006761064529534202,
          0.006778001589006203,
          0.04831671330893542,
          0.006781301732871406,
          0.006776331035611722,
          0.003804243424166505,
          0.006773194139891771,
          0.04812256998380646,
          0.006778040373267359,
          0.04820511905890726,
          0.03437978847110636,
          0.048317155239612844,
          0.006729122392982209,
          0.048170529104139465,
          0.004557898898654726,
          0.006781011817496781,
          0.006605565396863841,
          0.006771385243148445,
          0.0066864528765615714,
          0.006777230743276141,
          0.048314052994242795,
          0.006769490318283226,
          0.0066987987192014195,
          0.006336997592591229,
          0.006700611334046212,
          0.0067811939670712066,
          0.0067813001419125924,
          0.006705454634691896,
          0.006758258733674466,
          0.00674654843383673,
          0.00533220067666731,
          0.006755551189831072,
          -0.04078797418978291,
          0.006389985182794587,
          0.006708853860382549,
          0.04832065467190933,
          0.21853083008996557,
          0.21854229733525637,
          0.048312772988022924,
          0.38825717707974006,
          0.3866882862861671,
          0.38825071041240294,
          0.38727490639384,
          0.3882201693939765,
          0.38822181504038566,
          0.3881907748779173,
          0.3882498085566475,
          0.44036536449512653,
          0.5982739703731357,
          0.5982694769543808,
          0.5955932010084206,
          0.5982417505189097,
          0.14069300095000972,
          0.5982733178154624,
          0.5982291028627081,
          0.5982740124970062,
          0.5124838484847155,
          0.17544169210095015,
          0.1406816683138499,
          0.17545378467957196,
          0.4378423370893319,
          0.4457398002301928,
          0.3722973209195562,
          0.448776716754724,
          0.44874173900466297,
          0.4487893884571435,
          0.44878766592899294,
          0.21821379019568068,
          0.5982732842688827,
          0.2304159465697436,
          0.4370337157205443,
          0.4370459784328643,
          0.43704249356607194,
          0.19416050884676392,
          0.5157379073307342,
          0.36080003567974217,
          0.493579607312889,
          0.49321933575322835,
          0.43703800435249257,
          0.445363073113229,
          0.5933743588434517,
          0.5975039093182911,
          0.41448894927750646,
          0.4122712565112371,
          0.39717306743417946,
          0.4163190519386183,
          0.4163192501787928,
          0.4162400818847196,
          0.4163137761620188,
          0.3750421198175339,
          0.36453367546476445,
          0.18091597283112948,
          0.4035190004081095,
          0.41625406040746793,
          0.42227046555190273,
          0.4213096994886357,
          0.4222650264042717,
          0.06101638667864147,
          0.41183037786156,
          0.3196197214507581,
          0.41631810703440675,
          0.4159680157084041,
          0.41630683722134665,
          0.43794306723356946,
          0.4379147542366648,
          0.4378940508942258,
          0.48274624983211656,
          0.46130649780281757,
          0.46154619900918126,
          0.46152320903906774,
          0.46151168089294137,
          0.5982650373930946,
          0.461244519140367,
          0.39757879705712973,
          0.4162244394304723,
          0.25838693548908864,
          0.41615414409170803,
          0.41630960644616777,
          0.41575014982440867,
          0.4153462522796234,
          0.4163154520218065,
          0.33367283318500796,
          0.4462670885455199,
          0.23078525708495784,
          0.44629065859916045,
          0.1726564797872851,
          0.17267275666858933,
          0.12105902694978816,
          0.21854917517370132,
          0.44601491170036467,
          0.2185435786204439,
          0.21769989864558267,
          0.21855040913155385,
          0.394221731596813,
          0.21854310606897095,
          0.2185443056360524,
          0.2185431416912591,
          0.2185443068283457,
          0.04831208782741421,
          0.21846485426285525,
          0.21853278958886,
          0.218541066187004,
          0.2185394863491774,
          0.21745152237862878,
          0.04829505904049409,
          0.21854645097688066,
          0.04829209599305146,
          0.2185540549268782,
          0.2083908786733029,
          0.2071547965161511,
          0.2184982878215536,
          0.21852510166901526,
          0.21854433216298894,
          0.218545569346693,
          -0.020198439015977347,
          0.24501690396632006,
          0.00665558965225246,
          0.24501488067065594,
          0.24489648033123115,
          0.24501820925891304,
          0.43898575796184214,
          0.24299123295724087,
          0.24501760580968363,
          0.006245937814466557,
          0.006246439496312441,
          0.2448386239113848,
          1.2318535707696034
         ]
        }
       ],
       "layout": {
        "coloraxis": {
         "colorbar": {
          "title": {
           "text": "Class"
          }
         },
         "colorscale": [
          [
           0,
           "#0d0887"
          ],
          [
           0.1111111111111111,
           "#46039f"
          ],
          [
           0.2222222222222222,
           "#7201a8"
          ],
          [
           0.3333333333333333,
           "#9c179e"
          ],
          [
           0.4444444444444444,
           "#bd3786"
          ],
          [
           0.5555555555555556,
           "#d8576b"
          ],
          [
           0.6666666666666666,
           "#ed7953"
          ],
          [
           0.7777777777777778,
           "#fb9f3a"
          ],
          [
           0.8888888888888888,
           "#fdca26"
          ],
          [
           1,
           "#f0f921"
          ]
         ]
        },
        "legend": {
         "title": {
          "text": "Class"
         },
         "tracegroupgap": 0,
         "x": 0,
         "y": 1
        },
        "margin": {
         "t": 60
        },
        "scene": {
         "domain": {
          "x": [
           0,
           1
          ],
          "y": [
           0,
           1
          ]
         },
         "xaxis": {
          "title": {
           "text": "PC 1"
          }
         },
         "yaxis": {
          "title": {
           "text": "PC 2"
          }
         },
         "zaxis": {
          "title": {
           "text": "PC 3"
          }
         }
        },
        "template": {
         "data": {
          "bar": [
           {
            "error_x": {
             "color": "#2a3f5f"
            },
            "error_y": {
             "color": "#2a3f5f"
            },
            "marker": {
             "line": {
              "color": "#E5ECF6",
              "width": 0.5
             },
             "pattern": {
              "fillmode": "overlay",
              "size": 10,
              "solidity": 0.2
             }
            },
            "type": "bar"
           }
          ],
          "barpolar": [
           {
            "marker": {
             "line": {
              "color": "#E5ECF6",
              "width": 0.5
             },
             "pattern": {
              "fillmode": "overlay",
              "size": 10,
              "solidity": 0.2
             }
            },
            "type": "barpolar"
           }
          ],
          "carpet": [
           {
            "aaxis": {
             "endlinecolor": "#2a3f5f",
             "gridcolor": "white",
             "linecolor": "white",
             "minorgridcolor": "white",
             "startlinecolor": "#2a3f5f"
            },
            "baxis": {
             "endlinecolor": "#2a3f5f",
             "gridcolor": "white",
             "linecolor": "white",
             "minorgridcolor": "white",
             "startlinecolor": "#2a3f5f"
            },
            "type": "carpet"
           }
          ],
          "choropleth": [
           {
            "colorbar": {
             "outlinewidth": 0,
             "ticks": ""
            },
            "type": "choropleth"
           }
          ],
          "contour": [
           {
            "colorbar": {
             "outlinewidth": 0,
             "ticks": ""
            },
            "colorscale": [
             [
              0,
              "#0d0887"
             ],
             [
              0.1111111111111111,
              "#46039f"
             ],
             [
              0.2222222222222222,
              "#7201a8"
             ],
             [
              0.3333333333333333,
              "#9c179e"
             ],
             [
              0.4444444444444444,
              "#bd3786"
             ],
             [
              0.5555555555555556,
              "#d8576b"
             ],
             [
              0.6666666666666666,
              "#ed7953"
             ],
             [
              0.7777777777777778,
              "#fb9f3a"
             ],
             [
              0.8888888888888888,
              "#fdca26"
             ],
             [
              1,
              "#f0f921"
             ]
            ],
            "type": "contour"
           }
          ],
          "contourcarpet": [
           {
            "colorbar": {
             "outlinewidth": 0,
             "ticks": ""
            },
            "type": "contourcarpet"
           }
          ],
          "heatmap": [
           {
            "colorbar": {
             "outlinewidth": 0,
             "ticks": ""
            },
            "colorscale": [
             [
              0,
              "#0d0887"
             ],
             [
              0.1111111111111111,
              "#46039f"
             ],
             [
              0.2222222222222222,
              "#7201a8"
             ],
             [
              0.3333333333333333,
              "#9c179e"
             ],
             [
              0.4444444444444444,
              "#bd3786"
             ],
             [
              0.5555555555555556,
              "#d8576b"
             ],
             [
              0.6666666666666666,
              "#ed7953"
             ],
             [
              0.7777777777777778,
              "#fb9f3a"
             ],
             [
              0.8888888888888888,
              "#fdca26"
             ],
             [
              1,
              "#f0f921"
             ]
            ],
            "type": "heatmap"
           }
          ],
          "heatmapgl": [
           {
            "colorbar": {
             "outlinewidth": 0,
             "ticks": ""
            },
            "colorscale": [
             [
              0,
              "#0d0887"
             ],
             [
              0.1111111111111111,
              "#46039f"
             ],
             [
              0.2222222222222222,
              "#7201a8"
             ],
             [
              0.3333333333333333,
              "#9c179e"
             ],
             [
              0.4444444444444444,
              "#bd3786"
             ],
             [
              0.5555555555555556,
              "#d8576b"
             ],
             [
              0.6666666666666666,
              "#ed7953"
             ],
             [
              0.7777777777777778,
              "#fb9f3a"
             ],
             [
              0.8888888888888888,
              "#fdca26"
             ],
             [
              1,
              "#f0f921"
             ]
            ],
            "type": "heatmapgl"
           }
          ],
          "histogram": [
           {
            "marker": {
             "pattern": {
              "fillmode": "overlay",
              "size": 10,
              "solidity": 0.2
             }
            },
            "type": "histogram"
           }
          ],
          "histogram2d": [
           {
            "colorbar": {
             "outlinewidth": 0,
             "ticks": ""
            },
            "colorscale": [
             [
              0,
              "#0d0887"
             ],
             [
              0.1111111111111111,
              "#46039f"
             ],
             [
              0.2222222222222222,
              "#7201a8"
             ],
             [
              0.3333333333333333,
              "#9c179e"
             ],
             [
              0.4444444444444444,
              "#bd3786"
             ],
             [
              0.5555555555555556,
              "#d8576b"
             ],
             [
              0.6666666666666666,
              "#ed7953"
             ],
             [
              0.7777777777777778,
              "#fb9f3a"
             ],
             [
              0.8888888888888888,
              "#fdca26"
             ],
             [
              1,
              "#f0f921"
             ]
            ],
            "type": "histogram2d"
           }
          ],
          "histogram2dcontour": [
           {
            "colorbar": {
             "outlinewidth": 0,
             "ticks": ""
            },
            "colorscale": [
             [
              0,
              "#0d0887"
             ],
             [
              0.1111111111111111,
              "#46039f"
             ],
             [
              0.2222222222222222,
              "#7201a8"
             ],
             [
              0.3333333333333333,
              "#9c179e"
             ],
             [
              0.4444444444444444,
              "#bd3786"
             ],
             [
              0.5555555555555556,
              "#d8576b"
             ],
             [
              0.6666666666666666,
              "#ed7953"
             ],
             [
              0.7777777777777778,
              "#fb9f3a"
             ],
             [
              0.8888888888888888,
              "#fdca26"
             ],
             [
              1,
              "#f0f921"
             ]
            ],
            "type": "histogram2dcontour"
           }
          ],
          "mesh3d": [
           {
            "colorbar": {
             "outlinewidth": 0,
             "ticks": ""
            },
            "type": "mesh3d"
           }
          ],
          "parcoords": [
           {
            "line": {
             "colorbar": {
              "outlinewidth": 0,
              "ticks": ""
             }
            },
            "type": "parcoords"
           }
          ],
          "pie": [
           {
            "automargin": true,
            "type": "pie"
           }
          ],
          "scatter": [
           {
            "marker": {
             "colorbar": {
              "outlinewidth": 0,
              "ticks": ""
             }
            },
            "type": "scatter"
           }
          ],
          "scatter3d": [
           {
            "line": {
             "colorbar": {
              "outlinewidth": 0,
              "ticks": ""
             }
            },
            "marker": {
             "colorbar": {
              "outlinewidth": 0,
              "ticks": ""
             }
            },
            "type": "scatter3d"
           }
          ],
          "scattercarpet": [
           {
            "marker": {
             "colorbar": {
              "outlinewidth": 0,
              "ticks": ""
             }
            },
            "type": "scattercarpet"
           }
          ],
          "scattergeo": [
           {
            "marker": {
             "colorbar": {
              "outlinewidth": 0,
              "ticks": ""
             }
            },
            "type": "scattergeo"
           }
          ],
          "scattergl": [
           {
            "marker": {
             "colorbar": {
              "outlinewidth": 0,
              "ticks": ""
             }
            },
            "type": "scattergl"
           }
          ],
          "scattermapbox": [
           {
            "marker": {
             "colorbar": {
              "outlinewidth": 0,
              "ticks": ""
             }
            },
            "type": "scattermapbox"
           }
          ],
          "scatterpolar": [
           {
            "marker": {
             "colorbar": {
              "outlinewidth": 0,
              "ticks": ""
             }
            },
            "type": "scatterpolar"
           }
          ],
          "scatterpolargl": [
           {
            "marker": {
             "colorbar": {
              "outlinewidth": 0,
              "ticks": ""
             }
            },
            "type": "scatterpolargl"
           }
          ],
          "scatterternary": [
           {
            "marker": {
             "colorbar": {
              "outlinewidth": 0,
              "ticks": ""
             }
            },
            "type": "scatterternary"
           }
          ],
          "surface": [
           {
            "colorbar": {
             "outlinewidth": 0,
             "ticks": ""
            },
            "colorscale": [
             [
              0,
              "#0d0887"
             ],
             [
              0.1111111111111111,
              "#46039f"
             ],
             [
              0.2222222222222222,
              "#7201a8"
             ],
             [
              0.3333333333333333,
              "#9c179e"
             ],
             [
              0.4444444444444444,
              "#bd3786"
             ],
             [
              0.5555555555555556,
              "#d8576b"
             ],
             [
              0.6666666666666666,
              "#ed7953"
             ],
             [
              0.7777777777777778,
              "#fb9f3a"
             ],
             [
              0.8888888888888888,
              "#fdca26"
             ],
             [
              1,
              "#f0f921"
             ]
            ],
            "type": "surface"
           }
          ],
          "table": [
           {
            "cells": {
             "fill": {
              "color": "#EBF0F8"
             },
             "line": {
              "color": "white"
             }
            },
            "header": {
             "fill": {
              "color": "#C8D4E3"
             },
             "line": {
              "color": "white"
             }
            },
            "type": "table"
           }
          ]
         },
         "layout": {
          "annotationdefaults": {
           "arrowcolor": "#2a3f5f",
           "arrowhead": 0,
           "arrowwidth": 1
          },
          "autotypenumbers": "strict",
          "coloraxis": {
           "colorbar": {
            "outlinewidth": 0,
            "ticks": ""
           }
          },
          "colorscale": {
           "diverging": [
            [
             0,
             "#8e0152"
            ],
            [
             0.1,
             "#c51b7d"
            ],
            [
             0.2,
             "#de77ae"
            ],
            [
             0.3,
             "#f1b6da"
            ],
            [
             0.4,
             "#fde0ef"
            ],
            [
             0.5,
             "#f7f7f7"
            ],
            [
             0.6,
             "#e6f5d0"
            ],
            [
             0.7,
             "#b8e186"
            ],
            [
             0.8,
             "#7fbc41"
            ],
            [
             0.9,
             "#4d9221"
            ],
            [
             1,
             "#276419"
            ]
           ],
           "sequential": [
            [
             0,
             "#0d0887"
            ],
            [
             0.1111111111111111,
             "#46039f"
            ],
            [
             0.2222222222222222,
             "#7201a8"
            ],
            [
             0.3333333333333333,
             "#9c179e"
            ],
            [
             0.4444444444444444,
             "#bd3786"
            ],
            [
             0.5555555555555556,
             "#d8576b"
            ],
            [
             0.6666666666666666,
             "#ed7953"
            ],
            [
             0.7777777777777778,
             "#fb9f3a"
            ],
            [
             0.8888888888888888,
             "#fdca26"
            ],
            [
             1,
             "#f0f921"
            ]
           ],
           "sequentialminus": [
            [
             0,
             "#0d0887"
            ],
            [
             0.1111111111111111,
             "#46039f"
            ],
            [
             0.2222222222222222,
             "#7201a8"
            ],
            [
             0.3333333333333333,
             "#9c179e"
            ],
            [
             0.4444444444444444,
             "#bd3786"
            ],
            [
             0.5555555555555556,
             "#d8576b"
            ],
            [
             0.6666666666666666,
             "#ed7953"
            ],
            [
             0.7777777777777778,
             "#fb9f3a"
            ],
            [
             0.8888888888888888,
             "#fdca26"
            ],
            [
             1,
             "#f0f921"
            ]
           ]
          },
          "colorway": [
           "#636efa",
           "#EF553B",
           "#00cc96",
           "#ab63fa",
           "#FFA15A",
           "#19d3f3",
           "#FF6692",
           "#B6E880",
           "#FF97FF",
           "#FECB52"
          ],
          "font": {
           "color": "#2a3f5f"
          },
          "geo": {
           "bgcolor": "white",
           "lakecolor": "white",
           "landcolor": "#E5ECF6",
           "showlakes": true,
           "showland": true,
           "subunitcolor": "white"
          },
          "hoverlabel": {
           "align": "left"
          },
          "hovermode": "closest",
          "mapbox": {
           "style": "light"
          },
          "paper_bgcolor": "white",
          "plot_bgcolor": "#E5ECF6",
          "polar": {
           "angularaxis": {
            "gridcolor": "white",
            "linecolor": "white",
            "ticks": ""
           },
           "bgcolor": "#E5ECF6",
           "radialaxis": {
            "gridcolor": "white",
            "linecolor": "white",
            "ticks": ""
           }
          },
          "scene": {
           "xaxis": {
            "backgroundcolor": "#E5ECF6",
            "gridcolor": "white",
            "gridwidth": 2,
            "linecolor": "white",
            "showbackground": true,
            "ticks": "",
            "zerolinecolor": "white"
           },
           "yaxis": {
            "backgroundcolor": "#E5ECF6",
            "gridcolor": "white",
            "gridwidth": 2,
            "linecolor": "white",
            "showbackground": true,
            "ticks": "",
            "zerolinecolor": "white"
           },
           "zaxis": {
            "backgroundcolor": "#E5ECF6",
            "gridcolor": "white",
            "gridwidth": 2,
            "linecolor": "white",
            "showbackground": true,
            "ticks": "",
            "zerolinecolor": "white"
           }
          },
          "shapedefaults": {
           "line": {
            "color": "#2a3f5f"
           }
          },
          "ternary": {
           "aaxis": {
            "gridcolor": "white",
            "linecolor": "white",
            "ticks": ""
           },
           "baxis": {
            "gridcolor": "white",
            "linecolor": "white",
            "ticks": ""
           },
           "bgcolor": "#E5ECF6",
           "caxis": {
            "gridcolor": "white",
            "linecolor": "white",
            "ticks": ""
           }
          },
          "title": {
           "x": 0.05
          },
          "xaxis": {
           "automargin": true,
           "gridcolor": "white",
           "linecolor": "white",
           "ticks": "",
           "title": {
            "standoff": 15
           },
           "zerolinecolor": "white",
           "zerolinewidth": 2
          },
          "yaxis": {
           "automargin": true,
           "gridcolor": "white",
           "linecolor": "white",
           "ticks": "",
           "title": {
            "standoff": 15
           },
           "zerolinecolor": "white",
           "zerolinewidth": 2
          }
         }
        }
       }
      },
      "text/html": [
       "<div>                            <div id=\"bdd174b6-2e47-4373-b862-72560da42fa9\" class=\"plotly-graph-div\" style=\"height:525px; width:100%;\"></div>            <script type=\"text/javascript\">                require([\"plotly\"], function(Plotly) {                    window.PLOTLYENV=window.PLOTLYENV || {};                                    if (document.getElementById(\"bdd174b6-2e47-4373-b862-72560da42fa9\")) {                    Plotly.newPlot(                        \"bdd174b6-2e47-4373-b862-72560da42fa9\",                        [{\"customdata\":[[\"ECC 256K1\"],[\"Proof-of-BibleHash\"],[\"Proof-of-Authority\"],[\"SHA-256 + Hive\"]],\"hovertemplate\":\"<b>%{hovertext}</b><br><br>Class=%{marker.color}<br>PC 1=%{x}<br>PC 2=%{y}<br>PC 3=%{z}<br>Algorithm=%{customdata[0]}<extra></extra>\",\"hovertext\":[\"Acute Angle Cloud\",\"BiblePay\",\"Poa Network\",\"LitecoinCash\"],\"legendgroup\":\"3\",\"marker\":{\"color\":[3,3,3,3],\"coloraxis\":\"coloraxis\",\"symbol\":\"circle\"},\"mode\":\"markers\",\"name\":\"3\",\"scene\":\"scene\",\"showlegend\":true,\"x\":[-0.33980071466030076,-0.19745732855677642,-0.4277640521964777,-0.36874048110149554],\"y\":[3.5153279775219333,3.5925886007731704,4.361941894588426,3.1226043580431218],\"z\":[14.782316246863427,13.174526257301572,7.374857411285294,22.105434578686765],\"type\":\"scatter3d\"},{\"customdata\":[[\"Semux BFT consensus\"],[\"DPoS\"],[\"DPoS\"],[\"DPoS\"],[\"DPoS\"],[\"DPoS\"],[\"DPoS\"],[\"SHA-256\"],[\"Scrypt\"],[\"Leased POS\"],[\"Scrypt\"],[\"Scrypt\"],[\"Shabal256\"],[\"PoS\"],[\"Lyra2REv2\"],[\"X15\"],[\"Scrypt\"],[\"Scrypt\"],[\"Scrypt\"],[\"Scrypt\"],[\"Scrypt\"],[\"Quark\"],[\"Green Protocol\"],[\"Quark\"],[\"X16R\"],[\"Scrypt\"],[\"Scrypt\"],[\"Quark\"],[\"Quark\"],[\"X13\"],[\"Quark\"],[\"X11\"],[\"X13\"],[\"X13\"],[\"PoS\"],[\"Multiple\"],[\"X11\"],[\"POS 3.0\"],[\"POS 2.0\"],[\"PHI1612\"],[\"X13\"],[\"Ouroboros\"],[\"PoS\"],[\"PoS\"],[\"Scrypt\"],[\"PoS\"],[\"PoS\"],[\"X11\"],[\"PoS\"],[\"PoS\"],[\"PoS\"],[\"PoS\"],[\"Scrypt\"],[\"Scrypt\"],[\"X11\"],[\"NIST5\"],[\"PoS\"],[\"Scrypt\"],[\"PoS\"],[\"PoS\"],[\"Scrypt\"],[\"PoS\"],[\"PoS\"],[\"Multiple\"],[\"X11\"],[\"X11\"],[\"PoS\"],[\"Ethash\"],[\"X11\"],[\"Quark\"],[\"DPoS\"],[\"X11\"],[\"VBFT\"],[\"SHA-256\"],[\"SHA-256\"],[\"Scrypt\"],[\"SkunkHash v2 Raptor\"],[\"Scrypt\"],[\"Scrypt\"],[\"SHA-512\"],[\"X11\"],[\"SHA-256\"],[\"Counterparty\"],[\"XEVAN\"],[\"Scrypt\"],[\"Scrypt\"],[\"SHA-256\"],[\"Scrypt\"],[\"SHA-512\"],[\"Scrypt\"],[\"POS 3.0\"],[\"SHA-256\"],[\"Scrypt\"],[\"SHA-256\"],[\"POS 3.0\"],[\"Quark\"],[\"Scrypt\"],[\"SHA-256\"],[\"PoS\"],[\"XEVAN\"],[\"X11\"],[\"Scrypt\"],[\"Scrypt\"],[\"Scrypt\"],[\"Scrypt\"],[\"X11\"],[\"X14\"],[\"X11\"],[\"X11\"],[\"Skein\"],[\"X11\"],[\"X11\"],[\"X11\"],[\"X13\"],[\"Skein\"],[\"X15\"],[\"X11\"],[\"X11\"],[\"X11\"],[\"X11\"],[\"Scrypt\"],[\"X11\"],[\"X15\"],[\"X11\"],[\"Scrypt\"],[\"X11\"],[\"XEVAN\"],[\"Scrypt\"],[\"XEVAN\"],[\"X15\"],[\"X13\"],[\"X13\"],[\"X11\"],[\"X11\"],[\"X13\"],[\"X11\"],[\"X13\"],[\"X11\"],[\"X11\"],[\"X11\"],[\"X13\"],[\"X13\"],[\"X13\"],[\"X13\"],[\"X11\"],[\"X13\"],[\"X11\"],[\"X11\"],[\"X11\"],[\"X11\"],[\"X13\"],[\"X11\"],[\"X11\"],[\"X11\"],[\"X11\"],[\"X11\"],[\"X11\"],[\"X16R\"],[\"X11\"],[\"X11\"],[\"X11\"],[\"X11\"],[\"X11\"],[\"X13\"],[\"Scrypt\"],[\"Scrypt\"],[\"SHA-256\"],[\"SHA-256\"],[\"SHA-256\"],[\"SHA-256\"],[\"SHA-256\"],[\"SHA-256\"],[\"SHA-256\"],[\"SHA-256\"],[\"SHA-256\"],[\"SHA-256\"],[\"SHA-256D\"],[\"SHA-256D\"],[\"SHA-256\"],[\"SHA-256D\"],[\"SHA3\"],[\"Scrypt\"],[\"Scrypt\"],[\"Scrypt\"],[\"Scrypt\"],[\"Scrypt\"],[\"Scrypt\"],[\"Scrypt\"],[\"Scrypt\"],[\"Scrypt\"],[\"Scrypt\"],[\"Scrypt\"],[\"SHA-256D\"],[\"SHA-256\"],[\"SHA-256\"],[\"SHA-256\"],[\"536\"],[\"BLAKE256\"],[\"Blake2S\"],[\"C11\"],[\"Groestl\"],[\"Groestl\"],[\"Keccak\"],[\"Lyra2REv2\"],[\"NIST5\"],[\"NIST5\"],[\"NIST5\"],[\"NIST5\"],[\"NIST5\"],[\"NIST5\"],[\"NIST5\"],[\"NeoScrypt\"],[\"NeoScrypt\"],[\"NeoScrypt\"],[\"PHI1612\"],[\"QUAIT\"],[\"QuBit\"],[\"Quark\"],[\"Quark\"],[\"Quark\"],[\"Quark\"],[\"Quark\"],[\"SHA-256\"],[\"Scrypt\"],[\"Scrypt\"],[\"Scrypt\"],[\"Scrypt\"],[\"Scrypt\"],[\"Scrypt\"],[\"Scrypt\"],[\"Scrypt\"],[\"Scrypt\"],[\"Scrypt\"],[\"Scrypt\"],[\"Scrypt\"],[\"Scrypt\"],[\"Scrypt\"],[\"Scrypt\"],[\"Scrypt\"],[\"Scrypt\"],[\"Scrypt\"],[\"Scrypt\"],[\"Scrypt\"],[\"Scrypt\"],[\"Scrypt\"],[\"Scrypt\"],[\"Scrypt\"],[\"Scrypt\"],[\"Scrypt\"],[\"Scrypt\"],[\"Scrypt\"],[\"Scrypt\"],[\"Scrypt\"],[\"Scrypt\"],[\"Scrypt\"],[\"Scrypt\"],[\"Scrypt\"],[\"Scrypt\"],[\"Scrypt\"],[\"Scrypt\"],[\"Scrypt\"],[\"Scrypt\"],[\"Scrypt\"],[\"Scrypt\"],[\"Scrypt\"],[\"Scrypt\"],[\"Scrypt\"],[\"Scrypt\"],[\"Scrypt\"],[\"Scrypt\"],[\"Scrypt\"],[\"Scrypt\"],[\"Scrypt\"],[\"Scrypt\"],[\"Scrypt\"],[\"Scrypt\"],[\"Scrypt\"],[\"Scrypt\"],[\"Scrypt\"],[\"Scrypt\"],[\"Scrypt\"],[\"Scrypt\"],[\"SHA3\"],[\"XEVAN\"],[\"VeChainThor Authority\"],[\"X11\"],[\"X11\"],[\"SHA-512\"]],\"hovertemplate\":\"<b>%{hovertext}</b><br><br>Class=%{marker.color}<br>PC 1=%{x}<br>PC 2=%{y}<br>PC 3=%{z}<br>Algorithm=%{customdata[0]}<extra></extra>\",\"hovertext\":[\"Semux\",\"EOS\",\"Lisk\",\"ARK\",\"ALAX\",\"Lamden Tau\",\"Oxycoin\",\"ZEPHYR\",\"Lynx\",\"Waves\",\"SafeExchangeCoin\",\"CasinoCoin\",\"BurstCoin\",\"Deviant Coin\",\"Rupee\",\"Dekado\",\"Velox\",\"Nautilus Coin\",\"MintCoin\",\"MedicCoin\",\"Dnotes\",\"Kalkulus\",\"Bitcoin Green\",\"Dystem\",\"Proton\",\"BitCurrency\",\"RubyCoin\",\"Crypto Sports\",\"Vitae\",\"Tokyo Coin\",\"Allsafe\",\"SuperCoin\",\"RoyalCoin\",\"FindCoin\",\"CoffeeCoin\",\"Crypti\",\"Dash Platinum\",\"QTUM\",\"KekCoin\",\"TittieCoin\",\"MudraCoin\",\"Cardano\",\"Zealium\",\"TeamUP\",\"Xt3ch\",\"Stakecoin\",\"Ketan\",\"Lutetium Coin\",\"Phreak\",\"Exclusive Coin\",\"Radium\",\"Creatio\",\"MMOCoin\",\"Peony Coin\",\"ARENON\",\"Bulwark\",\"Particl\",\"BitcoinPlus\",\"MacronCoin\",\"Atmos\",\"ZeitCoin\",\"FreeCoin\",\"Nebuchadnezzar\",\"TeslaCoin\",\"Junson Ming Chan Coin\",\"HyperStake\",\"Opair\",\"1717 Masonic Commemorative Token\",\"Monkey Project\",\"Digiwage\",\"Muse\",\"PAXEX\",\"Ontology\",\"PayCoin\",\"TigerCash\",\"Draftcoin\",\"Signatum\",\"GrowthCoin\",\"HiCoin\",\"Obsidian\",\"Ucoin\",\"BitcoinWSpectrum\",\"StorjCoin\",\"Bettex coin\",\"Zilbercoin\",\"RenosCoin\",\"NeosCoin\",\"PandaCoin\",\"Bitshares\",\"GPU Coin\",\"TokenPay\",\"Ultimate Secure Cash\",\"Diggits\",\"ProCurrency\",\"Let it Ride\",\"Poseidon Quark\",\"HollyWoodCoin\",\"Infinity Economics\",\"Nxt\",\"Bitcoin Incognito\",\"Squall Coin\",\"FlutterCoin\",\"VeriCoin\",\"My Big Coin\",\"Printerium\",\"GoldReserve\",\"GanjaCoin V2\",\"Ratecoin\",\"MustangCoin\",\"Cream\",\"Monoeci\",\"Condensate\",\"Insane Coin\",\"EmberCoin\",\"Bitcoin Planet\",\"HTML5 Coin\",\"Piggy Coin\",\"Regalcoin\",\"Impact\",\"EuropeCoin\",\"CryptoBullion\",\"IslaCoin\",\"EverGreenCoin\",\"Hitcoin\",\"AquariusCoin\",\"HappyCoin\",\"Beetle Coin\",\"Klingon Empire Darsek\",\"Ellerium\",\"KoboCoin\",\"Paycon\",\"Sativa Coin\",\"TruckCoin\",\"EUNO\",\"StealthCoin\",\"GoldBlocks\",\"Kore\",\"TorCoin\",\"KushCoin\",\"InsaneCoin\",\"NavCoin\",\"EliteCoin\",\"DeepOnion\",\"OpalCoin\",\"Award\",\"BritCoin\",\"Enigma\",\"SyncCoin\",\"Dash\",\"PinkCoin\",\"Triangles Coin\",\"CapriCoin\",\"XenixCoin\",\"Pushi\",\"Magnet\",\"X11 Coin\",\"Eternity\",\"Trivechain\",\"PhantomX\",\"Halloween Coin\",\"IOCoin\",\"VirtacoinPlus\",\"BitSend\",\"Bitcoin Diamond\",\"Swisscoin\",\"GameUnits\",\"BitcoinDark\",\"Neutron\",\"OKCash\",\"MazaCoin\",\"Clockcoin\",\"Revenu\",\"IncaKoin\",\"BitTokens\",\"SwingCoin\",\"DubaiCoin\",\"Titan Coin\",\"LanaCoin\",\"Emercoin\",\"TheVig\",\"MaxCoin\",\"Gapcoin\",\"AudioCoin\",\"HyperCoin\",\"BitstarCoin\",\"CoinonatX\",\"Ethereum Dark\",\"WhiteCoin\",\"Genstake\",\"XiaoMiCoin\",\"WomenCoin\",\" ClubCoin\",\"BuzzCoin\",\"EDRCoin\",\"Internet of People\",\"Theresa May Coin\",\"Espers\",\"Decred\",\"TajCoin\",\"Stipend\",\"Diamond\",\"FairCoin\",\"XDNA\",\"Absolute Coin\",\"VIP Tokens\",\"Bitspace\",\"NamoCoin\",\"Virta Unique Coin\",\"Electra\",\"PWR Coin\",\"Denarius\",\"TrezarCoin\",\"FriendshipCoin\",\"Orbitcoin\",\"LUXCoin\",\"Droidz\",\"LiteCreed\",\"HerbCoin\",\"Galilel\",\"Giant\",\"Carebit\",\"Bitcloud 2.0\",\"Eurocoin\",\"GAKHcoin\",\"Trollcoin\",\"TerraNovaCoin\",\"iDealCash\",\"PotCoin\",\"PhoenixCoin\",\"ZCC Coin\",\"8BIT Coin\",\"UltraCoin\",\"Vtorrent\",\"UnitaryStatus Dollar\",\"Reddcoin\",\"BillaryCoin\",\"PLNCoin\",\"BitBar\",\"OpenChat\",\"Litecoin Plus\",\"EnergyCoin\",\"ArgusCoin\",\"LomoCoin\",\"Aurora Coin\",\"Degas Coin\",\"Linda\",\"404Coin\",\"BlueCoin\",\"Impeach\",\"BitcoinFast\",\"BitConnect Coin\",\"MoneyCoin\",\"Russiacoin\",\"Independent Money System\",\"HoboNickels\",\"CarterCoin\",\"Briacoin\",\"OrangeCoin\",\"LiteDoge\",\"Xios\",\"Nasdacoin\",\"BlackholeCoin\",\"Credit\",\"Oduwa\",\"PesoBit\",\"EmaratCoin\",\"Cash & Back Coin\",\"Unified Society USDEX\",\"Ignition\",\"TPCash\",\"GermanCoin\",\"LiteCoin Ultra\",\"ThunderStake\",\"42 Coin\",\"PutinCoin\",\"iBankCoin\",\"Abjcoin\",\"Frankywillcoin\",\"ZoneCoin\",\"RootCoin\",\"FirstCoin\",\"Swiscoin\",\"Nexus\",\"BitMoney\",\"Vechain\",\"Creditbit \",\"Stakenet\",\"Kcash\"],\"legendgroup\":\"0\",\"marker\":{\"color\":[0,0,0,0,0,0,0,0,0,0,0,0,0,0,0,0,0,0,0,0,0,0,0,0,0,0,0,0,0,0,0,0,0,0,0,0,0,0,0,0,0,0,0,0,0,0,0,0,0,0,0,0,0,0,0,0,0,0,0,0,0,0,0,0,0,0,0,0,0,0,0,0,0,0,0,0,0,0,0,0,0,0,0,0,0,0,0,0,0,0,0,0,0,0,0,0,0,0,0,0,0,0,0,0,0,0,0,0,0,0,0,0,0,0,0,0,0,0,0,0,0,0,0,0,0,0,0,0,0,0,0,0,0,0,0,0,0,0,0,0,0,0,0,0,0,0,0,0,0,0,0,0,0,0,0,0,0,0,0,0,0,0,0,0,0,0,0,0,0,0,0,0,0,0,0,0,0,0,0,0,0,0,0,0,0,0,0,0,0,0,0,0,0,0,0,0,0,0,0,0,0,0,0,0,0,0,0,0,0,0,0,0,0,0,0,0,0,0,0,0,0,0,0,0,0,0,0,0,0,0,0,0,0,0,0,0,0,0,0,0,0,0,0,0,0,0,0,0,0,0,0,0,0,0,0,0,0,0,0,0,0,0,0,0,0,0,0,0,0,0,0,0,0,0,0,0,0,0,0,0,0,0,0,0,0,0,0,0],\"coloraxis\":\"coloraxis\",\"symbol\":\"diamond\"},\"mode\":\"markers\",\"name\":\"0\",\"scene\":\"scene\",\"showlegend\":true,\"x\":[3.9532935763932833,3.7589349521615683,3.7490738019548537,3.7486824061004076,3.7657641710661487,3.753533427169594,3.7601781509212375,2.488175848217209,2.2147411768156346,-0.4585581731077009,-0.10611973001519899,0.6239666829988949,-0.09221385446012885,-0.36461322630589726,-0.3316629874209565,-0.2171598612946364,-0.2923648656279524,-0.29324286318642273,-0.03360635238599791,-0.2867518540697932,-0.2878829110283578,-0.3408230435895844,-0.35198894224599275,-0.34093649415370453,-0.33444435025752567,-0.29148453859570406,-0.2932230790329402,-0.3410533558546323,-0.33965726995938117,-0.22492911446446298,-0.3409370363782598,-0.3508661788056544,-0.23335631463535206,-0.23312438578629457,-0.36340464803351796,-0.23928656380339908,-0.35133698681869036,-0.33103667602628717,-0.35319103562414605,-0.2986290626792837,-0.2319274941625899,0.6663445718590203,-0.36480172524481075,-0.36315471968849805,-0.29315027238178076,-0.36501837000112475,-0.3639026632185139,-0.3388132074271425,-0.3651518811340892,-0.3654339936924477,-0.3653929609233296,-0.36511757629917035,-0.29039859001192414,-0.17403149535508125,-0.35086056341062644,-0.3131123345460793,-0.36532887440777667,-0.2935462909279679,-0.35777091374346826,-0.3633657676394837,0.8586985047518659,-0.3645389465146922,-0.36511757629917035,-0.23881953505885234,-0.1413926390452977,-0.3309944299885684,-0.36407562998591264,-0.2716229973109972,-0.35128271715937026,-0.339988766887955,1.0318367942565794,-0.3507222067885469,-0.3166505656665444,-0.26515438981171047,-0.24610166530237257,-0.293203868652277,-0.33939136954791943,-0.27579199175606856,-0.10061279928923551,-0.31337552003311936,-0.35131076306840114,-0.26397373055010404,-0.32511435463565663,-0.26922141413051676,-0.2931298582484422,-0.29287110789281195,-0.26518702527548615,0.3494299951966287,-0.25536753799275974,-0.291495751495824,-0.33253884577232795,-0.2638464598319685,-0.2916261715685908,0.2668395306416475,-0.3322571708278429,-0.33653646228017997,-0.2928983382093542,-0.09180038956359428,-0.42407077643955554,-0.2805475041758479,-0.36265221611095455,-0.3047338359889591,-0.3059427298119181,-0.27465709991794446,-0.3359153069113114,-0.3936386620681308,-0.3942278302609715,-0.3919578851189755,-0.39410221664222894,-0.38109941314026785,-0.3939107321901122,-0.3891062272738005,-0.3936288359413651,0.8554240246491182,-0.38159415756106735,0.8727393644792519,-0.38101795349685336,-0.39385166758016954,-0.39200214679613665,-0.39128570936290413,-0.33618145751557005,-0.39411300613328615,-0.260461680261071,-0.07191788159697544,-0.33587395833647216,-0.393160758421308,-0.30633598360413505,-0.33236865252547765,-0.31187463895897993,-0.2580232260103963,-0.27541552457904733,-0.2758933855677488,-0.39117022743381147,-0.39340184109321313,-0.2756468250557013,-0.39358748576943703,-0.2759411716031676,-0.39404320517472774,-0.393996174168392,-0.3936951618502473,-0.275244053848537,2.3056354514098465,-0.2756494667518879,-0.27586579791000676,-0.39096963220577063,-0.27557878756457793,-0.3940861395815222,-0.39413146343902017,-0.39386547367388836,-0.3852646272128712,-0.27604825318946535,-0.39020065761981026,-0.39405716323268053,-0.393928020357311,-0.392645647432936,-0.39400769153592363,-0.39363258968935144,-0.37642782087608645,-0.3932260133722536,-0.38028035685720896,-0.39376024845720453,-0.3932627968740535,-0.39284964566723,-0.27232349997230904,-0.13946709597447876,-0.3360667855216781,-0.30786411558212945,-0.3070765850961854,-0.3063805894149769,-0.27120649704944777,-0.30411518624625056,-0.3064441181818488,-0.08768869362120969,-0.3078796607819092,-0.30769897536458457,-0.30789865660645854,-0.2873819487034036,-0.26737122344495795,-0.3004299324183313,-0.33261073710977274,-0.3720980158205651,-0.3342489450906539,-0.24988859255010837,-0.3360836484706662,-0.3355658974367947,-0.3356210653532188,-0.33612021452724133,-0.33100082366714917,-0.33536256398558695,-0.32843346492265196,0.4323750687078379,-0.33380344104358683,0.04687446951543045,-0.30783505126746313,-0.3078560921073235,-0.3062038849922227,0.5906766650497991,-0.05476988278273839,-0.39560621808419855,-0.3609172530886736,-0.3841284367220226,-0.383550416041886,-0.33853874275989704,-0.3742377156225814,-0.35446063295925007,-0.3555942490632489,-0.3407773900948602,-0.35449859068159534,0.20297061865129995,-0.23319235410172548,-0.3559948442654707,-0.3395710237088625,-0.34419294637595044,-0.3445666074490067,-0.3768379750759076,-0.40014179778421316,-0.3452352732362715,-0.3830045195367582,-0.3834601711066205,-0.383709186851244,-0.38069602447334794,-0.3820269996551631,-0.30774243275751434,-0.3361372688879202,-0.3226142123554479,-0.336075904717942,-0.28279626023731336,-0.33050925118736946,-0.3346045125987695,-0.32731459203003127,-0.3361833038219354,-0.3348799673971425,-0.33591795604252983,-0.31145757411162056,0.021672680234468555,-0.3357940084749696,-0.3357197350708368,-0.33619716289259716,-0.31691356321446157,-0.3361423287535244,-0.3346989162708743,-0.33598471582560896,-0.32911509982185266,-0.3358611140229902,-0.33519708058540304,0.12821699470064696,-0.31955333469106556,-0.3284441962067619,-0.33604217214306925,-0.33572045030683945,-0.33586771268907223,-0.33146129939068353,-0.335079425892016,-0.33598549846043974,-0.33426188178197036,-0.33503707207924033,-0.33616965939754434,-0.33474203863072954,0.09860690946410688,-0.3360262996787775,-0.33535567646807374,-0.33589677335551843,0.5696933862230609,-0.3358721432875091,-0.3357919864919422,-0.33534282412424893,-0.33335965166097786,-0.3316917395078737,-0.33615139129693505,-0.3290552359642546,0.07775755930206814,-0.33503643880266787,-0.19582134142331886,-0.3362012218869871,-0.3121152456832926,-0.3358320861188057,-0.3358682045052194,-0.33427245674880773,-0.3360210225355583,-0.33617754122968674,-0.3207107367499172,-0.2364805713565326,-0.3170236010530681,0.5227571337048968,4.386002540638858,-0.40355496620110526,-0.3937286235485448,-0.2730062007252278],\"y\":[1.506026505815331,1.661120193164573,1.6606585126168623,1.6606671667367812,1.660713742087893,1.6605976841197054,1.6611652166226214,0.6814987159781931,0.4564330251028457,4.246058057709336,0.519848464234399,0.5215420421624722,1.0798034262977978,1.6853026568121343,0.7157856978887905,1.7803394510440131,0.8078003147191751,0.8078390075369547,0.8172525338556921,0.8077577744329424,0.8077168122817757,1.4204363035220977,1.584706377067485,1.4204315410404804,0.8516127926187754,0.8079132648063944,0.8078503021450887,1.4204322971156704,1.4204262208206884,1.5942299833933065,1.4204354440642641,1.0580664298865015,1.5944461723877483,1.5944467103923343,1.6853778078147654,0.08944473909196866,1.0580364997866838,1.3882705007727503,1.5526539594281388,1.561828107370085,1.5943687974478273,1.4971237771393267,1.685301060383686,1.6852162233584806,0.8078241727175502,1.6853052439332383,1.685248629663054,1.0580734067178896,1.6853210680430224,1.6853304644108442,1.6853260664547447,1.6853288481887738,0.8077826113490961,0.8011311700241912,1.058030675527804,1.3512000592752789,1.6853286265910123,0.8078379429856202,1.6853464783815375,1.6853332618413672,0.7848441780842661,1.6853301904343774,1.6853288481887738,0.08939627523776307,1.0656526851463393,1.0587861014935134,1.6853312791771713,-0.05868696839536922,1.0580376152968431,1.420401139852484,1.5867509583320896,1.0580062662691632,1.3366743322518462,0.6074906678326739,0.6075350732011129,0.8078396182966028,1.5082960442136555,0.8071740295722508,0.808282295994806,1.5875724381749778,1.0580372533681655,0.6074760494768977,1.5284828697687216,1.3212990494250982,0.8078177204870929,0.8078405418701099,0.6074839288097834,0.8098670090974669,1.5873790230629812,0.8077683396364126,1.3882651317301118,0.6074153973839237,0.8078427577711711,0.5777321730909445,1.3882697757152647,1.4201796661705317,0.8078450647019535,0.6078930053576165,2.3279854514823515,1.2194442793414626,0.956176042909711,0.2866853560367914,0.3431095022397987,0.2850897711267224,0.9859991394824126,1.2361992851732733,1.857236074432671,1.2362372736941811,1.2362066869080663,1.822134025216929,1.2362093673709225,1.2360626936648966,1.236206178802624,1.8130312122632932,1.8221161076438124,1.940738014659074,1.2360287286957252,1.236200070103346,1.2362127885328893,1.2360596000521924,0.9860019223804709,1.2362082574882831,1.9585209339693554,1.2305190425357786,0.985986253864883,1.2361773662351232,1.4993687621848772,0.9858137715954401,1.4994558370578652,1.9583976157183347,1.7725999562050443,1.7726088011517969,1.2363148326214144,1.236201324070076,1.772624268310184,1.2361946007965636,1.772605762987881,1.2362042476188362,1.2362063732249498,1.236203776755684,1.7726388549982801,1.6607174695081695,1.7726118174420915,1.7726163380294928,1.236047511079156,1.7726071190390285,1.2362059615983154,1.2362075883881105,1.2362028389884645,1.2362018203474443,1.7726096518093701,1.2362139608063245,1.236207760668813,1.236198612478816,1.2361672552202607,1.2362084757699254,1.2361864295531326,1.029775826642181,1.2362076918145395,1.235728552952821,1.2362066498055937,1.2361736708292514,1.2361631361417325,1.772607332110187,0.98645822385028,0.9859982299985723,0.7856457361261071,0.7856441834521275,0.7856451997617968,0.7854060879287,0.7854526569248508,0.7855659331401175,0.7935097342821348,0.7856458269208205,0.7856399488312423,0.7856520036280815,1.771413542861756,1.770499882916194,0.7852755774139023,1.7729790517566055,1.6572042317814688,0.9859091194687897,0.982263086157551,0.9860061183916996,0.9859893977754287,0.9859913251780912,0.9860020482594857,0.9859940639972189,0.9860224264028096,0.986021665308703,0.9974920578461084,0.9859840936749014,1.7737122597177972,0.7856467887139914,0.7856466804796124,0.785654868140805,1.7158744283358445,0.8645465915018256,1.7808248472574293,0.8106026536784188,0.9477957793179327,0.9478195763512175,0.8460203073666016,0.8939332334699107,1.5293699238956606,1.5293550201355446,1.5291397814427892,1.529348935921313,1.53000328723785,1.5338205935331033,1.5293666633258354,0.5312372971314155,0.5312920846163437,0.5313154239751186,1.7401682145826372,1.7161683941192758,0.6192567512597084,1.59859448528219,1.598600842141792,1.5986009015237201,1.5985826379006425,1.598534435547804,0.7856514505225739,0.9860020086985414,0.9859055258839572,0.985996112749692,0.984587351707099,0.9859334134781268,0.9859956163770404,0.9856699201151012,0.9860025092917936,0.985984333003002,0.9859990435419625,0.9858519288760563,0.9989625559135199,0.9859891493143893,0.9859941012541371,0.9860016804858271,0.986046601865217,0.9860013781300894,0.9860562675988318,0.9859910033013078,0.9856047132554581,0.9860032147469668,0.9859695796059195,0.9701323045068991,0.9862569679353628,0.9862827873924033,0.9859932809861791,0.9859976972748352,0.9859956329315092,0.9857481342242586,0.9859483432709186,0.985995804981549,0.9859936419418743,0.9859851810968253,0.9860010421053178,0.985923950524406,0.9788666033177577,0.985994466011908,0.985977565239659,0.9860032179945889,0.9699070674472356,0.9860000489114734,0.9860166811683764,0.9859780306977833,0.9859674770289698,0.9860134987393783,0.9860003961458662,0.9856068812739347,0.9683048748580813,0.9859459774225661,0.9793178496875277,0.9860018603469801,0.98556660003724,0.9859862448224139,0.9859943075663561,0.9860063344971127,0.9859946571279579,0.9860027179887763,0.38122204107952956,0.19504893105860285,1.4269002035971,1.3110140883755648,2.873520873185791,0.9062976466690429,0.8130719768661119,1.786225470942468],\"z\":[0.125924622182213,0.02838359256722933,0.0287108011108901,0.0287201757025519,0.028254227191647524,0.02859892693584663,0.028344106230064378,0.012030857470522332,-0.536304203598334,4.993544839149576,-0.3235378963065332,-0.343413076044064,-0.22175702106396505,-0.28280252798498384,-0.06784671380607758,-0.453443976671956,-0.2918960651668853,-0.2918776172483543,-0.30012557893684066,-0.29204142864507654,-0.29200550414299825,-0.17746648019268157,-0.11140817178498304,-0.17746278924531134,-0.15795945113157372,-0.2919348814071689,-0.29187966208414773,-0.17745974545417476,-0.17749650388203325,-0.3190476044777913,-0.17746329728421403,-0.25034928552317626,-0.31884975663470966,-0.31885607044566955,-0.2828451168069312,0.147602814614672,-0.2503326071659062,0.004290160141994661,-0.20472958018029108,-0.1856912693424454,-0.3188778488379247,-0.22707179374362252,-0.28279724125116035,-0.28283020614109283,-0.29187812264686586,-0.28279197100851994,-0.28281441650217143,-0.2506745945480495,-0.2827904968145608,-0.28278416269255086,-0.2827846780792165,-0.2827924618357744,-0.2919466118732004,-0.2941876773520012,-0.25034464898642605,-0.2924026986132675,-0.28278674561647654,-0.291869308721316,-0.28299253916517597,-0.2828401982776714,-0.31980005789164684,-0.28280821390409056,-0.2827924618357744,0.14759673525058278,-0.2570025601946974,-0.2509804497419833,-0.2828208286669122,0.0896119716490412,-0.2503342170660887,-0.1774842240444851,-0.06440781716312198,-0.25034510399634546,0.07334665115397077,-0.08010294756676478,-0.08062164882652312,-0.2918787484694981,-0.12644968039685428,-0.2922582192973082,-0.2971211193512554,-0.09856425883318101,-0.2503334138186224,-0.0801327645212794,-0.17122622576378682,-0.36694873215898266,-0.29187780805978225,-0.2918878275419162,-0.08010116688317033,-0.30944506620748935,-0.10009949571879306,-0.2919151735440812,0.004331306123880016,-0.08012806811287612,-0.2919216285272298,-0.09043540985839418,0.004323103716146073,-0.17754747769662427,-0.291887700334238,-0.08482220037364503,-0.7474832740610005,-0.5956223629263462,-0.4790057687367555,-0.307921691714319,-0.438228280151532,-0.37372134323064776,-0.5567083554271581,-0.5151736789339106,-0.5915022844409142,-0.515223999557249,-0.5151621946757707,-0.6694414459268256,-0.5151677069138388,-0.5152773676025344,-0.5151748664651892,-0.6195437103366899,-0.6694257319109762,-0.7463766256842475,-0.5154904946834015,-0.5151680515425884,-0.5152195297005442,-0.5152182981866231,-0.5567015653084564,-0.515162114611675,-0.7182606358180879,-0.5230713595765204,-0.5567077427789601,-0.5151836054452501,-0.631916938748568,-0.5567789829809898,-0.6317795397473761,-0.7183097477190162,-0.5836961483858536,-0.5836844723594938,-0.5152555828129931,-0.515180325379736,-0.5836931790213092,-0.5151744289547099,-0.5836827794978963,-0.5151634561867962,-0.5151650065333518,-0.515172759829238,-0.5837059717944401,-0.6381769717635458,-0.5836914407026416,-0.5836862240304926,-0.5152251858273666,-0.5836927137154565,-0.5151625302265461,-0.5151615282852923,-0.5151680507524952,-0.5153993840653904,-0.5836804184015032,-0.5152681691316144,-0.5151635509538153,-0.5151658015213837,-0.5151961144278654,-0.5151649781126725,-0.5151721209341897,-0.42280911985425235,-0.5151859099997496,-0.5154701503956558,-0.5151713929038225,-0.5151803645115554,-0.5151900727767019,-0.5837803499592709,-0.5620567283000373,-0.5567041569852905,-0.3449320043504332,-0.3449529908030586,-0.34497185782912393,-0.3458864601791693,-0.3450070430377408,-0.34495953397759677,-0.3519104836761062,-0.3449315981490676,-0.3449356737322522,-0.3449319140125648,-0.5755383948166003,-0.5759545891879868,-0.3450825104887206,-0.5745308063303094,-0.2910299668010408,-0.5567411472170853,-0.5585232702746947,-0.5567047594516779,-0.5567164544306032,-0.5567152278151044,-0.5567032303620773,-0.5568399365043613,-0.5567263493023846,-0.5569127263102875,-0.5789238701518503,-0.5567631761804531,-0.5848418565956188,-0.3449329274878799,-0.34493234673462086,-0.34497790801232014,-0.5992117720600173,-0.47844645365125216,-0.7061054316533842,-0.3825659171602076,-0.3880000009093301,-0.38801874337674086,-0.36781863658686653,-0.332678395040698,-0.5572703760120286,-0.5572378719665101,-0.5576078083300968,-0.5572665440982982,-0.5723570178604767,-0.5611299641645378,-0.5572286500472451,-0.3185848662719992,-0.3184678153602338,-0.31846088447064996,-0.4495897341050518,-0.5070248334598318,-0.390829972728829,-0.4423101703713151,-0.4422987588890232,-0.4422920652207085,-0.44237071117771326,-0.44232843689583634,-0.3449360443134185,-0.5567027660903411,-0.5570537849983581,-0.5567036280568921,-0.5579488738805184,-0.5568450445538468,-0.5567431603338697,-0.5568957377257769,-0.5567015942097805,-0.5567342362829973,-0.5567082712857546,-0.5573468604221348,-0.5680677751484254,-0.55671028213734,-0.5567129441012246,-0.5567011102478112,-0.5572260940163877,-0.556702545481244,-0.5567487411578268,-0.5567053979950743,-0.5568385502027089,-0.5567103595849483,-0.5567237264526104,-0.5670746487027309,-0.557183220252101,-0.556947402862917,-0.5567041566974108,-0.5567134063749491,-0.5567091667614458,-0.5567946129392327,-0.5567240491912094,-0.5567060198978725,-0.5567521169778682,-0.5567301217769695,-0.5567017649519428,-0.5567298628111276,-0.5674473289955062,-0.5567047425440446,-0.5567205275616971,-0.5567094003403832,-0.5789256927792906,-0.5567096388417566,-0.5567140231861712,-0.5567209357763754,-0.5567728945933862,-0.55682394467199,-0.5567021700942784,-0.556840451591724,-0.5654719618724005,-0.5567248892812603,-0.5595839719156208,-0.5567010250945656,-0.5572909541342567,-0.556708868451432,-0.5567089760534453,-0.5567535319669005,-0.5567049101560654,-0.5567017772405781,-0.371975196780279,-0.34619757353323394,0.3153304674137224,-0.629295850951642,5.329753843037231,-0.38225558640735924,-0.3303733538246954,0.04767595340363896],\"type\":\"scatter3d\"},{\"customdata\":[[\"TRC10\"]],\"hovertemplate\":\"<b>%{hovertext}</b><br><br>Class=%{marker.color}<br>PC 1=%{x}<br>PC 2=%{y}<br>PC 3=%{z}<br>Algorithm=%{customdata[0]}<extra></extra>\",\"hovertext\":[\"BitTorrent\"],\"legendgroup\":\"2\",\"marker\":{\"color\":[2],\"coloraxis\":\"coloraxis\",\"symbol\":\"square\"},\"mode\":\"markers\",\"name\":\"2\",\"scene\":\"scene\",\"showlegend\":true,\"x\":[34.050119394060246],\"y\":[1.7343651429343567],\"z\":[-1.0036990781207207],\"type\":\"scatter3d\"},{\"customdata\":[[\"Equihash\"],[\"Scrypt\"],[\"Scrypt\"],[\"Scrypt\"],[\"Scrypt\"],[\"X11\"],[\"X11\"],[\"X11\"],[\"SHA-256\"],[\"X11\"],[\"X11\"],[\"Scrypt\"],[\"Scrypt\"],[\"X11\"],[\"Scrypt\"],[\"X11\"],[\"X11\"],[\"Scrypt\"],[\"XEVAN\"],[\"Scrypt\"],[\"X11\"],[\"X11\"],[\"Scrypt\"],[\"Scrypt\"],[\"Scrypt\"],[\"Scrypt\"],[\"X11\"],[\"Scrypt\"],[\"X11\"],[\"X11\"],[\"Scrypt\"],[\"1GB AES Pattern Search\"],[\"Scrypt\"],[\"Time Travel\"],[\"Scrypt\"],[\"Tribus\"],[\"Scrypt\"],[\"Scrypt\"],[\"Scrypt\"],[\"Scrypt\"],[\"Scrypt\"],[\"Scrypt\"],[\"Scrypt\"],[\"Scrypt\"],[\"Scrypt\"],[\"Scrypt\"],[\"Scrypt\"],[\"Scrypt\"],[\"Scrypt\"],[\"Scrypt\"],[\"Scrypt\"],[\"Scrypt\"],[\"Scrypt\"],[\"Scrypt\"],[\"Scrypt\"],[\"Scrypt\"],[\"Scrypt\"],[\"Scrypt\"],[\"Scrypt\"],[\"X11\"],[\"Scrypt\"],[\"Scrypt\"],[\"Scrypt\"],[\"Scrypt\"],[\"SkunkHash\"],[\"Scrypt\"],[\"Scrypt\"],[\"Stanford Folding\"],[\"Scrypt\"],[\"Scrypt\"],[\"Scrypt\"],[\"Scrypt\"],[\"Scrypt\"],[\"Scrypt\"],[\"X11\"],[\"Scrypt\"],[\"Scrypt\"],[\"Scrypt\"],[\"Scrypt\"],[\"X11\"],[\"Scrypt\"],[\"X11\"],[\"X11\"],[\"X11\"],[\"Scrypt\"],[\"X11\"],[\"Scrypt\"],[\"Scrypt\"],[\"Scrypt\"],[\"Scrypt\"],[\"Scrypt\"],[\"Scrypt\"],[\"X11\"],[\"Scrypt\"],[\"Scrypt\"],[\"Scrypt\"],[\"Scrypt\"],[\"Scrypt\"],[\"Scrypt\"],[\"Scrypt\"],[\"Scrypt\"],[\"Scrypt\"],[\"Scrypt\"],[\"Scrypt\"],[\"Scrypt\"],[\"Scrypt\"],[\"Scrypt\"],[\"X11\"],[\"SHA-256\"],[\"SHA-256\"],[\"X11\"],[\"Ethash\"],[\"Ethash\"],[\"Ethash\"],[\"Ethash\"],[\"Ethash\"],[\"Ethash\"],[\"Ethash\"],[\"Ethash\"],[\"Equihash+Scrypt\"],[\"Equihash\"],[\"Equihash\"],[\"Equihash\"],[\"Equihash\"],[\"X16R\"],[\"Equihash\"],[\"Equihash\"],[\"Equihash\"],[\"Exosis\"],[\"Groestl\"],[\"X16R\"],[\"Groestl\"],[\"Multiple\"],[\"Multiple\"],[\"M7 POW\"],[\"Lyra2Z\"],[\"Lyra2Z\"],[\"Lyra2Z\"],[\"Lyra2Z\"],[\"SHA-256\"],[\"Equihash\"],[\"Lyra2REv2\"],[\"Lyra2RE\"],[\"Lyra2RE\"],[\"Lyra2RE\"],[\"Keccak\"],[\"Jump Consistent Hash\"],[\"IMesh\"],[\"HybridScryptHash256\"],[\"HMQ1725\"],[\"Lyra2RE\"],[\"Multiple\"],[\"Equihash\"],[\"Dagger-Hashimoto\"],[\"CryptoNight\"],[\"CryptoNight\"],[\"CryptoNight\"],[\"CryptoNight\"],[\"CryptoNight\"],[\"CryptoNight\"],[\"CryptoNight\"],[\"CryptoNight\"],[\"Cloverhash\"],[\"C11\"],[\"Blake2b\"],[\"Blake2b\"],[\"Blake\"],[\"Blake\"],[\"Blake\"],[\"BLAKE256\"],[\"Argon2d\"],[\"CryptoNight\"],[\"CryptoNight\"],[\"CryptoNight\"],[\"CryptoNight\"],[\"Dagger\"],[\"Dagger\"],[\"Dagger\"],[\"Cryptonight-GPU\"],[\"CryptoNight-V7\"],[\"CryptoNight-V7\"],[\"CryptoNight-V7\"],[\"CryptoNight-V7\"],[\"Equihash\"],[\"CryptoNight-V7\"],[\"CryptoNight Heavy\"],[\"CryptoNight\"],[\"CryptoNight\"],[\"CryptoNight\"],[\"CryptoNight\"],[\"CryptoNight\"],[\"CryptoNight\"],[\"CryptoNight\"],[\"CryptoNight Heavy\"],[\"Multiple\"],[\"Lyra2REv2\"],[\"Multiple\"],[\"QuBit\"],[\"QuBit\"],[\"Quark\"],[\"SHA-256\"],[\"Multiple\"],[\"SHA-256\"],[\"SHA-256\"],[\"SHA-256\"],[\"X11GOST\"],[\"SHA-256\"],[\"SHA-256\"],[\"SHA-256\"],[\"SHA-256\"],[\"X11\"],[\"SHA-256\"],[\"SHA-256\"],[\"SHA-256\"],[\"SHA-256\"],[\"SHA-256\"],[\"X11\"],[\"SHA-256\"],[\"X11\"],[\"SHA-256\"],[\"SHA-256\"],[\"SHA-256\"],[\"SHA-256\"],[\"SHA-256\"],[\"SHA-256\"],[\"SHA-256\"],[\"X13\"],[\"NeoScrypt\"],[\"Scrypt\"],[\"NeoScrypt\"],[\"NeoScrypt\"],[\"NeoScrypt\"],[\"Multiple\"],[\"NeoScrypt\"],[\"NeoScrypt\"],[\"NIST5\"],[\"NIST5\"],[\"NeoScrypt\"],[\"Equihash\"]],\"hovertemplate\":\"<b>%{hovertext}</b><br><br>Class=%{marker.color}<br>PC 1=%{x}<br>PC 2=%{y}<br>PC 3=%{z}<br>Algorithm=%{customdata[0]}<extra></extra>\",\"hovertext\":[\"PirateCash\",\"Block-Logic\",\"SolarCoin\",\"IrishCoin\",\"Poseidon\",\"ArtexCoin\",\"MarsCoin \",\"AC3\",\"TerraCoin\",\"Elements\",\"DigitalPrice\",\"Sojourn Coin\",\"SmileyCoin\",\"BolivarCoin\",\"ShareChain\",\"VaultCoin\",\"Sucre\",\"Linx\",\"Urals Coin\",\"Kronecoin\",\"Axe\",\"Kurrent\",\"Bata\",\"Pakcoin\",\"FrazCoin\",\"Crypto Escudo\",\"DAS\",\"NewYorkCoin\",\"ArcticCoin\",\"Pioneer Coin\",\"AdCoin\",\"HOdlcoin\",\"BitFlip\",\"Bitcore\",\"Canada eCoin\",\"KEYCO\",\"Digitalcoin \",\"BeaverCoin\",\"MonaCoin\",\"Franko\",\"GrandCoin\",\"Gamecredits\",\"RonPaulCoin\",\"Revolution VR\",\"StableCoin\",\"SmartCoin\",\"BitZeny\",\"Song Coin\",\"Quatloo\",\"EB3coin\",\"SexCoin\",\"MoonCoin\",\"E-Gulden\",\"Emerald\",\"CannaCoin\",\"EarthCoin\",\"OsmiumCoin\",\"gCn Coin\",\"Litecoin\",\"Azart\",\"SocialCoin\",\"Unify\",\"EquiTrader\",\"Argentum\",\"MUNcoin\",\"BenjiRolls\",\"Catcoin\",\"Folding Coin\",\"ProsperCoin\",\"LottoCoin\",\"1Credit\",\"GreenCoin\",\"MegaCoin\",\"MinCoin\",\"CryptCoin\",\"Omni\",\"Francs\",\"NobleCoin\",\"Shilling\",\"Onix\",\"HexCoin\",\"Pura\",\"PacCoin\",\"PizzaCoin\",\"eBoost\",\"Crypto Improvement Fund\",\"PopularCoin\",\"Litebar \",\"NyanCoin\",\"LuckyCoin\",\"KrugerCoin\",\"OmniCron\",\"Spreadcoin\",\"ViaCoin\",\"WorldCoin\",\"ArtByte\",\"Flo\",\"Wild Beast Coin\",\"MasterCoin\",\"PesetaCoin\",\"YoCoin\",\"GlobalCoin\",\"KiloCoin\",\"GoldCoin\",\"Infinite Coin\",\"Gulden\",\"DopeCoin\",\"UroCoin\",\"TigerCoin\",\"UnbreakableCoin\",\"MindCoin\",\"Expanse\",\"DaxxCoin\",\"Reality Clash\",\"Callisto Network\",\"Ellaism\",\"Ethereum\",\"Ethereum Classic\",\"Elementrem\",\"Vollar\",\"ZClassic\",\"Bitcoin Gold\",\"CrypticCoin\",\"Bitrolium\",\"Motion\",\"Horizen\",\"Beam\",\"Zero\",\"Exosis\",\"Groestlcoin\",\"Xchange\",\"Riecoin\",\"Verge\",\"Circuits of Value\",\"Cryptonite\",\"Actinium\",\"Alpenschillling\",\"GINcoin\",\"ZCoin\",\"SysCoin\",\"ZCash\",\"KREDS\",\"Crypto\",\"HexxCoin\",\"Infinex\",\"SmartCash\",\"MassGrid\",\"Aidos Kuneen\",\"MediterraneanCoin\",\"PlusOneCoin\",\"Zoin\",\"MyriadCoin\",\"BitcoinZ\",\"DubaiCoin\",\"FREDEnergy\",\"DigitalNote \",\"UltraNote\",\"BitCoal\",\"Cannabis Industry Coin\",\"PlatinCoin\",\"Monero Classic\",\"Newton Coin\",\"ChanCoin\",\"Interzone\",\"Siacoin\",\"Nano\",\"Lithium\",\"BlakeCoin\",\"Universal Molecule\",\"Photon\",\"Dynamic\",\"ByteCoin\",\"Karbo\",\"PluraCoin\",\"Sumokoin\",\"SoilCoin\",\"Pirl\",\"Travelflex\",\"Ryo\",\"Webchain\",\"Monero\",\"Citadel\",\"Quantum Resistant Ledger\",\"Bithereum\",\"Lethean\",\"Loki\",\"Niobio Cash\",\"TurtleCoin\",\"BitTube\",\"LeviarCoin\",\"Beldex\",\"Dinastycoin\",\"Bikercoins\",\"Qwertycoin\",\"Unitus\",\"Vertcoin\",\"JoinCoin\",\"SLICE\",\"CypherPunkCoin\",\"QuarkCoin\",\"DollarCoin\",\"SHIELD\",\"UnitedBitcoin\",\"ILCoin\",\"ZayedCoin\",\"SibCoin\",\"IXcoin\",\"Bitcoin Cash\",\"I0coin\",\"Bitcoin SV\",\"BowsCoin\",\"ZetaCoin\",\"JouleCoin\",\"Anarchists Prime\",\"Crown Coin\",\"Project Pai\",\"FuturoCoin\",\"SoonCoin\",\"Adzcoin\",\"Unobtanium\",\"DevCoin\",\"CarpeDiemCoin\",\"GlobalToken\",\"BLAST\",\"Bitcoin\",\"Namecoin\",\"Bitcoin Rhodium\",\"GoByte\",\"Einsteinium\",\"Innova\",\"FeatherCoin\",\"VIVO Coin\",\"DigiByte\",\"UFO Coin\",\"SparksPay\",\"Jumpcoin\",\"Coinonat\",\"GunCoin\",\"Komodo\"],\"legendgroup\":\"1\",\"marker\":{\"color\":[1,1,1,1,1,1,1,1,1,1,1,1,1,1,1,1,1,1,1,1,1,1,1,1,1,1,1,1,1,1,1,1,1,1,1,1,1,1,1,1,1,1,1,1,1,1,1,1,1,1,1,1,1,1,1,1,1,1,1,1,1,1,1,1,1,1,1,1,1,1,1,1,1,1,1,1,1,1,1,1,1,1,1,1,1,1,1,1,1,1,1,1,1,1,1,1,1,1,1,1,1,1,1,1,1,1,1,1,1,1,1,1,1,1,1,1,1,1,1,1,1,1,1,1,1,1,1,1,1,1,1,1,1,1,1,1,1,1,1,1,1,1,1,1,1,1,1,1,1,1,1,1,1,1,1,1,1,1,1,1,1,1,1,1,1,1,1,1,1,1,1,1,1,1,1,1,1,1,1,1,1,1,1,1,1,1,1,1,1,1,1,1,1,1,1,1,1,1,1,1,1,1,1,1,1,1,1,1,1,1,1,1,1,1,1,1,1,1,1,1,1,1,1,1,1,1,1,1,1,1,1,1,1,1,1,1,1,1,1],\"coloraxis\":\"coloraxis\",\"symbol\":\"x\"},\"mode\":\"markers\",\"name\":\"1\",\"scene\":\"scene\",\"showlegend\":true,\"x\":[-0.2731172686576495,-0.16940197694066536,0.5245458654014268,-0.16967396043570315,-0.17048395428057694,-0.21501347931763112,-0.2279855945292375,-0.22373810270166242,-0.14193936176749994,-0.18287306012540555,-0.22747561868018376,-0.09633619897155271,0.5444693344513064,-0.22826889995158922,0.022194272458953352,-0.22116162975595807,-0.2284207735743636,-0.1695627212357386,-0.14511883839916556,-0.16987453166965402,-0.22840295103392602,-0.2262492206409269,-0.1705852424859303,-0.16854307612371539,-0.17042225853058432,-0.15407777162874317,-0.2284467529481683,1.5750916805886526,-0.22786986759402136,-0.22834624646992668,-0.16957578090766032,-0.14317822417684034,-0.17024718409135484,-0.1605826374834529,-0.16875546803382818,-0.16895120236480543,-0.169933046192783,-0.17062050355358677,-0.16910557469414841,-0.17058882253379465,-0.1498312893466923,-0.1692350667688284,-0.17052016281018015,-0.16663191387576748,-0.16861670737197654,-0.17000738625134992,-0.16798924297625123,-0.16879627368817407,-0.16988449914844767,-0.1415797845914625,-0.16733825283492848,2.5480449958278815,-0.17027837436052404,-0.17021775200058542,-0.1705318676469585,0.07796972359241112,-0.17065219122257308,3.235839488801331,-0.16931804035146,-0.22837435200487244,-0.17008823459897884,-0.17032447873143175,-0.170005640966006,-0.1700801971856698,-0.18391787918470895,-0.17018331393061834,-0.1704455033323193,-0.11805874506652297,-0.17046322451260482,0.13654053912792666,0.4806805075656434,-0.043600751024337234,-0.16991921566929505,-0.1705406665303244,-0.228424142803667,-0.17067043252800204,-0.17046050792882186,-0.035597949853438296,-0.17033418260002214,-0.21932942504237307,-0.17050852257054216,-0.22399560568434196,0.4859446050181719,-0.22841876296582841,-0.16875367847702666,-0.2224931294359617,-0.08688868367030275,-0.1706592829041299,-0.16421034609749424,-0.17030479323111883,-0.16695431959315676,-0.17053466722043345,-0.22833487223287202,-0.1702368641616851,-0.1673430195171471,-0.1539272935386302,-0.16769065379402345,-0.17066149527232552,-0.17067037408639377,-0.16782554023909604,-0.16948262224910443,-0.16938501207585366,-0.09748579677045964,-0.16966226763898895,1.5767277811356137,-0.15372132380555315,-0.16783991402700896,-0.2285978461511138,-0.14165238240622116,-0.14192249727480247,-0.2283055971376235,-0.1485337700378731,-0.07162254012884214,-0.14830927510432537,-0.0997387025816629,-0.14664345975389714,-0.14746701996051345,-0.14591093173604178,-0.14827614671800612,-0.11846626044696551,-0.15093535609440192,-0.1507938840556439,-0.04564370146481957,-0.14978588135487292,-0.2116886019571873,-0.15091481078815774,-0.14885627527491185,-0.15094770730857096,-0.14507238441977757,-0.21704268675592572,-0.21111702374972569,-0.21748129396202573,0.19403698534826283,-0.09693104940281579,-0.09423719300938317,-0.15734942490361842,-0.15565282712055087,-0.15795096819477172,-0.15786669258639618,-0.12935264277848055,-0.15091375459836745,-0.1936060261414568,-0.14796232372013052,-0.14850217470109373,-0.14834758454197075,-0.11291064060928752,-0.15333419870716655,-0.1593893083501616,-0.14124224310076028,-0.1465824307886001,-0.1482207978665642,-0.0828650737520434,0.061148603703722174,-0.15329505414158442,0.3804156321764921,0.4555300723397435,1.1376039059407876,0.30056017828053017,0.30057736490301945,0.3046657878649575,0.30074254412752033,2.107248901778837,-0.18588054440983462,-0.1953643230116838,0.3803886339250706,-0.01962761593960621,-0.1301491014369959,-0.08067590821598561,-0.12975765419266144,1.11499940996068,-0.1574428060064762,3.8534713999024772,0.30058303729693686,0.3143340906309288,0.30115529620409104,-0.144425799865391,-0.1431862535116541,-0.14268961882676168,-0.137706029298108,-0.13082788746524102,-0.14319813291198902,-0.14196440526100645,-0.14182194941160686,-0.1506268594556754,-0.13094514591638062,0.5835952803193114,0.3044306294710672,8.029147799334183,0.30847397313609276,0.3009719468882191,0.32229655139923696,0.3366661060177319,0.30070797210254685,3.103659148670151,-0.11683983291855286,-0.20803384407848713,-0.11757420152361588,-0.17977774182023534,-0.18056583201695917,-0.21338167345577366,-0.142330218792701,-0.10708110658049536,-0.1421277546941165,-0.10873007434336299,-0.14237155601611587,-0.1347910382700615,-0.14211057804565566,-0.14214834554739564,-0.14211169958763262,-0.14214838308588967,-0.22827024413332148,-0.13923675964742044,-0.14171962128534116,-0.14195605929592942,-0.14193873267012302,-0.10201262472176863,-0.22751636184873764,-0.14221589005134191,-0.22746717234189356,-0.14251248697157054,0.2353481923188912,0.27599152506902047,-0.1402943401337376,-0.1414252040615906,-0.14214918072880506,-0.14218813256269036,-0.1105027664759411,-0.1788173716052403,-0.16588787663974908,-0.1787172871889146,-0.17418747125810946,-0.1788716977677093,0.1702887093704096,-0.10410325932102958,-0.1788692360671344,-0.19019177945436208,-0.19013246139259074,-0.1719138797777259,-0.25887031268848937],\"y\":[-0.29693820748335853,-1.128065491951172,-1.1669906566040564,-1.128038730553868,-1.1280399527392155,-0.8776620652769104,-0.8778265472474265,-0.8780107234764191,-1.3283879089283068,-0.877347983615157,-0.8778518811022916,-1.132205558487502,-1.1348224471152586,-0.8778315771700733,-1.1275859922871536,-0.8782116139718732,-0.8778336777578774,-1.1280582379007562,-0.6146327019461147,-1.1280590699411508,-0.8778338168322025,-0.8778911495283427,-1.128033160545229,-1.1280749203193827,-1.1280370646004456,-1.1280858369418978,-0.8778340302229762,-1.0648087766945482,-0.8778400080759856,-0.8778330707837523,-1.1280587108674367,-2.087870179487625,-1.128043799672991,-1.992164983357365,-1.128029002566995,-2.1239767432239844,-1.1280377616539967,-1.1280333653596055,-1.1280450293028228,-1.128037367029546,-1.1282070319328703,-1.1280359111976983,-1.1280412640606763,-1.1280240117690854,-1.1281220437585582,-1.128042437498766,-1.1280993196231954,-1.1281025527331439,-1.1280698913505696,-1.1295945425821596,-1.128075743483749,-1.280622774927935,-1.1280325074945723,-1.1280375035512766,-1.1280365492751319,-1.1278542576401807,-1.1280340908015662,-1.1354188019178133,-1.128038916153734,-0.8778353962022756,-1.1280609253758735,-1.1280330506137977,-1.1280559728495803,-1.1280534427494258,-1.93181677051182,-1.1280385579043561,-1.1280385602067324,-2.275872621515166,-1.1280392019937442,-1.128941137387475,-1.164591237780221,-1.1299688127786696,-1.1280332295824573,-1.1280348150746782,-0.8778326229790008,-1.1280333799074889,-1.12803844983363,-1.1329478688745986,-1.1280404126268617,-0.8782106368638094,-1.1280415650952182,-0.8778892937942079,-0.917327089051202,-0.8778370045814848,-1.1280289377567345,-0.8779329469124472,-1.1282676365257798,-1.1280334556940477,-1.1280193423704683,-1.128032810498725,-1.1280719207894547,-1.12803026413859,-0.8778306975260269,-1.128032311722461,-1.1280859978745428,-1.1280803872550116,-1.1280296660588573,-1.1280343713435372,-1.1280333797719224,-1.1280387261003277,-1.1281000235457617,-1.1280321887140028,-1.1319203037029444,-1.1280436979371702,-1.1239817033973465,-1.128517496127028,-1.1280612227126445,-0.877827145804876,-1.3283807924449187,-1.3284121416858978,-0.8778270221972929,-1.9945608098958638,-1.9983021220507031,-1.9945576362682125,-1.9970321529766397,-1.9946643552634107,-1.9945111236605209,-1.9945920617861628,-1.9945575594204437,-2.144950334406581,-2.2327799956964554,-2.2327748721710723,-2.233921746941604,-2.2327704015942387,-1.084248143541221,-2.2327792516314164,-2.2328627833209995,-2.232777827898501,-2.1810940934032237,-1.166248526799809,-1.0842783884704412,-1.1662506820047531,-1.8460069931525325,-1.8465058950907383,-2.147337787116701,-2.1433752790450904,-2.143455051163242,-2.143349011830602,-2.1433530858879224,-1.32848516580944,-2.2327792133806406,-1.2202395435795685,-2.247303908057276,-2.2472869855805433,-2.2472920304589192,-1.2688676584085279,-2.254835089288287,-2.19898252857154,-2.199694482268565,-2.2718562105863547,-2.2472839868343764,-1.8465195057506978,-2.238814785741212,-2.24894121365567,-2.2316556005196357,-2.230190521228935,-2.2545219215986583,-2.2292732865243905,-2.229278221199752,-2.229508692738752,-2.2292705392795624,-2.2841293411053796,-2.0635747483909395,-1.3034337741747197,-2.2039913437641228,-2.2187007275544106,-2.2147618081927223,-2.2175300398085636,-2.214799862626393,-1.2719451125027421,-2.042575509218993,-2.221194069607787,-2.229270824224412,-2.2294200576479906,-2.229301675126808,-2.1968783709838857,-2.1969160562140977,-2.1968612581471616,-2.2017079356151856,-2.190924952912914,-2.1902288420251455,-2.1903051102817677,-2.190247648981695,-2.232775286476414,-2.1904385279395435,-2.11508555022235,-2.2293446117742137,-2.603144818668642,-2.229632286587356,-2.229285505725903,-2.2293933468937635,-2.2292650622933454,-2.229276106260649,-2.144323522312993,-1.8464423757618518,-1.2200978215414249,-1.846470802095515,-1.4947945761545522,-1.4947577398029561,-0.5154183337305781,-1.3283815605809366,-1.846520448218105,-1.3283804571689775,-1.3287921908824194,-1.3283824677407183,-2.1729034732380557,-1.3283803803524932,-1.3283817481334024,-1.3283804209700518,-1.3283817494928902,-0.877829010743453,-1.328373581778549,-1.3283819121777902,-1.3283962020582734,-1.3283878861450318,-1.3282874022342288,-0.8778533566494042,-1.3283841943127574,-0.8778411147822178,-1.328381369943463,-1.3284259866180517,-1.3273635024842303,-1.328410709005482,-1.3283836713771464,-1.3283817783801792,-1.3283831890526445,-0.3414259476545483,-1.582729827433729,-1.1280557700803227,-1.5827348326488362,-1.5827610307197941,-1.5827286567713446,-1.8497730942972634,-1.5826183120160506,-1.5827246449579595,-0.584665504803857,-0.5846811732775786,-1.5827859101457622,-2.3399270048359733],\"z\":[0.299608638966644,0.006751464444743951,-0.006712116002258092,0.006755200717700275,0.006777163279457267,0.04793296131041686,0.04830409734111787,0.04821444897777499,0.21853950633049637,0.04702592752782445,0.04829376496062273,0.0053394590305970244,-0.011555765116933148,0.048312395307651884,0.0015309359718225482,0.04817200991127452,0.04831676387415185,0.006754819116782634,-0.06832304402385805,0.006763322108272872,0.048316302848851106,0.04826601781352091,0.006778979687941839,0.0067296118317459325,0.006775116162588703,0.0063417770605217255,0.04831751023891204,-0.04866744930002433,0.04830278530980015,0.04831467689195079,0.006755233916592161,0.3301743634159442,0.006771306338146131,0.39290238627609825,0.00672917923268102,0.5055311329973302,0.0067620436062402894,0.006779956074616232,0.0067407475031834975,0.006779639301884964,0.006243722410865,0.006743011497047782,0.006778313330643706,0.006671360932358296,0.006737903456789488,0.006764670393666648,0.006717974004238361,0.006740126092232205,0.00676503939013512,0.006207447910492516,0.006697297329639545,-0.04595357898370268,0.006770633673490777,0.0067696711714679055,0.006777997006454355,6.58046926594212e-05,0.006780906006682403,-0.08390723248812257,0.006745646894513114,0.04831574466373753,0.006769321824868091,0.006771947180307024,0.006766435864831901,0.006768103563005946,0.324473373621978,0.006768885541542446,0.006775942004825521,0.5234620696730706,0.006776504862931974,-0.0013649406975510833,-0.005852884837552488,0.003620710001298139,0.006761064529534202,0.006778001589006203,0.04831671330893542,0.006781301732871406,0.006776331035611722,0.003804243424166505,0.006773194139891771,0.04812256998380646,0.006778040373267359,0.04820511905890726,0.03437978847110636,0.048317155239612844,0.006729122392982209,0.048170529104139465,0.004557898898654726,0.006781011817496781,0.006605565396863841,0.006771385243148445,0.0066864528765615714,0.006777230743276141,0.048314052994242795,0.006769490318283226,0.0066987987192014195,0.006336997592591229,0.006700611334046212,0.0067811939670712066,0.0067813001419125924,0.006705454634691896,0.006758258733674466,0.00674654843383673,0.00533220067666731,0.006755551189831072,-0.04078797418978291,0.006389985182794587,0.006708853860382549,0.04832065467190933,0.21853083008996557,0.21854229733525637,0.048312772988022924,0.38825717707974006,0.3866882862861671,0.38825071041240294,0.38727490639384,0.3882201693939765,0.38822181504038566,0.3881907748779173,0.3882498085566475,0.44036536449512653,0.5982739703731357,0.5982694769543808,0.5955932010084206,0.5982417505189097,0.14069300095000972,0.5982733178154624,0.5982291028627081,0.5982740124970062,0.5124838484847155,0.17544169210095015,0.1406816683138499,0.17545378467957196,0.4378423370893319,0.4457398002301928,0.3722973209195562,0.448776716754724,0.44874173900466297,0.4487893884571435,0.44878766592899294,0.21821379019568068,0.5982732842688827,0.2304159465697436,0.4370337157205443,0.4370459784328643,0.43704249356607194,0.19416050884676392,0.5157379073307342,0.36080003567974217,0.493579607312889,0.49321933575322835,0.43703800435249257,0.445363073113229,0.5933743588434517,0.5975039093182911,0.41448894927750646,0.4122712565112371,0.39717306743417946,0.4163190519386183,0.4163192501787928,0.4162400818847196,0.4163137761620188,0.3750421198175339,0.36453367546476445,0.18091597283112948,0.4035190004081095,0.41625406040746793,0.42227046555190273,0.4213096994886357,0.4222650264042717,0.06101638667864147,0.41183037786156,0.3196197214507581,0.41631810703440675,0.4159680157084041,0.41630683722134665,0.43794306723356946,0.4379147542366648,0.4378940508942258,0.48274624983211656,0.46130649780281757,0.46154619900918126,0.46152320903906774,0.46151168089294137,0.5982650373930946,0.461244519140367,0.39757879705712973,0.4162244394304723,0.25838693548908864,0.41615414409170803,0.41630960644616777,0.41575014982440867,0.4153462522796234,0.4163154520218065,0.33367283318500796,0.4462670885455199,0.23078525708495784,0.44629065859916045,0.1726564797872851,0.17267275666858933,0.12105902694978816,0.21854917517370132,0.44601491170036467,0.2185435786204439,0.21769989864558267,0.21855040913155385,0.394221731596813,0.21854310606897095,0.2185443056360524,0.2185431416912591,0.2185443068283457,0.04831208782741421,0.21846485426285525,0.21853278958886,0.218541066187004,0.2185394863491774,0.21745152237862878,0.04829505904049409,0.21854645097688066,0.04829209599305146,0.2185540549268782,0.2083908786733029,0.2071547965161511,0.2184982878215536,0.21852510166901526,0.21854433216298894,0.218545569346693,-0.020198439015977347,0.24501690396632006,0.00665558965225246,0.24501488067065594,0.24489648033123115,0.24501820925891304,0.43898575796184214,0.24299123295724087,0.24501760580968363,0.006245937814466557,0.006246439496312441,0.2448386239113848,1.2318535707696034],\"type\":\"scatter3d\"}],                        {\"template\":{\"data\":{\"bar\":[{\"error_x\":{\"color\":\"#2a3f5f\"},\"error_y\":{\"color\":\"#2a3f5f\"},\"marker\":{\"line\":{\"color\":\"#E5ECF6\",\"width\":0.5},\"pattern\":{\"fillmode\":\"overlay\",\"size\":10,\"solidity\":0.2}},\"type\":\"bar\"}],\"barpolar\":[{\"marker\":{\"line\":{\"color\":\"#E5ECF6\",\"width\":0.5},\"pattern\":{\"fillmode\":\"overlay\",\"size\":10,\"solidity\":0.2}},\"type\":\"barpolar\"}],\"carpet\":[{\"aaxis\":{\"endlinecolor\":\"#2a3f5f\",\"gridcolor\":\"white\",\"linecolor\":\"white\",\"minorgridcolor\":\"white\",\"startlinecolor\":\"#2a3f5f\"},\"baxis\":{\"endlinecolor\":\"#2a3f5f\",\"gridcolor\":\"white\",\"linecolor\":\"white\",\"minorgridcolor\":\"white\",\"startlinecolor\":\"#2a3f5f\"},\"type\":\"carpet\"}],\"choropleth\":[{\"colorbar\":{\"outlinewidth\":0,\"ticks\":\"\"},\"type\":\"choropleth\"}],\"contour\":[{\"colorbar\":{\"outlinewidth\":0,\"ticks\":\"\"},\"colorscale\":[[0.0,\"#0d0887\"],[0.1111111111111111,\"#46039f\"],[0.2222222222222222,\"#7201a8\"],[0.3333333333333333,\"#9c179e\"],[0.4444444444444444,\"#bd3786\"],[0.5555555555555556,\"#d8576b\"],[0.6666666666666666,\"#ed7953\"],[0.7777777777777778,\"#fb9f3a\"],[0.8888888888888888,\"#fdca26\"],[1.0,\"#f0f921\"]],\"type\":\"contour\"}],\"contourcarpet\":[{\"colorbar\":{\"outlinewidth\":0,\"ticks\":\"\"},\"type\":\"contourcarpet\"}],\"heatmap\":[{\"colorbar\":{\"outlinewidth\":0,\"ticks\":\"\"},\"colorscale\":[[0.0,\"#0d0887\"],[0.1111111111111111,\"#46039f\"],[0.2222222222222222,\"#7201a8\"],[0.3333333333333333,\"#9c179e\"],[0.4444444444444444,\"#bd3786\"],[0.5555555555555556,\"#d8576b\"],[0.6666666666666666,\"#ed7953\"],[0.7777777777777778,\"#fb9f3a\"],[0.8888888888888888,\"#fdca26\"],[1.0,\"#f0f921\"]],\"type\":\"heatmap\"}],\"heatmapgl\":[{\"colorbar\":{\"outlinewidth\":0,\"ticks\":\"\"},\"colorscale\":[[0.0,\"#0d0887\"],[0.1111111111111111,\"#46039f\"],[0.2222222222222222,\"#7201a8\"],[0.3333333333333333,\"#9c179e\"],[0.4444444444444444,\"#bd3786\"],[0.5555555555555556,\"#d8576b\"],[0.6666666666666666,\"#ed7953\"],[0.7777777777777778,\"#fb9f3a\"],[0.8888888888888888,\"#fdca26\"],[1.0,\"#f0f921\"]],\"type\":\"heatmapgl\"}],\"histogram\":[{\"marker\":{\"pattern\":{\"fillmode\":\"overlay\",\"size\":10,\"solidity\":0.2}},\"type\":\"histogram\"}],\"histogram2d\":[{\"colorbar\":{\"outlinewidth\":0,\"ticks\":\"\"},\"colorscale\":[[0.0,\"#0d0887\"],[0.1111111111111111,\"#46039f\"],[0.2222222222222222,\"#7201a8\"],[0.3333333333333333,\"#9c179e\"],[0.4444444444444444,\"#bd3786\"],[0.5555555555555556,\"#d8576b\"],[0.6666666666666666,\"#ed7953\"],[0.7777777777777778,\"#fb9f3a\"],[0.8888888888888888,\"#fdca26\"],[1.0,\"#f0f921\"]],\"type\":\"histogram2d\"}],\"histogram2dcontour\":[{\"colorbar\":{\"outlinewidth\":0,\"ticks\":\"\"},\"colorscale\":[[0.0,\"#0d0887\"],[0.1111111111111111,\"#46039f\"],[0.2222222222222222,\"#7201a8\"],[0.3333333333333333,\"#9c179e\"],[0.4444444444444444,\"#bd3786\"],[0.5555555555555556,\"#d8576b\"],[0.6666666666666666,\"#ed7953\"],[0.7777777777777778,\"#fb9f3a\"],[0.8888888888888888,\"#fdca26\"],[1.0,\"#f0f921\"]],\"type\":\"histogram2dcontour\"}],\"mesh3d\":[{\"colorbar\":{\"outlinewidth\":0,\"ticks\":\"\"},\"type\":\"mesh3d\"}],\"parcoords\":[{\"line\":{\"colorbar\":{\"outlinewidth\":0,\"ticks\":\"\"}},\"type\":\"parcoords\"}],\"pie\":[{\"automargin\":true,\"type\":\"pie\"}],\"scatter\":[{\"marker\":{\"colorbar\":{\"outlinewidth\":0,\"ticks\":\"\"}},\"type\":\"scatter\"}],\"scatter3d\":[{\"line\":{\"colorbar\":{\"outlinewidth\":0,\"ticks\":\"\"}},\"marker\":{\"colorbar\":{\"outlinewidth\":0,\"ticks\":\"\"}},\"type\":\"scatter3d\"}],\"scattercarpet\":[{\"marker\":{\"colorbar\":{\"outlinewidth\":0,\"ticks\":\"\"}},\"type\":\"scattercarpet\"}],\"scattergeo\":[{\"marker\":{\"colorbar\":{\"outlinewidth\":0,\"ticks\":\"\"}},\"type\":\"scattergeo\"}],\"scattergl\":[{\"marker\":{\"colorbar\":{\"outlinewidth\":0,\"ticks\":\"\"}},\"type\":\"scattergl\"}],\"scattermapbox\":[{\"marker\":{\"colorbar\":{\"outlinewidth\":0,\"ticks\":\"\"}},\"type\":\"scattermapbox\"}],\"scatterpolar\":[{\"marker\":{\"colorbar\":{\"outlinewidth\":0,\"ticks\":\"\"}},\"type\":\"scatterpolar\"}],\"scatterpolargl\":[{\"marker\":{\"colorbar\":{\"outlinewidth\":0,\"ticks\":\"\"}},\"type\":\"scatterpolargl\"}],\"scatterternary\":[{\"marker\":{\"colorbar\":{\"outlinewidth\":0,\"ticks\":\"\"}},\"type\":\"scatterternary\"}],\"surface\":[{\"colorbar\":{\"outlinewidth\":0,\"ticks\":\"\"},\"colorscale\":[[0.0,\"#0d0887\"],[0.1111111111111111,\"#46039f\"],[0.2222222222222222,\"#7201a8\"],[0.3333333333333333,\"#9c179e\"],[0.4444444444444444,\"#bd3786\"],[0.5555555555555556,\"#d8576b\"],[0.6666666666666666,\"#ed7953\"],[0.7777777777777778,\"#fb9f3a\"],[0.8888888888888888,\"#fdca26\"],[1.0,\"#f0f921\"]],\"type\":\"surface\"}],\"table\":[{\"cells\":{\"fill\":{\"color\":\"#EBF0F8\"},\"line\":{\"color\":\"white\"}},\"header\":{\"fill\":{\"color\":\"#C8D4E3\"},\"line\":{\"color\":\"white\"}},\"type\":\"table\"}]},\"layout\":{\"annotationdefaults\":{\"arrowcolor\":\"#2a3f5f\",\"arrowhead\":0,\"arrowwidth\":1},\"autotypenumbers\":\"strict\",\"coloraxis\":{\"colorbar\":{\"outlinewidth\":0,\"ticks\":\"\"}},\"colorscale\":{\"diverging\":[[0,\"#8e0152\"],[0.1,\"#c51b7d\"],[0.2,\"#de77ae\"],[0.3,\"#f1b6da\"],[0.4,\"#fde0ef\"],[0.5,\"#f7f7f7\"],[0.6,\"#e6f5d0\"],[0.7,\"#b8e186\"],[0.8,\"#7fbc41\"],[0.9,\"#4d9221\"],[1,\"#276419\"]],\"sequential\":[[0.0,\"#0d0887\"],[0.1111111111111111,\"#46039f\"],[0.2222222222222222,\"#7201a8\"],[0.3333333333333333,\"#9c179e\"],[0.4444444444444444,\"#bd3786\"],[0.5555555555555556,\"#d8576b\"],[0.6666666666666666,\"#ed7953\"],[0.7777777777777778,\"#fb9f3a\"],[0.8888888888888888,\"#fdca26\"],[1.0,\"#f0f921\"]],\"sequentialminus\":[[0.0,\"#0d0887\"],[0.1111111111111111,\"#46039f\"],[0.2222222222222222,\"#7201a8\"],[0.3333333333333333,\"#9c179e\"],[0.4444444444444444,\"#bd3786\"],[0.5555555555555556,\"#d8576b\"],[0.6666666666666666,\"#ed7953\"],[0.7777777777777778,\"#fb9f3a\"],[0.8888888888888888,\"#fdca26\"],[1.0,\"#f0f921\"]]},\"colorway\":[\"#636efa\",\"#EF553B\",\"#00cc96\",\"#ab63fa\",\"#FFA15A\",\"#19d3f3\",\"#FF6692\",\"#B6E880\",\"#FF97FF\",\"#FECB52\"],\"font\":{\"color\":\"#2a3f5f\"},\"geo\":{\"bgcolor\":\"white\",\"lakecolor\":\"white\",\"landcolor\":\"#E5ECF6\",\"showlakes\":true,\"showland\":true,\"subunitcolor\":\"white\"},\"hoverlabel\":{\"align\":\"left\"},\"hovermode\":\"closest\",\"mapbox\":{\"style\":\"light\"},\"paper_bgcolor\":\"white\",\"plot_bgcolor\":\"#E5ECF6\",\"polar\":{\"angularaxis\":{\"gridcolor\":\"white\",\"linecolor\":\"white\",\"ticks\":\"\"},\"bgcolor\":\"#E5ECF6\",\"radialaxis\":{\"gridcolor\":\"white\",\"linecolor\":\"white\",\"ticks\":\"\"}},\"scene\":{\"xaxis\":{\"backgroundcolor\":\"#E5ECF6\",\"gridcolor\":\"white\",\"gridwidth\":2,\"linecolor\":\"white\",\"showbackground\":true,\"ticks\":\"\",\"zerolinecolor\":\"white\"},\"yaxis\":{\"backgroundcolor\":\"#E5ECF6\",\"gridcolor\":\"white\",\"gridwidth\":2,\"linecolor\":\"white\",\"showbackground\":true,\"ticks\":\"\",\"zerolinecolor\":\"white\"},\"zaxis\":{\"backgroundcolor\":\"#E5ECF6\",\"gridcolor\":\"white\",\"gridwidth\":2,\"linecolor\":\"white\",\"showbackground\":true,\"ticks\":\"\",\"zerolinecolor\":\"white\"}},\"shapedefaults\":{\"line\":{\"color\":\"#2a3f5f\"}},\"ternary\":{\"aaxis\":{\"gridcolor\":\"white\",\"linecolor\":\"white\",\"ticks\":\"\"},\"baxis\":{\"gridcolor\":\"white\",\"linecolor\":\"white\",\"ticks\":\"\"},\"bgcolor\":\"#E5ECF6\",\"caxis\":{\"gridcolor\":\"white\",\"linecolor\":\"white\",\"ticks\":\"\"}},\"title\":{\"x\":0.05},\"xaxis\":{\"automargin\":true,\"gridcolor\":\"white\",\"linecolor\":\"white\",\"ticks\":\"\",\"title\":{\"standoff\":15},\"zerolinecolor\":\"white\",\"zerolinewidth\":2},\"yaxis\":{\"automargin\":true,\"gridcolor\":\"white\",\"linecolor\":\"white\",\"ticks\":\"\",\"title\":{\"standoff\":15},\"zerolinecolor\":\"white\",\"zerolinewidth\":2}}},\"scene\":{\"domain\":{\"x\":[0.0,1.0],\"y\":[0.0,1.0]},\"xaxis\":{\"title\":{\"text\":\"PC 1\"}},\"yaxis\":{\"title\":{\"text\":\"PC 2\"}},\"zaxis\":{\"title\":{\"text\":\"PC 3\"}}},\"coloraxis\":{\"colorbar\":{\"title\":{\"text\":\"Class\"}},\"colorscale\":[[0.0,\"#0d0887\"],[0.1111111111111111,\"#46039f\"],[0.2222222222222222,\"#7201a8\"],[0.3333333333333333,\"#9c179e\"],[0.4444444444444444,\"#bd3786\"],[0.5555555555555556,\"#d8576b\"],[0.6666666666666666,\"#ed7953\"],[0.7777777777777778,\"#fb9f3a\"],[0.8888888888888888,\"#fdca26\"],[1.0,\"#f0f921\"]]},\"legend\":{\"title\":{\"text\":\"Class\"},\"tracegroupgap\":0,\"x\":0,\"y\":1},\"margin\":{\"t\":60}},                        {\"responsive\": true}                    ).then(function(){\n",
       "                            \n",
       "var gd = document.getElementById('bdd174b6-2e47-4373-b862-72560da42fa9');\n",
       "var x = new MutationObserver(function (mutations, observer) {{\n",
       "        var display = window.getComputedStyle(gd).display;\n",
       "        if (!display || display === 'none') {{\n",
       "            console.log([gd, 'removed!']);\n",
       "            Plotly.purge(gd);\n",
       "            observer.disconnect();\n",
       "        }}\n",
       "}});\n",
       "\n",
       "// Listen for the removal of the full notebook cells\n",
       "var notebookContainer = gd.closest('#notebook-container');\n",
       "if (notebookContainer) {{\n",
       "    x.observe(notebookContainer, {childList: true});\n",
       "}}\n",
       "\n",
       "// Listen for the clearing of the current output cell\n",
       "var outputEl = gd.closest('.output');\n",
       "if (outputEl) {{\n",
       "    x.observe(outputEl, {childList: true});\n",
       "}}\n",
       "\n",
       "                        })                };                });            </script>        </div>"
      ]
     },
     "metadata": {},
     "output_type": "display_data"
    }
   ],
   "source": [
    "# Create a 3D scatter plot using the Plotly Express scatter_3d() function to plot the three clusters \n",
    "# from the clustered_df DataFrame.\n",
    "    # Add the CoinName and Algorithm columns to the hover_name and hover_data parameters\n",
    "fig = px.scatter_3d(\n",
    "    clustered_df, \n",
    "    x=\"PC 1\", \n",
    "    y=\"PC 2\", \n",
    "    z=\"PC 3\", \n",
    "    color=\"Class\", \n",
    "    symbol=\"Class\", \n",
    "    hover_name=\"CoinName\", \n",
    "    hover_data=[\"Algorithm\"])\n",
    "fig.update_layout(legend=dict(x=0, y=1))\n",
    "fig.show()\n"
   ]
  },
  {
   "cell_type": "code",
   "execution_count": 262,
   "metadata": {},
   "outputs": [
    {
     "data": {},
     "metadata": {},
     "output_type": "display_data"
    },
    {
     "data": {
      "application/vnd.holoviews_exec.v0+json": "",
      "text/html": [
       "<div id='3258'>\n",
       "\n",
       "\n",
       "\n",
       "\n",
       "\n",
       "  <div class=\"bk-root\" id=\"8da1cc0b-cc3d-4009-8b7c-8a5d0cb5850a\" data-root-id=\"3258\"></div>\n",
       "</div>\n",
       "<script type=\"application/javascript\">(function(root) {\n",
       "  function embed_document(root) {\n",
       "    var docs_json = {\"e506abd9-5b10-4b6b-ae5e-9d8afd65143f\":{\"defs\":[{\"extends\":null,\"module\":null,\"name\":\"ReactiveHTML1\",\"overrides\":[],\"properties\":[]},{\"extends\":null,\"module\":null,\"name\":\"FlexBox1\",\"overrides\":[],\"properties\":[{\"default\":\"flex-start\",\"kind\":null,\"name\":\"align_content\"},{\"default\":\"flex-start\",\"kind\":null,\"name\":\"align_items\"},{\"default\":\"row\",\"kind\":null,\"name\":\"flex_direction\"},{\"default\":\"wrap\",\"kind\":null,\"name\":\"flex_wrap\"},{\"default\":\"flex-start\",\"kind\":null,\"name\":\"justify_content\"}]},{\"extends\":null,\"module\":null,\"name\":\"TemplateActions1\",\"overrides\":[],\"properties\":[{\"default\":0,\"kind\":null,\"name\":\"open_modal\"},{\"default\":0,\"kind\":null,\"name\":\"close_modal\"}]},{\"extends\":null,\"module\":null,\"name\":\"MaterialTemplateActions1\",\"overrides\":[],\"properties\":[{\"default\":0,\"kind\":null,\"name\":\"open_modal\"},{\"default\":0,\"kind\":null,\"name\":\"close_modal\"}]}],\"roots\":{\"references\":[{\"attributes\":{},\"id\":\"3288\",\"type\":\"IntEditor\"},{\"attributes\":{\"format\":\"0,0.0[00000]\"},\"id\":\"3277\",\"type\":\"NumberFormatter\"},{\"attributes\":{\"editor\":{\"id\":\"3288\"},\"field\":\"Class\",\"formatter\":{\"id\":\"3287\"},\"title\":\"Class\"},\"id\":\"3289\",\"type\":\"TableColumn\"},{\"attributes\":{},\"id\":\"3262\",\"type\":\"StringFormatter\"},{\"attributes\":{\"source\":{\"id\":\"3260\"}},\"id\":\"3294\",\"type\":\"CDSView\"},{\"attributes\":{},\"id\":\"3267\",\"type\":\"StringFormatter\"},{\"attributes\":{},\"id\":\"3283\",\"type\":\"StringEditor\"},{\"attributes\":{},\"id\":\"3268\",\"type\":\"StringEditor\"},{\"attributes\":{\"margin\":[5,5,5,5],\"name\":\"HSpacer06099\",\"sizing_mode\":\"stretch_width\"},\"id\":\"3259\",\"type\":\"Spacer\"},{\"attributes\":{\"data\":{\"Algorithm\":[\"ECC 256K1\",\"Semux BFT consensus\",\"DPoS\",\"DPoS\",\"DPoS\",\"DPoS\",\"TRC10\",\"DPoS\",\"DPoS\",\"SHA-256\",\"Scrypt\",\"Leased POS\",\"Proof-of-BibleHash\",\"Proof-of-Authority\",\"Scrypt\",\"Scrypt\",\"Shabal256\",\"PoS\",\"Lyra2REv2\",\"X15\",\"Scrypt\",\"Scrypt\",\"Scrypt\",\"Scrypt\",\"Scrypt\",\"Quark\",\"Green Protocol\",\"Quark\",\"X16R\",\"Scrypt\",\"Scrypt\",\"Quark\",\"Quark\",\"X13\",\"Quark\",\"X11\",\"X13\",\"X13\",\"PoS\",\"Multiple\",\"X11\",\"POS 3.0\",\"POS 2.0\",\"PHI1612\",\"X13\",\"Ouroboros\",\"PoS\",\"PoS\",\"Scrypt\",\"PoS\",\"PoS\",\"X11\",\"PoS\",\"PoS\",\"PoS\",\"PoS\",\"Scrypt\",\"Scrypt\",\"X11\",\"NIST5\",\"PoS\",\"Scrypt\",\"PoS\",\"PoS\",\"Scrypt\",\"PoS\",\"PoS\",\"Multiple\",\"X11\",\"X11\",\"PoS\",\"Ethash\",\"X11\",\"Quark\",\"DPoS\",\"X11\",\"VBFT\",\"SHA-256\",\"SHA-256\",\"Scrypt\",\"SkunkHash v2 Raptor\",\"Scrypt\",\"Scrypt\",\"SHA-512\",\"X11\",\"SHA-256\",\"Counterparty\",\"XEVAN\",\"Scrypt\",\"Scrypt\",\"SHA-256\",\"Scrypt\",\"SHA-512\",\"Scrypt\",\"POS 3.0\",\"SHA-256\",\"Scrypt\",\"SHA-256\",\"POS 3.0\",\"Equihash\",\"Quark\",\"Scrypt\",\"SHA-256\",\"PoS\",\"XEVAN\",\"X11\",\"Scrypt\",\"Scrypt\",\"Scrypt\",\"Scrypt\",\"Scrypt\",\"Scrypt\",\"X11\",\"X11\",\"X11\",\"SHA-256\",\"X11\",\"X11\",\"Scrypt\",\"Scrypt\",\"X11\",\"Scrypt\",\"X11\",\"X11\",\"Scrypt\",\"XEVAN\",\"Scrypt\",\"X11\",\"X11\",\"Scrypt\",\"Scrypt\",\"Scrypt\",\"Scrypt\",\"X11\",\"Scrypt\",\"X11\",\"X11\",\"Scrypt\",\"1GB AES Pattern Search\",\"Scrypt\",\"Time Travel\",\"Scrypt\",\"Tribus\",\"Scrypt\",\"Scrypt\",\"Scrypt\",\"Scrypt\",\"Scrypt\",\"Scrypt\",\"Scrypt\",\"Scrypt\",\"Scrypt\",\"Scrypt\",\"Scrypt\",\"Scrypt\",\"Scrypt\",\"Scrypt\",\"Scrypt\",\"Scrypt\",\"Scrypt\",\"Scrypt\",\"Scrypt\",\"Scrypt\",\"Scrypt\",\"Scrypt\",\"Scrypt\",\"X11\",\"Scrypt\",\"Scrypt\",\"Scrypt\",\"Scrypt\",\"SkunkHash\",\"Scrypt\",\"Scrypt\",\"Stanford Folding\",\"Scrypt\",\"Scrypt\",\"Scrypt\",\"Scrypt\",\"Scrypt\",\"Scrypt\",\"X11\",\"Scrypt\",\"Scrypt\",\"Scrypt\",\"Scrypt\",\"X11\",\"Scrypt\",\"X11\",\"X11\",\"X11\",\"Scrypt\",\"X11\",\"Scrypt\",\"Scrypt\",\"Scrypt\",\"Scrypt\",\"Scrypt\",\"Scrypt\",\"X11\",\"Scrypt\",\"Scrypt\",\"Scrypt\",\"Scrypt\",\"Scrypt\",\"Scrypt\",\"Scrypt\",\"Scrypt\",\"Scrypt\",\"Scrypt\",\"Scrypt\",\"Scrypt\",\"Scrypt\",\"Scrypt\",\"X11\",\"SHA-256\",\"SHA-256\",\"X11\",\"Ethash\",\"Ethash\",\"Ethash\",\"Ethash\",\"Ethash\",\"Ethash\",\"Ethash\",\"Ethash\",\"Equihash+Scrypt\",\"Equihash\",\"Equihash\",\"Equihash\",\"Equihash\",\"X16R\",\"Equihash\",\"Equihash\",\"Equihash\",\"Exosis\",\"Groestl\",\"X16R\",\"Groestl\",\"Multiple\",\"Multiple\",\"M7 POW\",\"Lyra2Z\",\"Lyra2Z\",\"Lyra2Z\",\"Lyra2Z\",\"SHA-256\",\"Equihash\",\"Lyra2REv2\",\"Lyra2RE\",\"Lyra2RE\",\"Lyra2RE\",\"Keccak\",\"Jump Consistent Hash\",\"IMesh\",\"HybridScryptHash256\",\"HMQ1725\",\"Lyra2RE\",\"Multiple\",\"Equihash\",\"Dagger-Hashimoto\",\"CryptoNight\",\"CryptoNight\",\"CryptoNight\",\"CryptoNight\",\"CryptoNight\",\"CryptoNight\",\"CryptoNight\",\"CryptoNight\",\"Cloverhash\",\"C11\",\"Blake2b\",\"Blake2b\",\"Blake\",\"Blake\",\"Blake\",\"BLAKE256\",\"Argon2d\",\"CryptoNight\",\"CryptoNight\",\"CryptoNight\",\"CryptoNight\",\"Dagger\",\"Dagger\",\"Dagger\",\"Cryptonight-GPU\",\"CryptoNight-V7\",\"CryptoNight-V7\",\"CryptoNight-V7\",\"CryptoNight-V7\",\"Equihash\",\"CryptoNight-V7\",\"CryptoNight Heavy\",\"CryptoNight\",\"CryptoNight\",\"CryptoNight\",\"CryptoNight\",\"CryptoNight\",\"CryptoNight\",\"CryptoNight\",\"CryptoNight Heavy\",\"Multiple\",\"Lyra2REv2\",\"Multiple\",\"QuBit\",\"QuBit\",\"Quark\",\"SHA-256\",\"Multiple\",\"SHA-256\",\"SHA-256\",\"SHA-256\",\"X11GOST\",\"SHA-256\",\"SHA-256\",\"SHA-256\",\"SHA-256\",\"X11\",\"SHA-256\",\"SHA-256\",\"SHA-256\",\"SHA-256\",\"SHA-256\",\"X11\",\"SHA-256\",\"X11\",\"SHA-256\",\"SHA-256\",\"SHA-256\",\"SHA-256\",\"SHA-256\",\"SHA-256\",\"SHA-256\",\"X13\",\"NeoScrypt\",\"Scrypt\",\"NeoScrypt\",\"NeoScrypt\",\"NeoScrypt\",\"Multiple\",\"NeoScrypt\",\"NeoScrypt\",\"NIST5\",\"NIST5\",\"NeoScrypt\",\"SHA-256 + Hive\",\"Scrypt\",\"Scrypt\",\"X11\",\"X14\",\"X11\",\"X11\",\"Skein\",\"X11\",\"X11\",\"X11\",\"X13\",\"Skein\",\"X15\",\"X11\",\"X11\",\"X11\",\"X11\",\"Scrypt\",\"X11\",\"X15\",\"X11\",\"Scrypt\",\"X11\",\"XEVAN\",\"Scrypt\",\"XEVAN\",\"X15\",\"X13\",\"X13\",\"X11\",\"X11\",\"X13\",\"X11\",\"X13\",\"X11\",\"X11\",\"X11\",\"X13\",\"X13\",\"X13\",\"X13\",\"X11\",\"X13\",\"X11\",\"X11\",\"X11\",\"X11\",\"X13\",\"X11\",\"X11\",\"X11\",\"X11\",\"X11\",\"X11\",\"X16R\",\"X11\",\"X11\",\"X11\",\"X11\",\"X11\",\"X13\",\"Scrypt\",\"Scrypt\",\"SHA-256\",\"SHA-256\",\"SHA-256\",\"SHA-256\",\"SHA-256\",\"SHA-256\",\"SHA-256\",\"SHA-256\",\"SHA-256\",\"SHA-256\",\"SHA-256D\",\"SHA-256D\",\"SHA-256\",\"SHA-256D\",\"SHA3\",\"Scrypt\",\"Scrypt\",\"Scrypt\",\"Scrypt\",\"Scrypt\",\"Scrypt\",\"Scrypt\",\"Scrypt\",\"Scrypt\",\"Scrypt\",\"Scrypt\",\"SHA-256D\",\"SHA-256\",\"SHA-256\",\"SHA-256\",\"536\",\"BLAKE256\",\"Blake2S\",\"C11\",\"Groestl\",\"Groestl\",\"Keccak\",\"Lyra2REv2\",\"NIST5\",\"NIST5\",\"NIST5\",\"NIST5\",\"NIST5\",\"NIST5\",\"NIST5\",\"NeoScrypt\",\"NeoScrypt\",\"NeoScrypt\",\"PHI1612\",\"QUAIT\",\"QuBit\",\"Quark\",\"Quark\",\"Quark\",\"Quark\",\"Quark\",\"SHA-256\",\"Scrypt\",\"Scrypt\",\"Scrypt\",\"Scrypt\",\"Scrypt\",\"Scrypt\",\"Scrypt\",\"Scrypt\",\"Scrypt\",\"Scrypt\",\"Scrypt\",\"Scrypt\",\"Scrypt\",\"Scrypt\",\"Scrypt\",\"Scrypt\",\"Scrypt\",\"Scrypt\",\"Scrypt\",\"Scrypt\",\"Scrypt\",\"Scrypt\",\"Scrypt\",\"Scrypt\",\"Scrypt\",\"Scrypt\",\"Scrypt\",\"Scrypt\",\"Scrypt\",\"Scrypt\",\"Scrypt\",\"Scrypt\",\"Scrypt\",\"Scrypt\",\"Scrypt\",\"Scrypt\",\"Scrypt\",\"Scrypt\",\"Scrypt\",\"Scrypt\",\"Scrypt\",\"Scrypt\",\"Scrypt\",\"Scrypt\",\"Scrypt\",\"Scrypt\",\"Scrypt\",\"Scrypt\",\"Scrypt\",\"Scrypt\",\"Scrypt\",\"Scrypt\",\"Scrypt\",\"Scrypt\",\"Scrypt\",\"Scrypt\",\"Scrypt\",\"Scrypt\",\"Scrypt\",\"SHA3\",\"XEVAN\",\"VeChainThor Authority\",\"X11\",\"X11\",\"SHA-512\",\"Equihash\"],\"Class\":{\"__ndarray__\":\"AwAAAAAAAAAAAAAAAAAAAAAAAAAAAAAAAgAAAAAAAAAAAAAAAAAAAAAAAAAAAAAAAwAAAAMAAAAAAAAAAAAAAAAAAAAAAAAAAAAAAAAAAAAAAAAAAAAAAAAAAAAAAAAAAAAAAAAAAAAAAAAAAAAAAAAAAAAAAAAAAAAAAAAAAAAAAAAAAAAAAAAAAAAAAAAAAAAAAAAAAAAAAAAAAAAAAAAAAAAAAAAAAAAAAAAAAAAAAAAAAAAAAAAAAAAAAAAAAAAAAAAAAAAAAAAAAAAAAAAAAAAAAAAAAAAAAAAAAAAAAAAAAAAAAAAAAAAAAAAAAAAAAAAAAAAAAAAAAAAAAAAAAAAAAAAAAAAAAAAAAAAAAAAAAAAAAAAAAAAAAAAAAAAAAAAAAAAAAAAAAAAAAAAAAAAAAAAAAAAAAAAAAAAAAAAAAAAAAAAAAAAAAAAAAAAAAAAAAAAAAAAAAAAAAAAAAAAAAAAAAAAAAAAAAAAAAAAAAAAAAAAAAAAAAAAAAAAAAAAAAAAAAAAAAQAAAAAAAAAAAAAAAAAAAAAAAAAAAAAAAAAAAAAAAAAAAAAAAQAAAAEAAAABAAAAAQAAAAEAAAABAAAAAQAAAAEAAAABAAAAAQAAAAEAAAABAAAAAQAAAAEAAAABAAAAAQAAAAEAAAABAAAAAQAAAAEAAAABAAAAAQAAAAEAAAABAAAAAQAAAAEAAAABAAAAAQAAAAEAAAABAAAAAQAAAAEAAAABAAAAAQAAAAEAAAABAAAAAQAAAAEAAAABAAAAAQAAAAEAAAABAAAAAQAAAAEAAAABAAAAAQAAAAEAAAABAAAAAQAAAAEAAAABAAAAAQAAAAEAAAABAAAAAQAAAAEAAAABAAAAAQAAAAEAAAABAAAAAQAAAAEAAAABAAAAAQAAAAEAAAABAAAAAQAAAAEAAAABAAAAAQAAAAEAAAABAAAAAQAAAAEAAAABAAAAAQAAAAEAAAABAAAAAQAAAAEAAAABAAAAAQAAAAEAAAABAAAAAQAAAAEAAAABAAAAAQAAAAEAAAABAAAAAQAAAAEAAAABAAAAAQAAAAEAAAABAAAAAQAAAAEAAAABAAAAAQAAAAEAAAABAAAAAQAAAAEAAAABAAAAAQAAAAEAAAABAAAAAQAAAAEAAAABAAAAAQAAAAEAAAABAAAAAQAAAAEAAAABAAAAAQAAAAEAAAABAAAAAQAAAAEAAAABAAAAAQAAAAEAAAABAAAAAQAAAAEAAAABAAAAAQAAAAEAAAABAAAAAQAAAAEAAAABAAAAAQAAAAEAAAABAAAAAQAAAAEAAAABAAAAAQAAAAEAAAABAAAAAQAAAAEAAAABAAAAAQAAAAEAAAABAAAAAQAAAAEAAAABAAAAAQAAAAEAAAABAAAAAQAAAAEAAAABAAAAAQAAAAEAAAABAAAAAQAAAAEAAAABAAAAAQAAAAEAAAABAAAAAQAAAAEAAAABAAAAAQAAAAEAAAABAAAAAQAAAAEAAAABAAAAAQAAAAEAAAABAAAAAQAAAAEAAAABAAAAAQAAAAEAAAABAAAAAQAAAAEAAAABAAAAAQAAAAEAAAABAAAAAQAAAAEAAAABAAAAAQAAAAEAAAABAAAAAQAAAAEAAAABAAAAAQAAAAEAAAABAAAAAQAAAAEAAAABAAAAAQAAAAEAAAABAAAAAQAAAAEAAAABAAAAAQAAAAEAAAABAAAAAQAAAAEAAAABAAAAAQAAAAEAAAABAAAAAQAAAAEAAAABAAAAAQAAAAEAAAABAAAAAQAAAAEAAAABAAAAAQAAAAEAAAABAAAAAQAAAAEAAAABAAAAAwAAAAAAAAAAAAAAAAAAAAAAAAAAAAAAAAAAAAAAAAAAAAAAAAAAAAAAAAAAAAAAAAAAAAAAAAAAAAAAAAAAAAAAAAAAAAAAAAAAAAAAAAAAAAAAAAAAAAAAAAAAAAAAAAAAAAAAAAAAAAAAAAAAAAAAAAAAAAAAAAAAAAAAAAAAAAAAAAAAAAAAAAAAAAAAAAAAAAAAAAAAAAAAAAAAAAAAAAAAAAAAAAAAAAAAAAAAAAAAAAAAAAAAAAAAAAAAAAAAAAAAAAAAAAAAAAAAAAAAAAAAAAAAAAAAAAAAAAAAAAAAAAAAAAAAAAAAAAAAAAAAAAAAAAAAAAAAAAAAAAAAAAAAAAAAAAAAAAAAAAAAAAAAAAAAAAAAAAAAAAAAAAAAAAAAAAAAAAAAAAAAAAAAAAAAAAAAAAAAAAAAAAAAAAAAAAAAAAAAAAAAAAAAAAAAAAAAAAAAAAAAAAAAAAAAAAAAAAAAAAAAAAAAAAAAAAAAAAAAAAAAAAAAAAAAAAAAAAAAAAAAAAAAAAAAAAAAAAAAAAAAAAAAAAAAAAAAAAAAAAAAAAAAAAAAAAAAAAAAAAAAAAAAAAAAAAAAAAAAAAAAAAAAAAAAAAAAAAAAAAAAAAAAAAAAAAAAAAAAAAAAAAAAAAAAAAAAAAAAAAAAAAAAAAAAAAAAAAAAAAAAAAAAAAAAAAAAAAAAAAAAAAAAAAAAAAAAAAAAAAAAAAAAAAAAAAAAAAAAAAAAAAAAAAAAAAAAAAAAAAAAAAAAAAAAAAAAAAAAAAAAAAAAAAAAAAAAAAAAAAAAAAAAAAAAAAAAAAAAAAAAAAAAAAAAAAAAAAAAAAAAAAAAAAAAAAAAAAAAAAAAAAAAAAAAAAAAAAAAAAAAAAAAAAAAAAAAAAAAAAAAAAAAAAAAAAAAAAAAAAAAAAAAAAAAAAAAAAAAAAAAAAAAAAAAAAAAAAAAAAAAAAAAAAAAAAAAAAAAAAAAAAAAAAAAAQAAAA==\",\"dtype\":\"int32\",\"order\":\"little\",\"shape\":[532]},\"CoinName\":[\"Acute Angle Cloud\",\"Semux\",\"EOS\",\"Lisk\",\"ARK\",\"ALAX\",\"BitTorrent\",\"Lamden Tau\",\"Oxycoin\",\"ZEPHYR\",\"Lynx\",\"Waves\",\"BiblePay\",\"Poa Network\",\"SafeExchangeCoin\",\"CasinoCoin\",\"BurstCoin\",\"Deviant Coin\",\"Rupee\",\"Dekado\",\"Velox\",\"Nautilus Coin\",\"MintCoin\",\"MedicCoin\",\"Dnotes\",\"Kalkulus\",\"Bitcoin Green\",\"Dystem\",\"Proton\",\"BitCurrency\",\"RubyCoin\",\"Crypto Sports\",\"Vitae\",\"Tokyo Coin\",\"Allsafe\",\"SuperCoin\",\"RoyalCoin\",\"FindCoin\",\"CoffeeCoin\",\"Crypti\",\"Dash Platinum\",\"QTUM\",\"KekCoin\",\"TittieCoin\",\"MudraCoin\",\"Cardano\",\"Zealium\",\"TeamUP\",\"Xt3ch\",\"Stakecoin\",\"Ketan\",\"Lutetium Coin\",\"Phreak\",\"Exclusive Coin\",\"Radium\",\"Creatio\",\"MMOCoin\",\"Peony Coin\",\"ARENON\",\"Bulwark\",\"Particl\",\"BitcoinPlus\",\"MacronCoin\",\"Atmos\",\"ZeitCoin\",\"FreeCoin\",\"Nebuchadnezzar\",\"TeslaCoin\",\"Junson Ming Chan Coin\",\"HyperStake\",\"Opair\",\"1717 Masonic Commemorative Token\",\"Monkey Project\",\"Digiwage\",\"Muse\",\"PAXEX\",\"Ontology\",\"PayCoin\",\"TigerCash\",\"Draftcoin\",\"Signatum\",\"GrowthCoin\",\"HiCoin\",\"Obsidian\",\"Ucoin\",\"BitcoinWSpectrum\",\"StorjCoin\",\"Bettex coin\",\"Zilbercoin\",\"RenosCoin\",\"NeosCoin\",\"PandaCoin\",\"Bitshares\",\"GPU Coin\",\"TokenPay\",\"Ultimate Secure Cash\",\"Diggits\",\"ProCurrency\",\"Let it Ride\",\"PirateCash\",\"Poseidon Quark\",\"HollyWoodCoin\",\"Infinity Economics\",\"Nxt\",\"Bitcoin Incognito\",\"Squall Coin\",\"FlutterCoin\",\"VeriCoin\",\"Block-Logic\",\"SolarCoin\",\"IrishCoin\",\"Poseidon\",\"ArtexCoin\",\"MarsCoin \",\"AC3\",\"TerraCoin\",\"Elements\",\"DigitalPrice\",\"Sojourn Coin\",\"SmileyCoin\",\"BolivarCoin\",\"ShareChain\",\"VaultCoin\",\"Sucre\",\"Linx\",\"Urals Coin\",\"Kronecoin\",\"Axe\",\"Kurrent\",\"Bata\",\"Pakcoin\",\"FrazCoin\",\"Crypto Escudo\",\"DAS\",\"NewYorkCoin\",\"ArcticCoin\",\"Pioneer Coin\",\"AdCoin\",\"HOdlcoin\",\"BitFlip\",\"Bitcore\",\"Canada eCoin\",\"KEYCO\",\"Digitalcoin \",\"BeaverCoin\",\"MonaCoin\",\"Franko\",\"GrandCoin\",\"Gamecredits\",\"RonPaulCoin\",\"Revolution VR\",\"StableCoin\",\"SmartCoin\",\"BitZeny\",\"Song Coin\",\"Quatloo\",\"EB3coin\",\"SexCoin\",\"MoonCoin\",\"E-Gulden\",\"Emerald\",\"CannaCoin\",\"EarthCoin\",\"OsmiumCoin\",\"gCn Coin\",\"Litecoin\",\"Azart\",\"SocialCoin\",\"Unify\",\"EquiTrader\",\"Argentum\",\"MUNcoin\",\"BenjiRolls\",\"Catcoin\",\"Folding Coin\",\"ProsperCoin\",\"LottoCoin\",\"1Credit\",\"GreenCoin\",\"MegaCoin\",\"MinCoin\",\"CryptCoin\",\"Omni\",\"Francs\",\"NobleCoin\",\"Shilling\",\"Onix\",\"HexCoin\",\"Pura\",\"PacCoin\",\"PizzaCoin\",\"eBoost\",\"Crypto Improvement Fund\",\"PopularCoin\",\"Litebar \",\"NyanCoin\",\"LuckyCoin\",\"KrugerCoin\",\"OmniCron\",\"Spreadcoin\",\"ViaCoin\",\"WorldCoin\",\"ArtByte\",\"Flo\",\"Wild Beast Coin\",\"MasterCoin\",\"PesetaCoin\",\"YoCoin\",\"GlobalCoin\",\"KiloCoin\",\"GoldCoin\",\"Infinite Coin\",\"Gulden\",\"DopeCoin\",\"UroCoin\",\"TigerCoin\",\"UnbreakableCoin\",\"MindCoin\",\"Expanse\",\"DaxxCoin\",\"Reality Clash\",\"Callisto Network\",\"Ellaism\",\"Ethereum\",\"Ethereum Classic\",\"Elementrem\",\"Vollar\",\"ZClassic\",\"Bitcoin Gold\",\"CrypticCoin\",\"Bitrolium\",\"Motion\",\"Horizen\",\"Beam\",\"Zero\",\"Exosis\",\"Groestlcoin\",\"Xchange\",\"Riecoin\",\"Verge\",\"Circuits of Value\",\"Cryptonite\",\"Actinium\",\"Alpenschillling\",\"GINcoin\",\"ZCoin\",\"SysCoin\",\"ZCash\",\"KREDS\",\"Crypto\",\"HexxCoin\",\"Infinex\",\"SmartCash\",\"MassGrid\",\"Aidos Kuneen\",\"MediterraneanCoin\",\"PlusOneCoin\",\"Zoin\",\"MyriadCoin\",\"BitcoinZ\",\"DubaiCoin\",\"FREDEnergy\",\"DigitalNote \",\"UltraNote\",\"BitCoal\",\"Cannabis Industry Coin\",\"PlatinCoin\",\"Monero Classic\",\"Newton Coin\",\"ChanCoin\",\"Interzone\",\"Siacoin\",\"Nano\",\"Lithium\",\"BlakeCoin\",\"Universal Molecule\",\"Photon\",\"Dynamic\",\"ByteCoin\",\"Karbo\",\"PluraCoin\",\"Sumokoin\",\"SoilCoin\",\"Pirl\",\"Travelflex\",\"Ryo\",\"Webchain\",\"Monero\",\"Citadel\",\"Quantum Resistant Ledger\",\"Bithereum\",\"Lethean\",\"Loki\",\"Niobio Cash\",\"TurtleCoin\",\"BitTube\",\"LeviarCoin\",\"Beldex\",\"Dinastycoin\",\"Bikercoins\",\"Qwertycoin\",\"Unitus\",\"Vertcoin\",\"JoinCoin\",\"SLICE\",\"CypherPunkCoin\",\"QuarkCoin\",\"DollarCoin\",\"SHIELD\",\"UnitedBitcoin\",\"ILCoin\",\"ZayedCoin\",\"SibCoin\",\"IXcoin\",\"Bitcoin Cash\",\"I0coin\",\"Bitcoin SV\",\"BowsCoin\",\"ZetaCoin\",\"JouleCoin\",\"Anarchists Prime\",\"Crown Coin\",\"Project Pai\",\"FuturoCoin\",\"SoonCoin\",\"Adzcoin\",\"Unobtanium\",\"DevCoin\",\"CarpeDiemCoin\",\"GlobalToken\",\"BLAST\",\"Bitcoin\",\"Namecoin\",\"Bitcoin Rhodium\",\"GoByte\",\"Einsteinium\",\"Innova\",\"FeatherCoin\",\"VIVO Coin\",\"DigiByte\",\"UFO Coin\",\"SparksPay\",\"Jumpcoin\",\"Coinonat\",\"GunCoin\",\"LitecoinCash\",\"My Big Coin\",\"Printerium\",\"GoldReserve\",\"GanjaCoin V2\",\"Ratecoin\",\"MustangCoin\",\"Cream\",\"Monoeci\",\"Condensate\",\"Insane Coin\",\"EmberCoin\",\"Bitcoin Planet\",\"HTML5 Coin\",\"Piggy Coin\",\"Regalcoin\",\"Impact\",\"EuropeCoin\",\"CryptoBullion\",\"IslaCoin\",\"EverGreenCoin\",\"Hitcoin\",\"AquariusCoin\",\"HappyCoin\",\"Beetle Coin\",\"Klingon Empire Darsek\",\"Ellerium\",\"KoboCoin\",\"Paycon\",\"Sativa Coin\",\"TruckCoin\",\"EUNO\",\"StealthCoin\",\"GoldBlocks\",\"Kore\",\"TorCoin\",\"KushCoin\",\"InsaneCoin\",\"NavCoin\",\"EliteCoin\",\"DeepOnion\",\"OpalCoin\",\"Award\",\"BritCoin\",\"Enigma\",\"SyncCoin\",\"Dash\",\"PinkCoin\",\"Triangles Coin\",\"CapriCoin\",\"XenixCoin\",\"Pushi\",\"Magnet\",\"X11 Coin\",\"Eternity\",\"Trivechain\",\"PhantomX\",\"Halloween Coin\",\"IOCoin\",\"VirtacoinPlus\",\"BitSend\",\"Bitcoin Diamond\",\"Swisscoin\",\"GameUnits\",\"BitcoinDark\",\"Neutron\",\"OKCash\",\"MazaCoin\",\"Clockcoin\",\"Revenu\",\"IncaKoin\",\"BitTokens\",\"SwingCoin\",\"DubaiCoin\",\"Titan Coin\",\"LanaCoin\",\"Emercoin\",\"TheVig\",\"MaxCoin\",\"Gapcoin\",\"AudioCoin\",\"HyperCoin\",\"BitstarCoin\",\"CoinonatX\",\"Ethereum Dark\",\"WhiteCoin\",\"Genstake\",\"XiaoMiCoin\",\"WomenCoin\",\" ClubCoin\",\"BuzzCoin\",\"EDRCoin\",\"Internet of People\",\"Theresa May Coin\",\"Espers\",\"Decred\",\"TajCoin\",\"Stipend\",\"Diamond\",\"FairCoin\",\"XDNA\",\"Absolute Coin\",\"VIP Tokens\",\"Bitspace\",\"NamoCoin\",\"Virta Unique Coin\",\"Electra\",\"PWR Coin\",\"Denarius\",\"TrezarCoin\",\"FriendshipCoin\",\"Orbitcoin\",\"LUXCoin\",\"Droidz\",\"LiteCreed\",\"HerbCoin\",\"Galilel\",\"Giant\",\"Carebit\",\"Bitcloud 2.0\",\"Eurocoin\",\"GAKHcoin\",\"Trollcoin\",\"TerraNovaCoin\",\"iDealCash\",\"PotCoin\",\"PhoenixCoin\",\"ZCC Coin\",\"8BIT Coin\",\"UltraCoin\",\"Vtorrent\",\"UnitaryStatus Dollar\",\"Reddcoin\",\"BillaryCoin\",\"PLNCoin\",\"BitBar\",\"OpenChat\",\"Litecoin Plus\",\"EnergyCoin\",\"ArgusCoin\",\"LomoCoin\",\"Aurora Coin\",\"Degas Coin\",\"Linda\",\"404Coin\",\"BlueCoin\",\"Impeach\",\"BitcoinFast\",\"BitConnect Coin\",\"MoneyCoin\",\"Russiacoin\",\"Independent Money System\",\"HoboNickels\",\"CarterCoin\",\"Briacoin\",\"OrangeCoin\",\"LiteDoge\",\"Xios\",\"Nasdacoin\",\"BlackholeCoin\",\"Credit\",\"Oduwa\",\"PesoBit\",\"EmaratCoin\",\"Cash & Back Coin\",\"Unified Society USDEX\",\"Ignition\",\"TPCash\",\"GermanCoin\",\"LiteCoin Ultra\",\"ThunderStake\",\"42 Coin\",\"PutinCoin\",\"iBankCoin\",\"Abjcoin\",\"Frankywillcoin\",\"ZoneCoin\",\"RootCoin\",\"FirstCoin\",\"Swiscoin\",\"Nexus\",\"BitMoney\",\"Vechain\",\"Creditbit \",\"Stakenet\",\"Kcash\",\"Komodo\"],\"ProofType\":[\"DPOS\",\"DPoS\",\"DPoS\",\"DPoS\",\"DPoS\",\"DPoS\",\"DPoS\",\"DPoS\",\"DPoS\",\"DPoS\",\"HPoW\",\"LPoS\",\"POBh\",\"PoA\",\"PoC\",\"PoC\",\"PoC\",\"PoS\",\"PoS\",\"PoS\",\"PoS\",\"PoS\",\"PoS\",\"PoS\",\"PoS\",\"PoS\",\"PoS\",\"PoS\",\"PoS\",\"PoS\",\"PoS\",\"PoS\",\"PoS\",\"PoS\",\"PoS\",\"PoS\",\"PoS\",\"PoS\",\"PoS\",\"PoS\",\"PoS\",\"PoS\",\"PoS\",\"PoS\",\"PoS\",\"PoS\",\"PoS\",\"PoS\",\"PoS\",\"PoS\",\"PoS\",\"PoS\",\"PoS\",\"PoS\",\"PoS\",\"PoS\",\"PoS\",\"PoS\",\"PoS\",\"PoS\",\"PoS\",\"PoS\",\"PoS\",\"PoS\",\"PoS\",\"PoS\",\"PoS\",\"PoS\",\"PoS\",\"PoS\",\"PoS\",\"PoS\",\"PoS\",\"PoS\",\"PoS\",\"PoS\",\"PoS\",\"PoS\",\"PoS\",\"PoS\",\"PoS\",\"PoS\",\"PoS\",\"PoS\",\"PoS\",\"PoS\",\"PoS\",\"PoS\",\"PoS\",\"PoS\",\"PoS\",\"PoS\",\"PoS\",\"PoS\",\"PoS\",\"PoS\",\"PoS\",\"PoS\",\"PoS\",\"PoS\",\"PoS\",\"PoS\",\"PoS\",\"PoS/LPoS\",\"PoS/PoW\",\"PoS/PoW\",\"PoS/PoW/PoT\",\"PoST\",\"PoW\",\"PoW\",\"PoW\",\"PoW\",\"PoW\",\"PoW\",\"PoW\",\"PoW\",\"PoW\",\"PoW\",\"PoW\",\"PoW\",\"PoW\",\"PoW\",\"PoW\",\"PoW\",\"PoW\",\"PoW\",\"PoW\",\"PoW\",\"PoW\",\"PoW\",\"PoW\",\"PoW\",\"PoW\",\"PoW\",\"PoW\",\"PoW\",\"PoW\",\"PoW\",\"PoW\",\"PoW\",\"PoW\",\"PoW\",\"PoW\",\"PoW\",\"PoW\",\"PoW\",\"PoW\",\"PoW\",\"PoW\",\"PoW\",\"PoW\",\"PoW\",\"PoW\",\"PoW\",\"PoW\",\"PoW\",\"PoW\",\"PoW\",\"PoW\",\"PoW\",\"PoW\",\"PoW\",\"PoW\",\"PoW\",\"PoW\",\"PoW\",\"PoW\",\"PoW\",\"PoW\",\"PoW\",\"PoW\",\"PoW\",\"PoW\",\"PoW\",\"PoW\",\"PoW\",\"PoW\",\"PoW\",\"PoW\",\"PoW\",\"PoW\",\"PoW\",\"PoW\",\"PoW\",\"PoW\",\"PoW\",\"PoW\",\"PoW\",\"PoW\",\"PoW\",\"PoW\",\"PoW\",\"PoW\",\"PoW\",\"PoW\",\"PoW\",\"PoW\",\"PoW\",\"PoW\",\"PoW\",\"PoW\",\"PoW\",\"PoW\",\"PoW\",\"PoW\",\"PoW\",\"PoW\",\"PoW\",\"PoW\",\"PoW\",\"PoW\",\"PoW\",\"PoW\",\"PoW\",\"PoW\",\"PoW\",\"PoW\",\"PoW\",\"PoW\",\"PoW\",\"PoW\",\"PoW\",\"PoW\",\"PoW\",\"PoW\",\"PoW\",\"PoW\",\"PoW\",\"PoW\",\"PoW\",\"PoW\",\"PoW\",\"PoW\",\"PoW\",\"PoW\",\"PoW\",\"PoW\",\"PoW\",\"PoW\",\"PoW\",\"PoW\",\"PoW\",\"PoW\",\"PoW\",\"PoW\",\"PoW\",\"PoW\",\"PoW\",\"PoW\",\"PoW\",\"PoW\",\"PoW\",\"PoW\",\"PoW\",\"PoW\",\"PoW\",\"PoW\",\"PoW\",\"PoW\",\"PoW\",\"PoW\",\"PoW\",\"PoW\",\"PoW\",\"PoW\",\"PoW\",\"PoW\",\"PoW\",\"PoW\",\"PoW\",\"PoW\",\"PoW\",\"PoW\",\"PoW\",\"PoW\",\"PoW\",\"PoW\",\"PoW\",\"PoW\",\"PoW\",\"PoW\",\"PoW\",\"PoW\",\"PoW\",\"PoW\",\"PoW\",\"PoW\",\"PoW\",\"PoW\",\"PoW\",\"PoW\",\"PoW\",\"PoW\",\"PoW\",\"PoW\",\"PoW\",\"PoW\",\"PoW\",\"PoW\",\"PoW\",\"PoW\",\"PoW\",\"PoW\",\"PoW\",\"PoW\",\"PoW\",\"PoW\",\"PoW\",\"PoW\",\"PoW\",\"PoW\",\"PoW\",\"PoW\",\"PoW\",\"PoW\",\"PoW\",\"PoW\",\"PoW\",\"PoW\",\"PoW\",\"PoW\",\"PoW\",\"PoW\",\"PoW\",\"PoW\",\"PoW\",\"PoW\",\"PoW\",\"PoW\",\"PoW\",\"PoW\",\"PoW\",\"PoW\",\"PoW\",\"PoW\",\"PoW\",\"PoW\",\"PoW\",\"PoW\",\"PoW\",\"PoW\",\"PoW\",\"PoW\",\"PoW\",\"PoW\",\"PoW + Hive\",\"PoW and PoS\",\"PoW/PoS\",\"PoW/PoS\",\"PoW/PoS\",\"PoW/PoS\",\"PoW/PoS\",\"PoW/PoS\",\"PoW/PoS\",\"PoW/PoS\",\"PoW/PoS\",\"PoW/PoS\",\"PoW/PoS\",\"PoW/PoS\",\"PoW/PoS\",\"PoW/PoS\",\"PoW/PoS\",\"PoW/PoS\",\"PoW/PoS\",\"PoW/PoS\",\"PoW/PoS\",\"PoW/PoS\",\"PoW/PoS\",\"PoW/PoS\",\"PoW/PoS\",\"PoW/PoS\",\"PoW/PoS\",\"PoW/PoS\",\"PoW/PoS\",\"PoW/PoS\",\"PoW/PoS\",\"PoW/PoS\",\"PoW/PoS\",\"PoW/PoS\",\"PoW/PoS\",\"PoW/PoS\",\"PoW/PoS\",\"PoW/PoS\",\"PoW/PoS\",\"PoW/PoS\",\"PoW/PoS\",\"PoW/PoS\",\"PoW/PoS\",\"PoW/PoS\",\"PoW/PoS\",\"PoW/PoS\",\"PoW/PoS\",\"PoW/PoS\",\"PoW/PoS\",\"PoW/PoS\",\"PoW/PoS\",\"PoW/PoS\",\"PoW/PoS\",\"PoW/PoS\",\"PoW/PoS\",\"PoW/PoS\",\"PoW/PoS\",\"PoW/PoS\",\"PoW/PoS\",\"PoW/PoS\",\"PoW/PoS\",\"PoW/PoS\",\"PoW/PoS\",\"PoW/PoS\",\"PoW/PoS\",\"PoW/PoS\",\"PoW/PoS\",\"PoW/PoS\",\"PoW/PoS\",\"PoW/PoS\",\"PoW/PoS\",\"PoW/PoS\",\"PoW/PoS\",\"PoW/PoS\",\"PoW/PoS\",\"PoW/PoS\",\"PoW/PoS\",\"PoW/PoS\",\"PoW/PoS\",\"PoW/PoS\",\"PoW/PoS\",\"PoW/PoS\",\"PoW/PoS\",\"PoW/PoS\",\"PoW/PoS\",\"PoW/PoS\",\"PoW/PoS\",\"PoW/PoS\",\"PoW/PoS\",\"PoW/PoS\",\"PoW/PoS\",\"PoW/PoS\",\"PoW/PoS\",\"PoW/PoS\",\"PoW/PoS\",\"PoW/PoS\",\"PoW/PoS\",\"PoW/PoS\",\"PoW/PoS\",\"PoW/PoS\",\"PoW/PoS\",\"PoW/PoS\",\"PoW/PoS\",\"PoW/PoS\",\"PoW/PoS\",\"PoW/PoS\",\"PoW/PoS\",\"PoW/PoS\",\"PoW/PoS\",\"PoW/PoS\",\"PoW/PoS\",\"PoW/PoS\",\"PoW/PoS\",\"PoW/PoS\",\"PoW/PoS\",\"PoW/PoS\",\"PoW/PoS\",\"PoW/PoS\",\"PoW/PoS\",\"PoW/PoS\",\"PoW/PoS\",\"PoW/PoS\",\"PoW/PoS\",\"PoW/PoS\",\"PoW/PoS\",\"PoW/PoS\",\"PoW/PoS\",\"PoW/PoS\",\"PoW/PoS\",\"PoW/PoS\",\"PoW/PoS\",\"PoW/PoS\",\"PoW/PoS\",\"PoW/PoS\",\"PoW/PoS\",\"PoW/PoS\",\"PoW/PoS\",\"PoW/PoS\",\"PoW/PoS\",\"PoW/PoS\",\"PoW/PoS\",\"PoW/PoS\",\"PoW/PoS\",\"PoW/PoS\",\"PoW/PoS\",\"PoW/PoS\",\"PoW/PoS\",\"PoW/PoS\",\"PoW/PoS\",\"PoW/PoS\",\"PoW/PoS\",\"PoW/PoS\",\"PoW/PoS\",\"PoW/PoS\",\"PoW/PoS\",\"PoW/PoS\",\"PoW/PoS\",\"PoW/PoS\",\"PoW/PoS\",\"PoW/PoS\",\"PoW/PoS\",\"PoW/PoS\",\"PoW/PoS\",\"PoW/PoS\",\"PoW/PoS\",\"PoW/PoS\",\"PoW/PoS\",\"PoW/PoS\",\"PoW/PoS\",\"PoW/PoS\",\"PoW/PoS\",\"PoW/PoS\",\"PoW/PoS\",\"PoW/PoS\",\"PoW/PoS\",\"PoW/PoS\",\"PoW/PoS\",\"PoW/PoS\",\"PoW/PoS \",\"PoW/PoW\",\"PoW/nPoS\",\"Pos\",\"Proof of Authority\",\"Proof of Trust\",\"TPoS\",\"Zero-Knowledge Proof\",\"dPoW/PoW\"],\"TotalCoinSupply\":[\"1000000000\",\"100000000\",\"0\",\"159918400\",\"125000000\",\"1000000000\",\"990000000000\",\"500000000\",\"0\",\"2000000000\",\"92000000000\",\"100000000\",\"5200000000\",\"252460800\",\"2147483647\",\"40000000000\",\"2158812800\",\"88000000\",\"24000000\",\"90000000\",\"124000000\",\"16180000\",\"0\",\"500000000\",\"500000000\",\"20000000\",\"21000000\",\"21000000\",\"45000000\",\"0\",\"0\",\"13370000\",\"100000000\",\"800000000\",\"15000000\",\"0\",\"2500124\",\"14524851.4827\",\"39999898\",\"0\",\"19700000\",\"100000000\",\"21000000\",\"2300000000\",\"200000000\",\"45000000000\",\"80000000\",\"301000000\",\"44000000\",\"61599965\",\"210000000\",\"657000000\",\"30000000\",\"0\",\"9000000\",\"20000000\",\"260000000\",\"16880000000\",\"55000000\",\"27716121\",\"8634140\",\"1000000\",\"400000000\",\"110290030\",\" 99000000000\",\"50000000\",\"20000000\",\"100000000\",\"0\",\"0\",\"74000000\",\"1618033\",\"21000000\",\"120000000\",\"18081806 \",\"100000000\",\"1000000000\",\"12500000\",\"1000000000\",\"17405891.19707116\",\"137500000\",\"2000000000\",\"10008835635\",\"91388946\",\"20000000\",\"100262205\",\"500000000\",\"50000000\",\"55000000\",\"34426423\",\"21000000\",\"32514916898\",\"3600570502\",\"221052632\",\"25000000\",\"200084200\",\"100000000\",\"75000000000\",\"33500000\",\"105000000\",\"650000000 \",\"26000000\",\"9000000000\",\"1000000000\",\"21000000\",\"0\",\"0\",\"0\",\"120000000\",\"98100000000\",\"64000000\",\"21000000\",\"500000000\",\"33000000\",\"550000000\",\"42000000\",\"1800000000\",\"100000000\",\"10500000000\",\"50000000000\",\"25000000\",\"10000000000\",\"1000000000\",\"19800000\",\"100000000\",\"210000000\",\"84000000\",\"21000000\",\"228000000\",\"5000000\",\"182000000\",\"20000000\",\"1000000000\",\"18900000\",\"0\",\"60000000\",\"23000000\",\"100000000\",\"81962100\",\"40000000\",\"21000000\",\"100000000 \",\"18000000\",\"48166000\",\"3360000\",\"105120000\",\"11235813\",\"1420609614\",\"84000000\",\"21000000\",\"210000000\",\"250000000\",\"51200000\",\"250000000\",\"210240000\",\"100000000\",\"4000000000\",\"250000000\",\"384000000000\",\"21000000 \",\"32000000\",\"13140000\",\"13500000000\",\"2714286\",\"200000000000\",\"84000000\",\"25000000\",\" 75000000\",\"19276800\",\"72000000\",\"64000000\",\"16600000\",\"35520400\",\"21000000 \",\"1000000000\",\"21000000\",\"18406979840\",\"92000000000\",\"10000000000\",\"42000000\",\"10000000\",\"18000000\",\"616448\",\"20000000\",\"15000000000\",\"30000000\",\"1100000000\",\"22105263\",\"350000000\",\"100000000000\",\"25000000\",\"100000000\",\"500000000\",\"4999999999\",\"1350000\",\"337000000\",\"20000000\",\"265420800\",\"3371337\",\"20000000\",\"23000000\",\"265420800\",\"1000000000\",\"160000000\",\"2628000\",\"619478\",\"166386000\",\"168351300\",\"70000000\",\"10000000000\",\"72245700\",\"90600000000\",\"1680000000\",\"200000000\",\"0\",\"47011968\",\"80000000\",\"16000000\",\"16906397\",\"10000000000\",\"24487944\",\"6500000000\",\"280000000\",\"0\",\"210000000\",\"26205539\",\"2100000000\",\"21000000\",\"21000000\",\"7600000000\",\"70000000\",\"22075700\",\"21000000\",\"262800000\",\"17000000\",\"21000000\",\"105000000\",\"100000000\",\"84000000\",\"16555000000\",\"1200000000\",\"1840000000\",\"84000000\",\"300000000\",\"10500000\",\"21400000\",\"888000000\",\"21000000\",\"1100000000\",\"65789100\",\"9999999\",\"26280000\",\"5000000000\",\"168000000\",\"25000000\",\"200000000\",\"21000000\",\"21000000\",\"2000000000\",\"21000000000\",\"2232901\",\"8080000000\",\"10000000000\",\"85000000000\",\"12500000\",\"21000000\",\"600000518\",\"18400000\",\"184000000000\",\"30000000\",\"23000000\",\"0\",\"340282367\",\"25228800\",\"7000000000\",\"105120001.44\",\" 90000000000\",\"0\",\"184467440735\",\"10000000\",\"1000000000\",\"88888888\",\"30000000\",\"156306732.71\",\"100000000\",\"88188888\",\"1750000000\",\"0\",\"185000000\",\"105000000\",\"30886000\",\"999481516\",\"150000000\",\"336000000\",\"1000000000000\",\"1000000000\",\"54000000\",\"1400222610\",\"2000000000\",\"25000000\",\"184470000000\",\"0\",\"84000000\",\"2800000\",\"100000000\",\"0\",\"247000000\",\"10638298\",\"660000000\",\"20166000\",\"2500000000\",\"9736000\",\"24000000\",\"21000000\",\"21000000\",\"21000000\",\"21000000\",\"21000000\",\"169795588\",\"45000000\",\"53760000\",\"42000000\",\"2100000000\",\"100000000\",\"21000000\",\"84000000\",\"250000\",\"21000000000\",\"21626280000 \",\"168000000\",\"64000000\",\"21000000\",\"21000000\",\"2100000\",\"31800000\",\"299792458\",\"45000000\",\"336000000\",\"27000000\",\"21000000000\",\"4000000000\",\"21000000\",\"21000000\",\"48252000\",\"500000000\",\"840000000\",\"30000000\",\"20000000\",\"40000000\",\"100000000\",\"75000000\",\"3000000\",\"100000000\",\"9507271\",\"500000000\",\"30000000\",\"850000000\",\"100000000\",\"90000000000\",\"1000000000\",\"27000000\",\"110000000\",\"384000000\",\"1000000\",\"0\",\"26298000\",\"26550000000\",\"42000000\",\"100000000\",\"500000000\",\"500000000\",\"60000000\",\"350000000\",\"50000000\",\"10000000\",\"0\",\"50000000\",\"0\",\"50000000\",\"12000000\",\"10000000\",\"9354000\",\"30000000\",\"0\",\"314159265359\",\"18898187.6216583\",\"0\",\"420000000\",\"30000000\",\"5000000\",\"1000\",\"22000000\",\"500000000\",\"120000\",\"208000000\",\"3853326.77707314\",\"25000000\",\"144000000\",\"5500000\",\"60000000\",\"82546564\",\"50000000\",\"1500000000\",\"22000000\",\"100000000\",\"139000000\",\"210000000\",\"10200000000\",\"13000000\",\"22000000\",\"68000000\",\"105000000\",\"2419200000\",\"525000000\",\"222725000\",\"190000000\",\"21000000\",\"40000000\",\"10500000\",\"5000000000\",\"7506000000\",\"1000000000\",\"100000000\",\"100000000\",\"250000000\",\"10500000000\",\"0\",\"54256119\",\"48252000\",\"4200000\",\"300000000\",\"15000000\",\"400000000\",\"25000000000\",\"160000000\",\"20000000000\",\"22000000\",\"21000000\",\"100000000\",\"50000000000\",\"21000000\",\"36900000\",\"19340594\",\"4380000\",\"0\",\"366000000\",\"52500000\",\"90000000\",\"50000000\",\"1200000000\",\"120000000\",\"30000000000\",\"0\",\"10000000\",\"400000000\",\"60168145\",\"3770000\",\"60000000\",\"5060000\",\"78835200\",\"54000000\",\"19035999\",\"5151000\",\"200000000\",\"200000000\",\"20000000\",\"3315789\",\"900000000\",\"15733333\",\"5121951220\",\"420000000\",\"98000000\",\"1000000000\",\"0\",\"100000000\",\"20000000\",\"1600000000\",\"0\",\"42000000\",\"38540000 \",\"500000\",\"1000000000\",\"4000000\",\"0\",\"28600000\",\"1000000000\",\"16768584\",\"105000000\",\"50000000000\",\"532000000\",\"0\",\"21933333\",\"33000000\",\"28000000\",\"650659833\",\"144000000\",\"21212121\",\"120000000\",\"90000000\",\"3000000\",\"200000000\",\"35000000000\",\"21000000\",\"84000000\",\"14788275.991\",\"74800000000\",\"21000000\",\"0\",\"84000000\",\"210000000\",\"232000000\",\"5000000\",\"1000000000\",\"50000000000\",\"150000000\",\"18000000000\",\"42\",\"2000000000\",\"44333333\",\"30000000\",\"100000000\",\"21000000\",\"0\",\"110000000\",\"3100000000\",\"78000000\",\"70000000000\",\"86712634466\",\"16504333\",\"76500000\",\"1000000000\",\"200000000\"],\"TotalCoinsMined\":{\"__ndarray__\":\"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\",\"dtype\":\"float64\",\"order\":\"little\",\"shape\":[532]}},\"selected\":{\"id\":\"3261\"},\"selection_policy\":{\"id\":\"3295\"}},\"id\":\"3260\",\"type\":\"ColumnDataSource\"},{\"attributes\":{},\"id\":\"3295\",\"type\":\"UnionRenderers\"},{\"attributes\":{\"editor\":{\"id\":\"3263\"},\"field\":\"CoinName\",\"formatter\":{\"id\":\"3262\"},\"title\":\"CoinName\"},\"id\":\"3264\",\"type\":\"TableColumn\"},{\"attributes\":{\"children\":[{\"id\":\"3259\"},{\"id\":\"3292\"},{\"id\":\"3299\"}],\"margin\":[0,0,0,0],\"name\":\"Row06095\",\"tags\":[\"embedded\"]},\"id\":\"3258\",\"type\":\"Row\"},{\"attributes\":{},\"id\":\"3278\",\"type\":\"NumberEditor\"},{\"attributes\":{},\"id\":\"3273\",\"type\":\"StringEditor\"},{\"attributes\":{},\"id\":\"3282\",\"type\":\"StringFormatter\"},{\"attributes\":{},\"id\":\"3263\",\"type\":\"StringEditor\"},{\"attributes\":{\"editor\":{\"id\":\"3268\"},\"field\":\"Algorithm\",\"formatter\":{\"id\":\"3267\"},\"title\":\"Algorithm\"},\"id\":\"3269\",\"type\":\"TableColumn\"},{\"attributes\":{},\"id\":\"3261\",\"type\":\"Selection\"},{\"attributes\":{},\"id\":\"3272\",\"type\":\"StringFormatter\"},{\"attributes\":{\"columns\":[{\"id\":\"3264\"},{\"id\":\"3269\"},{\"id\":\"3274\"},{\"id\":\"3279\"},{\"id\":\"3284\"},{\"id\":\"3289\"}],\"height\":300,\"reorderable\":false,\"source\":{\"id\":\"3260\"},\"view\":{\"id\":\"3294\"},\"width\":700},\"id\":\"3292\",\"type\":\"DataTable\"},{\"attributes\":{},\"id\":\"3287\",\"type\":\"NumberFormatter\"},{\"attributes\":{\"editor\":{\"id\":\"3283\"},\"field\":\"TotalCoinSupply\",\"formatter\":{\"id\":\"3282\"},\"title\":\"TotalCoinSupply\"},\"id\":\"3284\",\"type\":\"TableColumn\"},{\"attributes\":{\"margin\":[5,5,5,5],\"name\":\"HSpacer06100\",\"sizing_mode\":\"stretch_width\"},\"id\":\"3299\",\"type\":\"Spacer\"},{\"attributes\":{\"editor\":{\"id\":\"3278\"},\"field\":\"TotalCoinsMined\",\"formatter\":{\"id\":\"3277\"},\"title\":\"TotalCoinsMined\"},\"id\":\"3279\",\"type\":\"TableColumn\"},{\"attributes\":{\"editor\":{\"id\":\"3273\"},\"field\":\"ProofType\",\"formatter\":{\"id\":\"3272\"},\"title\":\"ProofType\"},\"id\":\"3274\",\"type\":\"TableColumn\"}],\"root_ids\":[\"3258\"]},\"title\":\"Bokeh Application\",\"version\":\"2.4.2\"}};\n",
       "    var render_items = [{\"docid\":\"e506abd9-5b10-4b6b-ae5e-9d8afd65143f\",\"root_ids\":[\"3258\"],\"roots\":{\"3258\":\"8da1cc0b-cc3d-4009-8b7c-8a5d0cb5850a\"}}];\n",
       "    root.Bokeh.embed.embed_items_notebook(docs_json, render_items);\n",
       "  }\n",
       "  if (root.Bokeh !== undefined && root.Bokeh.Panel !== undefined) {\n",
       "    embed_document(root);\n",
       "  } else {\n",
       "    var attempts = 0;\n",
       "    var timer = setInterval(function(root) {\n",
       "      if (root.Bokeh !== undefined && root.Bokeh.Panel !== undefined) {\n",
       "        clearInterval(timer);\n",
       "        embed_document(root);\n",
       "      } else if (document.readyState == \"complete\") {\n",
       "        attempts++;\n",
       "        if (attempts > 200) {\n",
       "          clearInterval(timer);\n",
       "          console.log(\"Bokeh: ERROR: Unable to run BokehJS code because BokehJS library is missing\");\n",
       "        }\n",
       "      }\n",
       "    }, 25, root)\n",
       "  }\n",
       "})(window);</script>"
      ],
      "text/plain": [
       ":Table   [CoinName,Algorithm,ProofType,TotalCoinsMined,TotalCoinSupply,Class]"
      ]
     },
     "execution_count": 262,
     "metadata": {
      "application/vnd.holoviews_exec.v0+json": {
       "id": "3258"
      }
     },
     "output_type": "execute_result"
    }
   ],
   "source": [
    "# Create a table with tradable cryptocurrencies using the hvplot.table() function.\n",
    "clustered_df.hvplot.table(columns=['CoinName', 'Algorithm', 'ProofType', 'TotalCoinsMined', 'TotalCoinSupply', 'Class'],\n",
    "                          sortable=True, selectable=True)"
   ]
  },
  {
   "cell_type": "code",
   "execution_count": 263,
   "metadata": {},
   "outputs": [
    {
     "data": {
      "text/plain": [
       "532"
      ]
     },
     "execution_count": 263,
     "metadata": {},
     "output_type": "execute_result"
    }
   ],
   "source": [
    "# Print the total number of tradable cryptocurrencies.\n",
    "clustered_df['CoinName'].count()"
   ]
  },
  {
   "cell_type": "code",
   "execution_count": 264,
   "metadata": {},
   "outputs": [
    {
     "data": {
      "text/plain": [
       "array([[1.00000000e-03, 1.01011248e-03],\n",
       "       [1.00000000e-04, 1.24355458e-06],\n",
       "       [0.00000000e+00, 1.03086476e-03],\n",
       "       ...,\n",
       "       [7.65000000e-05, 7.63547361e-05],\n",
       "       [1.00000000e-03, 1.01011248e-03],\n",
       "       [2.00000000e-04, 1.17070111e-04]])"
      ]
     },
     "execution_count": 264,
     "metadata": {},
     "output_type": "execute_result"
    }
   ],
   "source": [
    "# Use the MinMaxScaler().fit_transform method to scale the TotalCoinSupply and TotalCoinsMined columns \n",
    "# between the given range of zero and one.\n",
    "X_minmax = MinMaxScaler().fit_transform(clustered_df[['TotalCoinSupply', 'TotalCoinsMined']])\n",
    "X_minmax\n"
   ]
  },
  {
   "cell_type": "code",
   "execution_count": 265,
   "metadata": {},
   "outputs": [
    {
     "data": {
      "text/html": [
       "<div>\n",
       "<style scoped>\n",
       "    .dataframe tbody tr th:only-of-type {\n",
       "        vertical-align: middle;\n",
       "    }\n",
       "\n",
       "    .dataframe tbody tr th {\n",
       "        vertical-align: top;\n",
       "    }\n",
       "\n",
       "    .dataframe thead th {\n",
       "        text-align: right;\n",
       "    }\n",
       "</style>\n",
       "<table border=\"1\" class=\"dataframe\">\n",
       "  <thead>\n",
       "    <tr style=\"text-align: right;\">\n",
       "      <th></th>\n",
       "      <th>TotalCoinSupply_scaled</th>\n",
       "      <th>TotalCoinsMined_scaled</th>\n",
       "      <th>CoinName</th>\n",
       "      <th>Class</th>\n",
       "    </tr>\n",
       "  </thead>\n",
       "  <tbody>\n",
       "    <tr>\n",
       "      <th>AAC</th>\n",
       "      <td>0.001000</td>\n",
       "      <td>0.001010</td>\n",
       "      <td>Acute Angle Cloud</td>\n",
       "      <td>3</td>\n",
       "    </tr>\n",
       "    <tr>\n",
       "      <th>SEM</th>\n",
       "      <td>0.000100</td>\n",
       "      <td>0.000001</td>\n",
       "      <td>Semux</td>\n",
       "      <td>0</td>\n",
       "    </tr>\n",
       "    <tr>\n",
       "      <th>EOS</th>\n",
       "      <td>0.000000</td>\n",
       "      <td>0.001031</td>\n",
       "      <td>EOS</td>\n",
       "      <td>0</td>\n",
       "    </tr>\n",
       "    <tr>\n",
       "      <th>LSK</th>\n",
       "      <td>0.000160</td>\n",
       "      <td>0.000121</td>\n",
       "      <td>Lisk</td>\n",
       "      <td>0</td>\n",
       "    </tr>\n",
       "    <tr>\n",
       "      <th>ARK</th>\n",
       "      <td>0.000125</td>\n",
       "      <td>0.000109</td>\n",
       "      <td>ARK</td>\n",
       "      <td>0</td>\n",
       "    </tr>\n",
       "    <tr>\n",
       "      <th>ALX</th>\n",
       "      <td>0.001000</td>\n",
       "      <td>0.001010</td>\n",
       "      <td>ALAX</td>\n",
       "      <td>0</td>\n",
       "    </tr>\n",
       "    <tr>\n",
       "      <th>BTT</th>\n",
       "      <td>0.990000</td>\n",
       "      <td>1.000000</td>\n",
       "      <td>BitTorrent</td>\n",
       "      <td>2</td>\n",
       "    </tr>\n",
       "    <tr>\n",
       "      <th>TAU</th>\n",
       "      <td>0.000500</td>\n",
       "      <td>0.000291</td>\n",
       "      <td>Lamden Tau</td>\n",
       "      <td>0</td>\n",
       "    </tr>\n",
       "    <tr>\n",
       "      <th>OXY</th>\n",
       "      <td>0.000000</td>\n",
       "      <td>0.001134</td>\n",
       "      <td>Oxycoin</td>\n",
       "      <td>0</td>\n",
       "    </tr>\n",
       "    <tr>\n",
       "      <th>ZEPH</th>\n",
       "      <td>0.002000</td>\n",
       "      <td>0.002020</td>\n",
       "      <td>ZEPHYR</td>\n",
       "      <td>0</td>\n",
       "    </tr>\n",
       "  </tbody>\n",
       "</table>\n",
       "</div>"
      ],
      "text/plain": [
       "      TotalCoinSupply_scaled  TotalCoinsMined_scaled           CoinName  Class\n",
       "AAC                 0.001000                0.001010  Acute Angle Cloud      3\n",
       "SEM                 0.000100                0.000001              Semux      0\n",
       "EOS                 0.000000                0.001031                EOS      0\n",
       "LSK                 0.000160                0.000121               Lisk      0\n",
       "ARK                 0.000125                0.000109                ARK      0\n",
       "ALX                 0.001000                0.001010               ALAX      0\n",
       "BTT                 0.990000                1.000000         BitTorrent      2\n",
       "TAU                 0.000500                0.000291         Lamden Tau      0\n",
       "OXY                 0.000000                0.001134            Oxycoin      0\n",
       "ZEPH                0.002000                0.002020             ZEPHYR      0"
      ]
     },
     "execution_count": 265,
     "metadata": {},
     "output_type": "execute_result"
    }
   ],
   "source": [
    "# Create a new DataFrame using the clustered_df DataFrame index that contains the scaled data\n",
    "index_values = (clustered_df.index.tolist())\n",
    "plot_df = pd.DataFrame(\n",
    "    data = X_minmax, columns=[\"TotalCoinSupply_scaled\", \"TotalCoinsMined_scaled\"], index = index_values)\n",
    "\n",
    "# Add the CoinName column from the clustered_df DataFrame to the new DataFrame.\n",
    "plot_df['CoinName'] = clustered_df['CoinName'] \n",
    "\n",
    "# Add the Class column from the clustered_df DataFrame to the new DataFrame. \n",
    "plot_df['Class'] = clustered_df['Class'] \n",
    "\n",
    "plot_df.head(10)"
   ]
  },
  {
   "cell_type": "code",
   "execution_count": 266,
   "metadata": {},
   "outputs": [
    {
     "data": {},
     "metadata": {},
     "output_type": "display_data"
    },
    {
     "data": {
      "application/vnd.holoviews_exec.v0+json": "",
      "text/html": [
       "<div id='3311'>\n",
       "\n",
       "\n",
       "\n",
       "\n",
       "\n",
       "  <div class=\"bk-root\" id=\"367a282e-84b6-4661-8049-f959c7d23f91\" data-root-id=\"3311\"></div>\n",
       "</div>\n",
       "<script type=\"application/javascript\">(function(root) {\n",
       "  function embed_document(root) {\n",
       "    var docs_json = {\"03e25f8a-5549-45e1-8aae-f270b1fef93d\":{\"defs\":[{\"extends\":null,\"module\":null,\"name\":\"ReactiveHTML1\",\"overrides\":[],\"properties\":[]},{\"extends\":null,\"module\":null,\"name\":\"FlexBox1\",\"overrides\":[],\"properties\":[{\"default\":\"flex-start\",\"kind\":null,\"name\":\"align_content\"},{\"default\":\"flex-start\",\"kind\":null,\"name\":\"align_items\"},{\"default\":\"row\",\"kind\":null,\"name\":\"flex_direction\"},{\"default\":\"wrap\",\"kind\":null,\"name\":\"flex_wrap\"},{\"default\":\"flex-start\",\"kind\":null,\"name\":\"justify_content\"}]},{\"extends\":null,\"module\":null,\"name\":\"TemplateActions1\",\"overrides\":[],\"properties\":[{\"default\":0,\"kind\":null,\"name\":\"open_modal\"},{\"default\":0,\"kind\":null,\"name\":\"close_modal\"}]},{\"extends\":null,\"module\":null,\"name\":\"MaterialTemplateActions1\",\"overrides\":[],\"properties\":[{\"default\":0,\"kind\":null,\"name\":\"open_modal\"},{\"default\":0,\"kind\":null,\"name\":\"close_modal\"}]}],\"roots\":{\"references\":[{\"attributes\":{\"margin\":[5,5,5,5],\"name\":\"HSpacer06289\",\"sizing_mode\":\"stretch_width\"},\"id\":\"3312\",\"type\":\"Spacer\"},{\"attributes\":{},\"id\":\"3356\",\"type\":\"Selection\"},{\"attributes\":{\"coordinates\":null,\"data_source\":{\"id\":\"3376\"},\"glyph\":{\"id\":\"3379\"},\"group\":null,\"hover_glyph\":null,\"muted_glyph\":{\"id\":\"3381\"},\"nonselection_glyph\":{\"id\":\"3380\"},\"selection_glyph\":{\"id\":\"3397\"},\"view\":{\"id\":\"3383\"}},\"id\":\"3382\",\"type\":\"GlyphRenderer\"},{\"attributes\":{\"source\":{\"id\":\"3355\"}},\"id\":\"3362\",\"type\":\"CDSView\"},{\"attributes\":{},\"id\":\"3333\",\"type\":\"BasicTicker\"},{\"attributes\":{\"fill_alpha\":{\"value\":0.2},\"fill_color\":{\"value\":\"#30a2da\"},\"hatch_alpha\":{\"value\":0.2},\"hatch_color\":{\"value\":\"#30a2da\"},\"line_alpha\":{\"value\":0.2},\"line_color\":{\"value\":\"#30a2da\"},\"size\":{\"value\":5.477225575051661},\"x\":{\"field\":\"TotalCoinsMined_scaled\"},\"y\":{\"field\":\"TotalCoinSupply_scaled\"}},\"id\":\"3360\",\"type\":\"Scatter\"},{\"attributes\":{},\"id\":\"3329\",\"type\":\"BasicTicker\"},{\"attributes\":{\"fill_alpha\":{\"value\":0.1},\"fill_color\":{\"value\":\"#fc4f30\"},\"hatch_alpha\":{\"value\":0.1},\"hatch_color\":{\"value\":\"#fc4f30\"},\"line_alpha\":{\"value\":0.1},\"line_color\":{\"value\":\"#fc4f30\"},\"size\":{\"value\":5.477225575051661},\"x\":{\"field\":\"TotalCoinsMined_scaled\"},\"y\":{\"field\":\"TotalCoinSupply_scaled\"}},\"id\":\"3380\",\"type\":\"Scatter\"},{\"attributes\":{},\"id\":\"3443\",\"type\":\"UnionRenderers\"},{\"attributes\":{},\"id\":\"3354\",\"type\":\"AllLabels\"},{\"attributes\":{},\"id\":\"3324\",\"type\":\"LinearScale\"},{\"attributes\":{},\"id\":\"3370\",\"type\":\"UnionRenderers\"},{\"attributes\":{},\"id\":\"3417\",\"type\":\"UnionRenderers\"},{\"attributes\":{\"axis\":{\"id\":\"3328\"},\"coordinates\":null,\"grid_line_color\":null,\"group\":null,\"ticker\":null},\"id\":\"3331\",\"type\":\"Grid\"},{\"attributes\":{\"angle\":{\"value\":0.0},\"fill_alpha\":{\"value\":1.0},\"fill_color\":{\"value\":\"#6d904f\"},\"hatch_alpha\":{\"value\":1.0},\"hatch_color\":{\"value\":\"#6d904f\"},\"hatch_scale\":{\"value\":12.0},\"hatch_weight\":{\"value\":1.0},\"line_alpha\":{\"value\":1.0},\"line_cap\":{\"value\":\"butt\"},\"line_color\":{\"value\":\"#6d904f\"},\"line_dash\":{\"value\":[]},\"line_dash_offset\":{\"value\":0},\"line_join\":{\"value\":\"bevel\"},\"line_width\":{\"value\":1},\"marker\":{\"value\":\"circle\"},\"size\":{\"value\":5.477225575051661},\"x\":{\"field\":\"TotalCoinsMined_scaled\"},\"y\":{\"field\":\"TotalCoinSupply_scaled\"}},\"id\":\"3447\",\"type\":\"Scatter\"},{\"attributes\":{\"label\":{\"value\":\"2\"},\"renderers\":[{\"id\":\"3404\"}]},\"id\":\"3420\",\"type\":\"LegendItem\"},{\"attributes\":{\"coordinates\":null,\"group\":null,\"text_color\":\"black\",\"text_font_size\":\"12pt\"},\"id\":\"3320\",\"type\":\"Title\"},{\"attributes\":{\"label\":{\"value\":\"3\"},\"renderers\":[{\"id\":\"3428\"}]},\"id\":\"3446\",\"type\":\"LegendItem\"},{\"attributes\":{\"end\":1.1,\"reset_end\":1.1,\"reset_start\":-0.1,\"start\":-0.1,\"tags\":[[[\"TotalCoinSupply_scaled\",\"TotalCoinSupply_scaled\",null]]]},\"id\":\"3314\",\"type\":\"Range1d\"},{\"attributes\":{},\"id\":\"3326\",\"type\":\"LinearScale\"},{\"attributes\":{\"fill_alpha\":{\"value\":0.2},\"fill_color\":{\"value\":\"#fc4f30\"},\"hatch_alpha\":{\"value\":0.2},\"hatch_color\":{\"value\":\"#fc4f30\"},\"line_alpha\":{\"value\":0.2},\"line_color\":{\"value\":\"#fc4f30\"},\"size\":{\"value\":5.477225575051661},\"x\":{\"field\":\"TotalCoinsMined_scaled\"},\"y\":{\"field\":\"TotalCoinSupply_scaled\"}},\"id\":\"3381\",\"type\":\"Scatter\"},{\"attributes\":{\"angle\":{\"value\":0.0},\"fill_alpha\":{\"value\":1.0},\"fill_color\":{\"value\":\"#e5ae38\"},\"hatch_alpha\":{\"value\":1.0},\"hatch_color\":{\"value\":\"#e5ae38\"},\"hatch_scale\":{\"value\":12.0},\"hatch_weight\":{\"value\":1.0},\"line_alpha\":{\"value\":1.0},\"line_cap\":{\"value\":\"butt\"},\"line_color\":{\"value\":\"#e5ae38\"},\"line_dash\":{\"value\":[]},\"line_dash_offset\":{\"value\":0},\"line_join\":{\"value\":\"bevel\"},\"line_width\":{\"value\":1},\"marker\":{\"value\":\"circle\"},\"size\":{\"value\":5.477225575051661},\"x\":{\"field\":\"TotalCoinsMined_scaled\"},\"y\":{\"field\":\"TotalCoinSupply_scaled\"}},\"id\":\"3421\",\"type\":\"Scatter\"},{\"attributes\":{\"axis_label\":\"Total Coin Supply\",\"coordinates\":null,\"formatter\":{\"id\":\"3353\"},\"group\":null,\"major_label_policy\":{\"id\":\"3354\"},\"ticker\":{\"id\":\"3333\"}},\"id\":\"3332\",\"type\":\"LinearAxis\"},{\"attributes\":{\"axis_label\":\"Total Coins Mined\",\"coordinates\":null,\"formatter\":{\"id\":\"3350\"},\"group\":null,\"major_label_policy\":{\"id\":\"3351\"},\"ticker\":{\"id\":\"3329\"}},\"id\":\"3328\",\"type\":\"LinearAxis\"},{\"attributes\":{},\"id\":\"3393\",\"type\":\"UnionRenderers\"},{\"attributes\":{\"angle\":{\"value\":0.0},\"fill_alpha\":{\"value\":1.0},\"fill_color\":{\"value\":\"#fc4f30\"},\"hatch_alpha\":{\"value\":1.0},\"hatch_color\":{\"value\":\"#fc4f30\"},\"hatch_scale\":{\"value\":12.0},\"hatch_weight\":{\"value\":1.0},\"line_alpha\":{\"value\":1.0},\"line_cap\":{\"value\":\"butt\"},\"line_color\":{\"value\":\"#fc4f30\"},\"line_dash\":{\"value\":[]},\"line_dash_offset\":{\"value\":0},\"line_join\":{\"value\":\"bevel\"},\"line_width\":{\"value\":1},\"marker\":{\"value\":\"circle\"},\"size\":{\"value\":5.477225575051661},\"x\":{\"field\":\"TotalCoinsMined_scaled\"},\"y\":{\"field\":\"TotalCoinSupply_scaled\"}},\"id\":\"3397\",\"type\":\"Scatter\"},{\"attributes\":{\"axis\":{\"id\":\"3332\"},\"coordinates\":null,\"dimension\":1,\"grid_line_color\":null,\"group\":null,\"ticker\":null},\"id\":\"3335\",\"type\":\"Grid\"},{\"attributes\":{\"fill_alpha\":{\"value\":0.1},\"fill_color\":{\"value\":\"#6d904f\"},\"hatch_alpha\":{\"value\":0.1},\"hatch_color\":{\"value\":\"#6d904f\"},\"line_alpha\":{\"value\":0.1},\"line_color\":{\"value\":\"#6d904f\"},\"size\":{\"value\":5.477225575051661},\"x\":{\"field\":\"TotalCoinsMined_scaled\"},\"y\":{\"field\":\"TotalCoinSupply_scaled\"}},\"id\":\"3426\",\"type\":\"Scatter\"},{\"attributes\":{\"label\":{\"value\":\"1\"},\"renderers\":[{\"id\":\"3382\"}]},\"id\":\"3396\",\"type\":\"LegendItem\"},{\"attributes\":{\"source\":{\"id\":\"3376\"}},\"id\":\"3383\",\"type\":\"CDSView\"},{\"attributes\":{\"fill_alpha\":{\"value\":0.2},\"fill_color\":{\"value\":\"#6d904f\"},\"hatch_alpha\":{\"value\":0.2},\"hatch_color\":{\"value\":\"#6d904f\"},\"line_alpha\":{\"value\":0.2},\"line_color\":{\"value\":\"#6d904f\"},\"size\":{\"value\":5.477225575051661},\"x\":{\"field\":\"TotalCoinsMined_scaled\"},\"y\":{\"field\":\"TotalCoinSupply_scaled\"}},\"id\":\"3427\",\"type\":\"Scatter\"},{\"attributes\":{\"coordinates\":null,\"data_source\":{\"id\":\"3398\"},\"glyph\":{\"id\":\"3401\"},\"group\":null,\"hover_glyph\":null,\"muted_glyph\":{\"id\":\"3403\"},\"nonselection_glyph\":{\"id\":\"3402\"},\"selection_glyph\":{\"id\":\"3421\"},\"view\":{\"id\":\"3405\"}},\"id\":\"3404\",\"type\":\"GlyphRenderer\"},{\"attributes\":{},\"id\":\"3399\",\"type\":\"Selection\"},{\"attributes\":{},\"id\":\"3377\",\"type\":\"Selection\"},{\"attributes\":{\"coordinates\":null,\"data_source\":{\"id\":\"3355\"},\"glyph\":{\"id\":\"3358\"},\"group\":null,\"hover_glyph\":null,\"muted_glyph\":{\"id\":\"3360\"},\"nonselection_glyph\":{\"id\":\"3359\"},\"selection_glyph\":{\"id\":\"3375\"},\"view\":{\"id\":\"3362\"}},\"id\":\"3361\",\"type\":\"GlyphRenderer\"},{\"attributes\":{\"fill_alpha\":{\"value\":0.1},\"fill_color\":{\"value\":\"#e5ae38\"},\"hatch_alpha\":{\"value\":0.1},\"hatch_color\":{\"value\":\"#e5ae38\"},\"line_alpha\":{\"value\":0.1},\"line_color\":{\"value\":\"#e5ae38\"},\"size\":{\"value\":5.477225575051661},\"x\":{\"field\":\"TotalCoinsMined_scaled\"},\"y\":{\"field\":\"TotalCoinSupply_scaled\"}},\"id\":\"3402\",\"type\":\"Scatter\"},{\"attributes\":{\"fill_color\":{\"value\":\"#6d904f\"},\"hatch_color\":{\"value\":\"#6d904f\"},\"line_color\":{\"value\":\"#6d904f\"},\"size\":{\"value\":5.477225575051661},\"x\":{\"field\":\"TotalCoinsMined_scaled\"},\"y\":{\"field\":\"TotalCoinSupply_scaled\"}},\"id\":\"3425\",\"type\":\"Scatter\"},{\"attributes\":{\"data\":{\"Class\":[1,1,1,1,1,1,1,1,1,1,1,1,1,1,1,1,1,1,1,1,1,1,1,1,1,1,1,1,1,1,1,1,1,1,1,1,1,1,1,1,1,1,1,1,1,1,1,1,1,1,1,1,1,1,1,1,1,1,1,1,1,1,1,1,1,1,1,1,1,1,1,1,1,1,1,1,1,1,1,1,1,1,1,1,1,1,1,1,1,1,1,1,1,1,1,1,1,1,1,1,1,1,1,1,1,1,1,1,1,1,1,1,1,1,1,1,1,1,1,1,1,1,1,1,1,1,1,1,1,1,1,1,1,1,1,1,1,1,1,1,1,1,1,1,1,1,1,1,1,1,1,1,1,1,1,1,1,1,1,1,1,1,1,1,1,1,1,1,1,1,1,1,1,1,1,1,1,1,1,1,1,1,1,1,1,1,1,1,1,1,1,1,1,1,1,1,1,1,1,1,1,1,1,1,1,1,1,1,1,1,1,1,1,1,1,1,1,1,1,1,1,1,1,1,1,1,1,1,1,1,1,1,1,1,1,1,1,1,1],\"TotalCoinSupply_scaled\":{\"__ndarray__\":\"vHmqQ26GGz9pHVVNEHUfP1rTvOMUHbk/je21oPfGED/Jx+4CJQX2Pvyp8dJNYkA/+py7XS9NAT8vbqMBvAVCP8nH7gIlBQY/kst/SL99XT8sQxzr4jYaPxsv3SQGgYU/mZmZmZmZqT8sQxzr4jb6PnsUrkfheoQ//Knx0k1iUD+S762jBcP0PixDHOviNho/vHmqQ26GKz/Jx+4CJQUWP8nH7gIlBfY+Iw9EFmniLT/waOOItfjUPsWtghjo2ic/8GjjiLX49D78qfHSTWJQP2hNPRxu0fM+AAAAAAAAAABpHVVNEHUPP3uFBfcDHvg+LEMc6+I2Gj82oPInYnwVP/Bo44i1+AQ/ycfuAiUF9j4sQxzr4jYaPz+rzJTW3/I+svaBKLtACT8MuN+Iiy/MPvBLP9l7jhs/VwJQYS6Q5z5g5Uf1d0ZXP8nH7gIlBRY/ycfuAiUF9j68eapDboYrP/yp8dJNYjA/SK+8mvLXCj/8qfHSTWIwP/BLP9l7jis/LEMc6+I2Gj/8qfHSTWJwP/yp8dJNYjA/+n5qvHST2D/Jx+4CJQX2Po3ttaD3xgA/8Es/2XuO6z7ZzvdT46WLP2dqUYLixMY+mZmZmZmZyT/Jx+4CJQUWPyxDHOviNvo+YTJVMCqpEz9E5fCbkzb0Pj+rzJTW3xI/je21oPfGED+pWVZQB2jxPoYGlqZ3nwI/ycfuAiUF9j78qfHSTWJQP8nH7gIlBfY+D0a5gUfZkj9aZDvfT423P3sUrkfheoQ/ycfuAiUFBj/waOOItfjkPj+rzJTW3/I+NvzifD+vpD7waOOItfj0PrgehetRuI4/aR1VTRB1/z4vbqMBvAVSPxC6QRvWLfc+x7q4jQbwNj+ZmZmZmZm5PyxDHOviNvo+LEMc6+I2Gj/8qfHSTWJAP+F8nEfhenQ/5TOPsjSmtj63fY/66xU2P/Bo44i1+PQ+EIbapwVlMT/ehccd5EfMPvBo44i1+PQ+e4UF9wMe+D4QhtqnBWUxP/yp8dJNYlA/8GjjiLX4JD9a1mVHlgvGPuTaPodGyaQ+W/Vl2/zOJT/Was2n7hAmP9L7xteeWRI/exSuR+F6hD+5x9OsU/ASP2+BBMWPMbc/vHmqQ26GWz8sQxzr4jYqPwAAAAAAAAAAeWCv69alCD/waOOItfgUP43ttaD3xvA+r2BdwUa68T57FK5H4XqEPzZ4sbJurfk+ObTIdr6fej/S+8bXnlkyPwAAAAAAAAAAvHmqQ26GKz9ocXvtfnr7PhWMSuoENGE/ycfuAiUF9j7Jx+4CJQX2PsWPMXctIX8/0vvG155ZEj9f8XWN5iX3PsnH7gIlBfY+do/HZw05MT9mTMEaZ9PxPsnH7gIlBfY+vHmqQ26GGz8sQxzr4jYaP8nH7gIlBRY/pFNXPsvzkD9hMlUwKqlTP9rmxvSEJV4/ycfuAiUFFj9hMlUwKqkzP8nH7gIlBeY+hrpZzYRw9j4BiLt6FRlNP8nH7gIlBfY+L26jAbwFUj+UQrkhCD8RP+41tGW1+OQ+8Es/2XuO+z57FK5H4Xp0P8nH7gIlBSY/LEMc6+I2+j4sQxzr4jYqP8nH7gIlBfY+ycfuAiUF9j78qfHSTWJgPxsv3SQGgZU/EXF8Th67wj7OcAM+P4yAP3sUrkfheoQ/wvUoXI/CtT8sQxzr4jbqPsnH7gIlBfY+PDcbTSupQz/8nTdfNkvzPlpkO99Pjcc/aR1VTRB1/z57hQX3Ax74PgAAAAAAAAAANV8+o/1MNj84AUfvTXT6PnnpJjEIrHw/rpeU33uOGz8K16NwPQq3PwAAAAAAAAAAOBuRDKGcxz/waOOItfjkPvyp8dJNYlA/YIu+dztNFz9pHVVNEHX/Pi+IOpzIfCQ/LEMc6+I2Gj8twS+PQR4XP3npJjEIrFw/AAAAAAAAAABW8UbmkT8oP7x5qkNuhhs/insV4XIxAD8ytSUbIWBQP2EyVTAqqSM/ycfuAiUFNj8AAAAAAADwP/yp8dJNYlA/3gAz38FPDD/53kqU9fBWP/yp8dJNYmA/LEMc6+I2+j5b64uEtpzHPwAAAAAAAAAAycfuAiUFFj9fGWVH9HzHPixDHOviNho/AAAAAAAAAAAziA/s+C8wPwVQOYtkT+Y+OIQqNXugRT+tjcX3RCX1PnsUrkfhemQ/hiiopvlq5D5U5BBxcyr5PsnH7gIlBfY+ycfuAiUF9j7Jx+4CJQX2PsnH7gIlBfY+ycfuAiUF9j6JvrP+ZEEmPw7W/znMlwc/DLjfiIsvDD/Jx+4CJQUGPxWMSuoENGE/LEMc6+I2Gj/Jx+4CJQX2PsnH7gIlBRY/je21oPfGkD4bL90kBoGVP4EoVhUzJZY/ycfuAiUFJj+N7bWg98YQP8nH7gIlBfY+ycfuAiUF9j4H04s1t53BPt4wG64frAA/kJR9za6lMz8O1v85zJcHP8nH7gIlBTY/3gAz38FP/D4bL90kBoGVP/yp8dJNYnA/ycfuAiUF9j7Jx+4CJQX2PsrwgRhGTAk//Knx0k1iQD8sQxzr4jYqPw==\",\"dtype\":\"float64\",\"order\":\"little\",\"shape\":[239]},\"TotalCoinsMined_scaled\":{\"__ndarray__\":\"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\",\"dtype\":\"float64\",\"order\":\"little\",\"shape\":[239]}},\"selected\":{\"id\":\"3377\"},\"selection_policy\":{\"id\":\"3393\"}},\"id\":\"3376\",\"type\":\"ColumnDataSource\"},{\"attributes\":{},\"id\":\"3423\",\"type\":\"Selection\"},{\"attributes\":{\"bottom_units\":\"screen\",\"coordinates\":null,\"fill_alpha\":0.5,\"fill_color\":\"lightgrey\",\"group\":null,\"left_units\":\"screen\",\"level\":\"overlay\",\"line_alpha\":1.0,\"line_color\":\"black\",\"line_dash\":[4,4],\"line_width\":2,\"right_units\":\"screen\",\"syncable\":false,\"top_units\":\"screen\"},\"id\":\"3341\",\"type\":\"BoxAnnotation\"},{\"attributes\":{\"source\":{\"id\":\"3422\"}},\"id\":\"3429\",\"type\":\"CDSView\"},{\"attributes\":{},\"id\":\"3336\",\"type\":\"SaveTool\"},{\"attributes\":{\"fill_alpha\":{\"value\":0.2},\"fill_color\":{\"value\":\"#e5ae38\"},\"hatch_alpha\":{\"value\":0.2},\"hatch_color\":{\"value\":\"#e5ae38\"},\"line_alpha\":{\"value\":0.2},\"line_color\":{\"value\":\"#e5ae38\"},\"size\":{\"value\":5.477225575051661},\"x\":{\"field\":\"TotalCoinsMined_scaled\"},\"y\":{\"field\":\"TotalCoinSupply_scaled\"}},\"id\":\"3403\",\"type\":\"Scatter\"},{\"attributes\":{},\"id\":\"3337\",\"type\":\"PanTool\"},{\"attributes\":{},\"id\":\"3340\",\"type\":\"ResetTool\"},{\"attributes\":{\"fill_alpha\":{\"value\":0.1},\"fill_color\":{\"value\":\"#30a2da\"},\"hatch_alpha\":{\"value\":0.1},\"hatch_color\":{\"value\":\"#30a2da\"},\"line_alpha\":{\"value\":0.1},\"line_color\":{\"value\":\"#30a2da\"},\"size\":{\"value\":5.477225575051661},\"x\":{\"field\":\"TotalCoinsMined_scaled\"},\"y\":{\"field\":\"TotalCoinSupply_scaled\"}},\"id\":\"3359\",\"type\":\"Scatter\"},{\"attributes\":{},\"id\":\"3338\",\"type\":\"WheelZoomTool\"},{\"attributes\":{\"click_policy\":\"mute\",\"coordinates\":null,\"group\":null,\"items\":[{\"id\":\"3374\"},{\"id\":\"3396\"},{\"id\":\"3420\"},{\"id\":\"3446\"}],\"location\":[0,0],\"title\":\"Class\"},\"id\":\"3373\",\"type\":\"Legend\"},{\"attributes\":{\"angle\":{\"value\":0.0},\"fill_alpha\":{\"value\":1.0},\"fill_color\":{\"value\":\"#30a2da\"},\"hatch_alpha\":{\"value\":1.0},\"hatch_color\":{\"value\":\"#30a2da\"},\"hatch_scale\":{\"value\":12.0},\"hatch_weight\":{\"value\":1.0},\"line_alpha\":{\"value\":1.0},\"line_cap\":{\"value\":\"butt\"},\"line_color\":{\"value\":\"#30a2da\"},\"line_dash\":{\"value\":[]},\"line_dash_offset\":{\"value\":0},\"line_join\":{\"value\":\"bevel\"},\"line_width\":{\"value\":1},\"marker\":{\"value\":\"circle\"},\"size\":{\"value\":5.477225575051661},\"x\":{\"field\":\"TotalCoinsMined_scaled\"},\"y\":{\"field\":\"TotalCoinSupply_scaled\"}},\"id\":\"3375\",\"type\":\"Scatter\"},{\"attributes\":{\"coordinates\":null,\"data_source\":{\"id\":\"3422\"},\"glyph\":{\"id\":\"3425\"},\"group\":null,\"hover_glyph\":null,\"muted_glyph\":{\"id\":\"3427\"},\"nonselection_glyph\":{\"id\":\"3426\"},\"selection_glyph\":{\"id\":\"3447\"},\"view\":{\"id\":\"3429\"}},\"id\":\"3428\",\"type\":\"GlyphRenderer\"},{\"attributes\":{\"source\":{\"id\":\"3398\"}},\"id\":\"3405\",\"type\":\"CDSView\"},{\"attributes\":{\"callback\":null,\"renderers\":[{\"id\":\"3361\"},{\"id\":\"3382\"},{\"id\":\"3404\"},{\"id\":\"3428\"}],\"tags\":[\"hv_created\"],\"tooltips\":[[\"Class\",\"@{Class}\"],[\"TotalCoinsMined_scaled\",\"@{TotalCoinsMined_scaled}\"],[\"TotalCoinSupply_scaled\",\"@{TotalCoinSupply_scaled}\"]]},\"id\":\"3315\",\"type\":\"HoverTool\"},{\"attributes\":{\"overlay\":{\"id\":\"3341\"}},\"id\":\"3339\",\"type\":\"BoxZoomTool\"},{\"attributes\":{},\"id\":\"3353\",\"type\":\"BasicTickFormatter\"},{\"attributes\":{\"data\":{\"Class\":[0,0,0,0,0,0,0,0,0,0,0,0,0,0,0,0,0,0,0,0,0,0,0,0,0,0,0,0,0,0,0,0,0,0,0,0,0,0,0,0,0,0,0,0,0,0,0,0,0,0,0,0,0,0,0,0,0,0,0,0,0,0,0,0,0,0,0,0,0,0,0,0,0,0,0,0,0,0,0,0,0,0,0,0,0,0,0,0,0,0,0,0,0,0,0,0,0,0,0,0,0,0,0,0,0,0,0,0,0,0,0,0,0,0,0,0,0,0,0,0,0,0,0,0,0,0,0,0,0,0,0,0,0,0,0,0,0,0,0,0,0,0,0,0,0,0,0,0,0,0,0,0,0,0,0,0,0,0,0,0,0,0,0,0,0,0,0,0,0,0,0,0,0,0,0,0,0,0,0,0,0,0,0,0,0,0,0,0,0,0,0,0,0,0,0,0,0,0,0,0,0,0,0,0,0,0,0,0,0,0,0,0,0,0,0,0,0,0,0,0,0,0,0,0,0,0,0,0,0,0,0,0,0,0,0,0,0,0,0,0,0,0,0,0,0,0,0,0,0,0,0,0,0,0,0,0,0,0,0,0,0,0,0,0,0,0,0,0,0,0,0,0,0,0,0,0,0,0,0,0,0,0,0,0,0,0,0,0],\"TotalCoinSupply_scaled\":{\"__ndarray__\":\"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\",\"dtype\":\"float64\",\"order\":\"little\",\"shape\":[288]},\"TotalCoinsMined_scaled\":{\"__ndarray__\":\"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\",\"dtype\":\"float64\",\"order\":\"little\",\"shape\":[288]}},\"selected\":{\"id\":\"3356\"},\"selection_policy\":{\"id\":\"3370\"}},\"id\":\"3355\",\"type\":\"ColumnDataSource\"},{\"attributes\":{\"data\":{\"Class\":[3,3,3,3],\"TotalCoinSupply_scaled\":{\"__ndarray__\":\"/Knx0k1iUD+U9gZfmEx1P4RaKOGWizA/vHmqQ26GSz8=\",\"dtype\":\"float64\",\"order\":\"little\",\"shape\":[4]},\"TotalCoinsMined_scaled\":{\"__ndarray__\":\"ekNDBbiMUD+PWA2R2lNdP5wZJXiPEis/kKTF8kohRT8=\",\"dtype\":\"float64\",\"order\":\"little\",\"shape\":[4]}},\"selected\":{\"id\":\"3423\"},\"selection_policy\":{\"id\":\"3443\"}},\"id\":\"3422\",\"type\":\"ColumnDataSource\"},{\"attributes\":{\"fill_color\":{\"value\":\"#fc4f30\"},\"hatch_color\":{\"value\":\"#fc4f30\"},\"line_color\":{\"value\":\"#fc4f30\"},\"size\":{\"value\":5.477225575051661},\"x\":{\"field\":\"TotalCoinsMined_scaled\"},\"y\":{\"field\":\"TotalCoinSupply_scaled\"}},\"id\":\"3379\",\"type\":\"Scatter\"},{\"attributes\":{\"data\":{\"Class\":[2],\"TotalCoinSupply_scaled\":{\"__ndarray__\":\"rkfhehSu7z8=\",\"dtype\":\"float64\",\"order\":\"little\",\"shape\":[1]},\"TotalCoinsMined_scaled\":{\"__ndarray__\":\"AAAAAAAA8D8=\",\"dtype\":\"float64\",\"order\":\"little\",\"shape\":[1]}},\"selected\":{\"id\":\"3399\"},\"selection_policy\":{\"id\":\"3417\"}},\"id\":\"3398\",\"type\":\"ColumnDataSource\"},{\"attributes\":{\"label\":{\"value\":\"0\"},\"renderers\":[{\"id\":\"3361\"}]},\"id\":\"3374\",\"type\":\"LegendItem\"},{\"attributes\":{\"margin\":[5,5,5,5],\"name\":\"HSpacer06290\",\"sizing_mode\":\"stretch_width\"},\"id\":\"3592\",\"type\":\"Spacer\"},{\"attributes\":{\"end\":1.042857142857143,\"reset_end\":1.042857142857143,\"reset_start\":-0.04285714285714286,\"start\":-0.04285714285714286,\"tags\":[[[\"TotalCoinsMined_scaled\",\"TotalCoinsMined_scaled\",null]]]},\"id\":\"3313\",\"type\":\"Range1d\"},{\"attributes\":{\"tools\":[{\"id\":\"3315\"},{\"id\":\"3336\"},{\"id\":\"3337\"},{\"id\":\"3338\"},{\"id\":\"3339\"},{\"id\":\"3340\"}]},\"id\":\"3342\",\"type\":\"Toolbar\"},{\"attributes\":{\"fill_color\":{\"value\":\"#30a2da\"},\"hatch_color\":{\"value\":\"#30a2da\"},\"line_color\":{\"value\":\"#30a2da\"},\"size\":{\"value\":5.477225575051661},\"x\":{\"field\":\"TotalCoinsMined_scaled\"},\"y\":{\"field\":\"TotalCoinSupply_scaled\"}},\"id\":\"3358\",\"type\":\"Scatter\"},{\"attributes\":{},\"id\":\"3350\",\"type\":\"BasicTickFormatter\"},{\"attributes\":{},\"id\":\"3351\",\"type\":\"AllLabels\"},{\"attributes\":{\"below\":[{\"id\":\"3328\"}],\"center\":[{\"id\":\"3331\"},{\"id\":\"3335\"}],\"height\":300,\"left\":[{\"id\":\"3332\"}],\"margin\":[5,5,5,5],\"min_border_bottom\":10,\"min_border_left\":10,\"min_border_right\":10,\"min_border_top\":10,\"renderers\":[{\"id\":\"3361\"},{\"id\":\"3382\"},{\"id\":\"3404\"},{\"id\":\"3428\"}],\"right\":[{\"id\":\"3373\"}],\"sizing_mode\":\"fixed\",\"title\":{\"id\":\"3320\"},\"toolbar\":{\"id\":\"3342\"},\"width\":700,\"x_range\":{\"id\":\"3313\"},\"x_scale\":{\"id\":\"3324\"},\"y_range\":{\"id\":\"3314\"},\"y_scale\":{\"id\":\"3326\"}},\"id\":\"3319\",\"subtype\":\"Figure\",\"type\":\"Plot\"},{\"attributes\":{\"fill_color\":{\"value\":\"#e5ae38\"},\"hatch_color\":{\"value\":\"#e5ae38\"},\"line_color\":{\"value\":\"#e5ae38\"},\"size\":{\"value\":5.477225575051661},\"x\":{\"field\":\"TotalCoinsMined_scaled\"},\"y\":{\"field\":\"TotalCoinSupply_scaled\"}},\"id\":\"3401\",\"type\":\"Scatter\"},{\"attributes\":{\"children\":[{\"id\":\"3312\"},{\"id\":\"3319\"},{\"id\":\"3592\"}],\"margin\":[0,0,0,0],\"name\":\"Row06285\",\"tags\":[\"embedded\"]},\"id\":\"3311\",\"type\":\"Row\"}],\"root_ids\":[\"3311\"]},\"title\":\"Bokeh Application\",\"version\":\"2.4.2\"}};\n",
       "    var render_items = [{\"docid\":\"03e25f8a-5549-45e1-8aae-f270b1fef93d\",\"root_ids\":[\"3311\"],\"roots\":{\"3311\":\"367a282e-84b6-4661-8049-f959c7d23f91\"}}];\n",
       "    root.Bokeh.embed.embed_items_notebook(docs_json, render_items);\n",
       "  }\n",
       "  if (root.Bokeh !== undefined && root.Bokeh.Panel !== undefined) {\n",
       "    embed_document(root);\n",
       "  } else {\n",
       "    var attempts = 0;\n",
       "    var timer = setInterval(function(root) {\n",
       "      if (root.Bokeh !== undefined && root.Bokeh.Panel !== undefined) {\n",
       "        clearInterval(timer);\n",
       "        embed_document(root);\n",
       "      } else if (document.readyState == \"complete\") {\n",
       "        attempts++;\n",
       "        if (attempts > 200) {\n",
       "          clearInterval(timer);\n",
       "          console.log(\"Bokeh: ERROR: Unable to run BokehJS code because BokehJS library is missing\");\n",
       "        }\n",
       "      }\n",
       "    }, 25, root)\n",
       "  }\n",
       "})(window);</script>"
      ],
      "text/plain": [
       ":NdOverlay   [Class]\n",
       "   :Scatter   [TotalCoinsMined_scaled]   (TotalCoinSupply_scaled)"
      ]
     },
     "execution_count": 266,
     "metadata": {
      "application/vnd.holoviews_exec.v0+json": {
       "id": "3311"
      }
     },
     "output_type": "execute_result"
    }
   ],
   "source": [
    "# Create a hvplot.scatter plot using x=\"TotalCoinsMined\" and y=\"TotalCoinSupply\".\n",
    "plot_df.hvplot.scatter(x=\"TotalCoinsMined_scaled\", y=\"TotalCoinSupply_scaled\", by=\"Class\",\n",
    "                          xlabel=\"Total Coins Mined\",\n",
    "                          ylabel=\"Total Coin Supply\",\n",
    "                          )\n"
   ]
  },
  {
   "cell_type": "code",
   "execution_count": null,
   "metadata": {},
   "outputs": [],
   "source": []
  }
 ],
 "metadata": {
  "file_extension": ".py",
  "kernelspec": {
   "display_name": "mlenv",
   "language": "python",
   "name": "mlenv"
  },
  "language_info": {
   "codemirror_mode": {
    "name": "ipython",
    "version": 3
   },
   "file_extension": ".py",
   "mimetype": "text/x-python",
   "name": "python",
   "nbconvert_exporter": "python",
   "pygments_lexer": "ipython3",
   "version": "3.7.11"
  },
  "latex_envs": {
   "LaTeX_envs_menu_present": true,
   "autoclose": false,
   "autocomplete": true,
   "bibliofile": "biblio.bib",
   "cite_by": "apalike",
   "current_citInitial": 1,
   "eqLabelWithNumbers": true,
   "eqNumInitial": 1,
   "hotkeys": {
    "equation": "Ctrl-E",
    "itemize": "Ctrl-I"
   },
   "labels_anchors": false,
   "latex_user_defs": false,
   "report_style_numbering": false,
   "user_envs_cfg": false
  },
  "mimetype": "text/x-python",
  "name": "python",
  "npconvert_exporter": "python",
  "pygments_lexer": "ipython3",
  "version": 3
 },
 "nbformat": 4,
 "nbformat_minor": 2
}
